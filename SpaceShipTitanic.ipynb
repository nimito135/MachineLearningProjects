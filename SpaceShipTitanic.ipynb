{
  "cells": [
    {
      "cell_type": "markdown",
      "metadata": {
        "id": "view-in-github",
        "colab_type": "text"
      },
      "source": [
        "<a href=\"https://colab.research.google.com/github/nimito135/MachineLearningProjects/blob/main/SpaceShipTitanic.ipynb\" target=\"_parent\"><img src=\"https://colab.research.google.com/assets/colab-badge.svg\" alt=\"Open In Colab\"/></a>"
      ]
    },
    {
      "cell_type": "markdown",
      "metadata": {
        "id": "QZGNptUlcZXL"
      },
      "source": [
        "#LOOK AT THE BIG PICTURE"
      ]
    },
    {
      "cell_type": "markdown",
      "metadata": {
        "id": "1uk1UGR5dFe3"
      },
      "source": [
        "The goal of this machine learning project is to create a model that is able of classifying whether a passenger on the Titanic spaceship was transported to an alternate dimension or not, given the metrics that define each passenger.\n",
        "The machine learning model will be used by rescue teams to know who to search for or which people to focus search and rescue efforts on."
      ]
    },
    {
      "cell_type": "markdown",
      "metadata": {
        "id": "E0n7tzDEglZG"
      },
      "source": [
        "This project is a supervised learning task, each instance has the desired label, it is also a classification task, each passenger has to be classified as $1$ if it was transported to an alternative dimension and $0$ if that passenger has to be searched.\n",
        "Specifically it is a binary classification."
      ]
    },
    {
      "cell_type": "markdown",
      "metadata": {
        "id": "DyGQCQIIiiGG"
      },
      "source": [
        "The metric of performance is the classification accuracy, the percentage of predicted labels that are correct.\n",
        "$$\n",
        "\\text{Accuracy} = \\frac{\\text{Number of correct predictions}}{\\text{Number of total predictions}} = \\frac{\\text{TP} + \\text{TN}}{\\text{TP} + \\text{TN} + \\text{FP} + \\text{FN}}\n",
        "$$\n",
        "Where:\n",
        "*   $\\text{TP}=\\text{True Positives}$\n",
        "*   $\\text{TN}=\\text{True Negatives}$\n",
        "*   $\\text{FP}=\\text{False Positives}$\n",
        "*   $\\text{FN}=\\text{False Negatives}$\n",
        "\n",
        "The model has to reach a performance of at least $75\\%$, it is the minimum value to meet the objective."
      ]
    },
    {
      "cell_type": "markdown",
      "metadata": {
        "id": "mJj4NOo92Vop"
      },
      "source": [
        "#GET THE DATA"
      ]
    },
    {
      "cell_type": "markdown",
      "metadata": {
        "id": "CYKW3fQcqENM"
      },
      "source": [
        "The need data comes from the dataset of Kaggle *Spaceship Titanic*, which has $3$ sets:\n",
        "\n",
        "*   sample_submission.csv\n",
        "*   test.csv\n",
        "*   train.csv\n",
        "\n",
        "Test and train sets have information of the passengers as name, planet of origin, planet of destiny, etc.\n",
        "\n",
        "\n",
        "\n"
      ]
    },
    {
      "cell_type": "markdown",
      "metadata": {
        "id": "fVgUUjxttVnI"
      },
      "source": [
        "##Download the Data"
      ]
    },
    {
      "cell_type": "code",
      "execution_count": null,
      "metadata": {
        "id": "SrIYGN_U0Uam"
      },
      "outputs": [],
      "source": [
        "!pip install -q kaggle"
      ]
    },
    {
      "cell_type": "code",
      "execution_count": null,
      "metadata": {
        "id": "70AO_cbP0pTU"
      },
      "outputs": [],
      "source": [
        "from google.colab import files\n",
        "files.upload()"
      ]
    },
    {
      "cell_type": "code",
      "execution_count": null,
      "metadata": {
        "id": "BoDB1Fbh05li"
      },
      "outputs": [],
      "source": [
        "!mkdir ~/.kaggle"
      ]
    },
    {
      "cell_type": "code",
      "execution_count": null,
      "metadata": {
        "id": "dP2GUYzi0_JV"
      },
      "outputs": [],
      "source": [
        "!cp kaggle.json ~/.kaggle/"
      ]
    },
    {
      "cell_type": "code",
      "execution_count": null,
      "metadata": {
        "id": "5DjthNWW1G5Y"
      },
      "outputs": [],
      "source": [
        "!chmod 600 ~/.kaggle/kaggle.json"
      ]
    },
    {
      "cell_type": "code",
      "execution_count": null,
      "metadata": {
        "colab": {
          "base_uri": "https://localhost:8080/"
        },
        "id": "3OGqGYSU1SkB",
        "outputId": "7c32bc5d-a4cd-4620-9fc6-91da1accd752"
      },
      "outputs": [
        {
          "output_type": "stream",
          "name": "stdout",
          "text": [
            "Downloading spaceship-titanic.zip to /content\n",
            "\r  0% 0.00/299k [00:00<?, ?B/s]\n",
            "\r100% 299k/299k [00:00<00:00, 71.7MB/s]\n"
          ]
        }
      ],
      "source": [
        "!kaggle competitions download -c spaceship-titanic"
      ]
    },
    {
      "cell_type": "code",
      "execution_count": null,
      "metadata": {
        "id": "i2D4G1Ok148b"
      },
      "outputs": [],
      "source": [
        "!mkdir data"
      ]
    },
    {
      "cell_type": "code",
      "execution_count": null,
      "metadata": {
        "colab": {
          "base_uri": "https://localhost:8080/"
        },
        "id": "uqvLORxE2LsT",
        "outputId": "3115fe52-6597-4380-ee7e-b06837e3143a"
      },
      "outputs": [
        {
          "output_type": "stream",
          "name": "stdout",
          "text": [
            "Archive:  spaceship-titanic.zip\n",
            "  inflating: data/sample_submission.csv  \n",
            "  inflating: data/test.csv           \n",
            "  inflating: data/train.csv          \n"
          ]
        }
      ],
      "source": [
        "!unzip spaceship-titanic.zip -d data"
      ]
    },
    {
      "cell_type": "markdown",
      "metadata": {
        "id": "RbBp6E-UuA01"
      },
      "source": [
        "##Load the data"
      ]
    },
    {
      "cell_type": "code",
      "execution_count": null,
      "metadata": {
        "id": "P2Ng55XU2Ro7"
      },
      "outputs": [],
      "source": [
        "import numpy as np\n",
        "import pandas as pd\n",
        "import os"
      ]
    },
    {
      "cell_type": "code",
      "execution_count": null,
      "metadata": {
        "id": "8trSwZxDuYYp"
      },
      "outputs": [],
      "source": [
        "DATA_SETS_PATH = \"/content/data\"\n",
        "\n",
        "def load_data(data_set_path, set_path):\n",
        "    csv_path = os.path.join(data_set_path, set_path)\n",
        "    return pd.read_csv(csv_path).copy()"
      ]
    },
    {
      "cell_type": "code",
      "execution_count": null,
      "metadata": {
        "id": "NxWFmRBqu-1y"
      },
      "outputs": [],
      "source": [
        "data_train = load_data(DATA_SETS_PATH, \"train.csv\")"
      ]
    },
    {
      "cell_type": "markdown",
      "metadata": {
        "id": "EOcxB27aC6q4"
      },
      "source": [
        "Look the structure of the data:\n",
        "The data has $14$ attributes, the attribute *Transported* is the objetive.\n",
        "There are also some attributes which are irrelevants like *PassengerId* and *Name*, and others which can be separate in more attributes as *Cabin*."
      ]
    },
    {
      "cell_type": "code",
      "execution_count": null,
      "metadata": {
        "colab": {
          "base_uri": "https://localhost:8080/",
          "height": 206
        },
        "id": "Zf3wGTUaCd6U",
        "outputId": "1d330f5d-5c04-4d25-cfb9-e74cf3cf9a8e"
      },
      "outputs": [
        {
          "output_type": "execute_result",
          "data": {
            "text/plain": [
              "  PassengerId HomePlanet CryoSleep  Cabin  Destination   Age    VIP  \\\n",
              "0     0001_01     Europa     False  B/0/P  TRAPPIST-1e  39.0  False   \n",
              "1     0002_01      Earth     False  F/0/S  TRAPPIST-1e  24.0  False   \n",
              "2     0003_01     Europa     False  A/0/S  TRAPPIST-1e  58.0   True   \n",
              "3     0003_02     Europa     False  A/0/S  TRAPPIST-1e  33.0  False   \n",
              "4     0004_01      Earth     False  F/1/S  TRAPPIST-1e  16.0  False   \n",
              "\n",
              "   RoomService  FoodCourt  ShoppingMall     Spa  VRDeck               Name  \\\n",
              "0          0.0        0.0           0.0     0.0     0.0    Maham Ofracculy   \n",
              "1        109.0        9.0          25.0   549.0    44.0       Juanna Vines   \n",
              "2         43.0     3576.0           0.0  6715.0    49.0      Altark Susent   \n",
              "3          0.0     1283.0         371.0  3329.0   193.0       Solam Susent   \n",
              "4        303.0       70.0         151.0   565.0     2.0  Willy Santantines   \n",
              "\n",
              "   Transported  \n",
              "0        False  \n",
              "1         True  \n",
              "2        False  \n",
              "3        False  \n",
              "4         True  "
            ],
            "text/html": [
              "\n",
              "  <div id=\"df-df9aeb58-84cb-46f0-b5e9-82b70fcfe9a4\" class=\"colab-df-container\">\n",
              "    <div>\n",
              "<style scoped>\n",
              "    .dataframe tbody tr th:only-of-type {\n",
              "        vertical-align: middle;\n",
              "    }\n",
              "\n",
              "    .dataframe tbody tr th {\n",
              "        vertical-align: top;\n",
              "    }\n",
              "\n",
              "    .dataframe thead th {\n",
              "        text-align: right;\n",
              "    }\n",
              "</style>\n",
              "<table border=\"1\" class=\"dataframe\">\n",
              "  <thead>\n",
              "    <tr style=\"text-align: right;\">\n",
              "      <th></th>\n",
              "      <th>PassengerId</th>\n",
              "      <th>HomePlanet</th>\n",
              "      <th>CryoSleep</th>\n",
              "      <th>Cabin</th>\n",
              "      <th>Destination</th>\n",
              "      <th>Age</th>\n",
              "      <th>VIP</th>\n",
              "      <th>RoomService</th>\n",
              "      <th>FoodCourt</th>\n",
              "      <th>ShoppingMall</th>\n",
              "      <th>Spa</th>\n",
              "      <th>VRDeck</th>\n",
              "      <th>Name</th>\n",
              "      <th>Transported</th>\n",
              "    </tr>\n",
              "  </thead>\n",
              "  <tbody>\n",
              "    <tr>\n",
              "      <th>0</th>\n",
              "      <td>0001_01</td>\n",
              "      <td>Europa</td>\n",
              "      <td>False</td>\n",
              "      <td>B/0/P</td>\n",
              "      <td>TRAPPIST-1e</td>\n",
              "      <td>39.0</td>\n",
              "      <td>False</td>\n",
              "      <td>0.0</td>\n",
              "      <td>0.0</td>\n",
              "      <td>0.0</td>\n",
              "      <td>0.0</td>\n",
              "      <td>0.0</td>\n",
              "      <td>Maham Ofracculy</td>\n",
              "      <td>False</td>\n",
              "    </tr>\n",
              "    <tr>\n",
              "      <th>1</th>\n",
              "      <td>0002_01</td>\n",
              "      <td>Earth</td>\n",
              "      <td>False</td>\n",
              "      <td>F/0/S</td>\n",
              "      <td>TRAPPIST-1e</td>\n",
              "      <td>24.0</td>\n",
              "      <td>False</td>\n",
              "      <td>109.0</td>\n",
              "      <td>9.0</td>\n",
              "      <td>25.0</td>\n",
              "      <td>549.0</td>\n",
              "      <td>44.0</td>\n",
              "      <td>Juanna Vines</td>\n",
              "      <td>True</td>\n",
              "    </tr>\n",
              "    <tr>\n",
              "      <th>2</th>\n",
              "      <td>0003_01</td>\n",
              "      <td>Europa</td>\n",
              "      <td>False</td>\n",
              "      <td>A/0/S</td>\n",
              "      <td>TRAPPIST-1e</td>\n",
              "      <td>58.0</td>\n",
              "      <td>True</td>\n",
              "      <td>43.0</td>\n",
              "      <td>3576.0</td>\n",
              "      <td>0.0</td>\n",
              "      <td>6715.0</td>\n",
              "      <td>49.0</td>\n",
              "      <td>Altark Susent</td>\n",
              "      <td>False</td>\n",
              "    </tr>\n",
              "    <tr>\n",
              "      <th>3</th>\n",
              "      <td>0003_02</td>\n",
              "      <td>Europa</td>\n",
              "      <td>False</td>\n",
              "      <td>A/0/S</td>\n",
              "      <td>TRAPPIST-1e</td>\n",
              "      <td>33.0</td>\n",
              "      <td>False</td>\n",
              "      <td>0.0</td>\n",
              "      <td>1283.0</td>\n",
              "      <td>371.0</td>\n",
              "      <td>3329.0</td>\n",
              "      <td>193.0</td>\n",
              "      <td>Solam Susent</td>\n",
              "      <td>False</td>\n",
              "    </tr>\n",
              "    <tr>\n",
              "      <th>4</th>\n",
              "      <td>0004_01</td>\n",
              "      <td>Earth</td>\n",
              "      <td>False</td>\n",
              "      <td>F/1/S</td>\n",
              "      <td>TRAPPIST-1e</td>\n",
              "      <td>16.0</td>\n",
              "      <td>False</td>\n",
              "      <td>303.0</td>\n",
              "      <td>70.0</td>\n",
              "      <td>151.0</td>\n",
              "      <td>565.0</td>\n",
              "      <td>2.0</td>\n",
              "      <td>Willy Santantines</td>\n",
              "      <td>True</td>\n",
              "    </tr>\n",
              "  </tbody>\n",
              "</table>\n",
              "</div>\n",
              "    <div class=\"colab-df-buttons\">\n",
              "\n",
              "  <div class=\"colab-df-container\">\n",
              "    <button class=\"colab-df-convert\" onclick=\"convertToInteractive('df-df9aeb58-84cb-46f0-b5e9-82b70fcfe9a4')\"\n",
              "            title=\"Convert this dataframe to an interactive table.\"\n",
              "            style=\"display:none;\">\n",
              "\n",
              "  <svg xmlns=\"http://www.w3.org/2000/svg\" height=\"24px\" viewBox=\"0 -960 960 960\">\n",
              "    <path d=\"M120-120v-720h720v720H120Zm60-500h600v-160H180v160Zm220 220h160v-160H400v160Zm0 220h160v-160H400v160ZM180-400h160v-160H180v160Zm440 0h160v-160H620v160ZM180-180h160v-160H180v160Zm440 0h160v-160H620v160Z\"/>\n",
              "  </svg>\n",
              "    </button>\n",
              "\n",
              "  <style>\n",
              "    .colab-df-container {\n",
              "      display:flex;\n",
              "      gap: 12px;\n",
              "    }\n",
              "\n",
              "    .colab-df-convert {\n",
              "      background-color: #E8F0FE;\n",
              "      border: none;\n",
              "      border-radius: 50%;\n",
              "      cursor: pointer;\n",
              "      display: none;\n",
              "      fill: #1967D2;\n",
              "      height: 32px;\n",
              "      padding: 0 0 0 0;\n",
              "      width: 32px;\n",
              "    }\n",
              "\n",
              "    .colab-df-convert:hover {\n",
              "      background-color: #E2EBFA;\n",
              "      box-shadow: 0px 1px 2px rgba(60, 64, 67, 0.3), 0px 1px 3px 1px rgba(60, 64, 67, 0.15);\n",
              "      fill: #174EA6;\n",
              "    }\n",
              "\n",
              "    .colab-df-buttons div {\n",
              "      margin-bottom: 4px;\n",
              "    }\n",
              "\n",
              "    [theme=dark] .colab-df-convert {\n",
              "      background-color: #3B4455;\n",
              "      fill: #D2E3FC;\n",
              "    }\n",
              "\n",
              "    [theme=dark] .colab-df-convert:hover {\n",
              "      background-color: #434B5C;\n",
              "      box-shadow: 0px 1px 3px 1px rgba(0, 0, 0, 0.15);\n",
              "      filter: drop-shadow(0px 1px 2px rgba(0, 0, 0, 0.3));\n",
              "      fill: #FFFFFF;\n",
              "    }\n",
              "  </style>\n",
              "\n",
              "    <script>\n",
              "      const buttonEl =\n",
              "        document.querySelector('#df-df9aeb58-84cb-46f0-b5e9-82b70fcfe9a4 button.colab-df-convert');\n",
              "      buttonEl.style.display =\n",
              "        google.colab.kernel.accessAllowed ? 'block' : 'none';\n",
              "\n",
              "      async function convertToInteractive(key) {\n",
              "        const element = document.querySelector('#df-df9aeb58-84cb-46f0-b5e9-82b70fcfe9a4');\n",
              "        const dataTable =\n",
              "          await google.colab.kernel.invokeFunction('convertToInteractive',\n",
              "                                                    [key], {});\n",
              "        if (!dataTable) return;\n",
              "\n",
              "        const docLinkHtml = 'Like what you see? Visit the ' +\n",
              "          '<a target=\"_blank\" href=https://colab.research.google.com/notebooks/data_table.ipynb>data table notebook</a>'\n",
              "          + ' to learn more about interactive tables.';\n",
              "        element.innerHTML = '';\n",
              "        dataTable['output_type'] = 'display_data';\n",
              "        await google.colab.output.renderOutput(dataTable, element);\n",
              "        const docLink = document.createElement('div');\n",
              "        docLink.innerHTML = docLinkHtml;\n",
              "        element.appendChild(docLink);\n",
              "      }\n",
              "    </script>\n",
              "  </div>\n",
              "\n",
              "\n",
              "<div id=\"df-97d1b450-7fd0-4d69-b18a-ec4c58499fdd\">\n",
              "  <button class=\"colab-df-quickchart\" onclick=\"quickchart('df-97d1b450-7fd0-4d69-b18a-ec4c58499fdd')\"\n",
              "            title=\"Suggest charts\"\n",
              "            style=\"display:none;\">\n",
              "\n",
              "<svg xmlns=\"http://www.w3.org/2000/svg\" height=\"24px\"viewBox=\"0 0 24 24\"\n",
              "     width=\"24px\">\n",
              "    <g>\n",
              "        <path d=\"M19 3H5c-1.1 0-2 .9-2 2v14c0 1.1.9 2 2 2h14c1.1 0 2-.9 2-2V5c0-1.1-.9-2-2-2zM9 17H7v-7h2v7zm4 0h-2V7h2v10zm4 0h-2v-4h2v4z\"/>\n",
              "    </g>\n",
              "</svg>\n",
              "  </button>\n",
              "\n",
              "<style>\n",
              "  .colab-df-quickchart {\n",
              "      --bg-color: #E8F0FE;\n",
              "      --fill-color: #1967D2;\n",
              "      --hover-bg-color: #E2EBFA;\n",
              "      --hover-fill-color: #174EA6;\n",
              "      --disabled-fill-color: #AAA;\n",
              "      --disabled-bg-color: #DDD;\n",
              "  }\n",
              "\n",
              "  [theme=dark] .colab-df-quickchart {\n",
              "      --bg-color: #3B4455;\n",
              "      --fill-color: #D2E3FC;\n",
              "      --hover-bg-color: #434B5C;\n",
              "      --hover-fill-color: #FFFFFF;\n",
              "      --disabled-bg-color: #3B4455;\n",
              "      --disabled-fill-color: #666;\n",
              "  }\n",
              "\n",
              "  .colab-df-quickchart {\n",
              "    background-color: var(--bg-color);\n",
              "    border: none;\n",
              "    border-radius: 50%;\n",
              "    cursor: pointer;\n",
              "    display: none;\n",
              "    fill: var(--fill-color);\n",
              "    height: 32px;\n",
              "    padding: 0;\n",
              "    width: 32px;\n",
              "  }\n",
              "\n",
              "  .colab-df-quickchart:hover {\n",
              "    background-color: var(--hover-bg-color);\n",
              "    box-shadow: 0 1px 2px rgba(60, 64, 67, 0.3), 0 1px 3px 1px rgba(60, 64, 67, 0.15);\n",
              "    fill: var(--button-hover-fill-color);\n",
              "  }\n",
              "\n",
              "  .colab-df-quickchart-complete:disabled,\n",
              "  .colab-df-quickchart-complete:disabled:hover {\n",
              "    background-color: var(--disabled-bg-color);\n",
              "    fill: var(--disabled-fill-color);\n",
              "    box-shadow: none;\n",
              "  }\n",
              "\n",
              "  .colab-df-spinner {\n",
              "    border: 2px solid var(--fill-color);\n",
              "    border-color: transparent;\n",
              "    border-bottom-color: var(--fill-color);\n",
              "    animation:\n",
              "      spin 1s steps(1) infinite;\n",
              "  }\n",
              "\n",
              "  @keyframes spin {\n",
              "    0% {\n",
              "      border-color: transparent;\n",
              "      border-bottom-color: var(--fill-color);\n",
              "      border-left-color: var(--fill-color);\n",
              "    }\n",
              "    20% {\n",
              "      border-color: transparent;\n",
              "      border-left-color: var(--fill-color);\n",
              "      border-top-color: var(--fill-color);\n",
              "    }\n",
              "    30% {\n",
              "      border-color: transparent;\n",
              "      border-left-color: var(--fill-color);\n",
              "      border-top-color: var(--fill-color);\n",
              "      border-right-color: var(--fill-color);\n",
              "    }\n",
              "    40% {\n",
              "      border-color: transparent;\n",
              "      border-right-color: var(--fill-color);\n",
              "      border-top-color: var(--fill-color);\n",
              "    }\n",
              "    60% {\n",
              "      border-color: transparent;\n",
              "      border-right-color: var(--fill-color);\n",
              "    }\n",
              "    80% {\n",
              "      border-color: transparent;\n",
              "      border-right-color: var(--fill-color);\n",
              "      border-bottom-color: var(--fill-color);\n",
              "    }\n",
              "    90% {\n",
              "      border-color: transparent;\n",
              "      border-bottom-color: var(--fill-color);\n",
              "    }\n",
              "  }\n",
              "</style>\n",
              "\n",
              "  <script>\n",
              "    async function quickchart(key) {\n",
              "      const quickchartButtonEl =\n",
              "        document.querySelector('#' + key + ' button');\n",
              "      quickchartButtonEl.disabled = true;  // To prevent multiple clicks.\n",
              "      quickchartButtonEl.classList.add('colab-df-spinner');\n",
              "      try {\n",
              "        const charts = await google.colab.kernel.invokeFunction(\n",
              "            'suggestCharts', [key], {});\n",
              "      } catch (error) {\n",
              "        console.error('Error during call to suggestCharts:', error);\n",
              "      }\n",
              "      quickchartButtonEl.classList.remove('colab-df-spinner');\n",
              "      quickchartButtonEl.classList.add('colab-df-quickchart-complete');\n",
              "    }\n",
              "    (() => {\n",
              "      let quickchartButtonEl =\n",
              "        document.querySelector('#df-97d1b450-7fd0-4d69-b18a-ec4c58499fdd button');\n",
              "      quickchartButtonEl.style.display =\n",
              "        google.colab.kernel.accessAllowed ? 'block' : 'none';\n",
              "    })();\n",
              "  </script>\n",
              "</div>\n",
              "\n",
              "    </div>\n",
              "  </div>\n"
            ]
          },
          "metadata": {},
          "execution_count": 12
        }
      ],
      "source": [
        "data_train.head()"
      ]
    },
    {
      "cell_type": "markdown",
      "metadata": {
        "id": "BuuPHQwAC-7_"
      },
      "source": [
        "Get a description of the data: There are $8693$ instances, the data set is really small, there are $6$ numerical attributes, $7$ attributes that contain *objects*, and the objetive attribute *Transported* is *Boolean*, its values will be converted to $1$ for *True* values and $0$ for *False*.\n",
        "The data set has $12$ attributes which have *Null* values."
      ]
    },
    {
      "cell_type": "code",
      "execution_count": null,
      "metadata": {
        "colab": {
          "base_uri": "https://localhost:8080/"
        },
        "id": "erM31omm_heB",
        "outputId": "d7480cd7-0bb7-40fb-87f3-4e24e97a3c3c"
      },
      "outputs": [
        {
          "output_type": "stream",
          "name": "stdout",
          "text": [
            "<class 'pandas.core.frame.DataFrame'>\n",
            "RangeIndex: 8693 entries, 0 to 8692\n",
            "Data columns (total 14 columns):\n",
            " #   Column        Non-Null Count  Dtype  \n",
            "---  ------        --------------  -----  \n",
            " 0   PassengerId   8693 non-null   object \n",
            " 1   HomePlanet    8492 non-null   object \n",
            " 2   CryoSleep     8476 non-null   object \n",
            " 3   Cabin         8494 non-null   object \n",
            " 4   Destination   8511 non-null   object \n",
            " 5   Age           8514 non-null   float64\n",
            " 6   VIP           8490 non-null   object \n",
            " 7   RoomService   8512 non-null   float64\n",
            " 8   FoodCourt     8510 non-null   float64\n",
            " 9   ShoppingMall  8485 non-null   float64\n",
            " 10  Spa           8510 non-null   float64\n",
            " 11  VRDeck        8505 non-null   float64\n",
            " 12  Name          8493 non-null   object \n",
            " 13  Transported   8693 non-null   bool   \n",
            "dtypes: bool(1), float64(6), object(7)\n",
            "memory usage: 891.5+ KB\n"
          ]
        }
      ],
      "source": [
        "data_train.info()"
      ]
    },
    {
      "cell_type": "markdown",
      "metadata": {
        "id": "9orG_fnCIASR"
      },
      "source": [
        "Get a summary of the numerical attributes."
      ]
    },
    {
      "cell_type": "code",
      "execution_count": null,
      "metadata": {
        "colab": {
          "base_uri": "https://localhost:8080/",
          "height": 300
        },
        "id": "R969FkQfGoW5",
        "outputId": "420b557f-5e84-4d4a-acc5-1f3d646b1ca9"
      },
      "outputs": [
        {
          "output_type": "execute_result",
          "data": {
            "text/plain": [
              "               Age   RoomService     FoodCourt  ShoppingMall           Spa  \\\n",
              "count  8514.000000   8512.000000   8510.000000   8485.000000   8510.000000   \n",
              "mean     28.827930    224.687617    458.077203    173.729169    311.138778   \n",
              "std      14.489021    666.717663   1611.489240    604.696458   1136.705535   \n",
              "min       0.000000      0.000000      0.000000      0.000000      0.000000   \n",
              "25%      19.000000      0.000000      0.000000      0.000000      0.000000   \n",
              "50%      27.000000      0.000000      0.000000      0.000000      0.000000   \n",
              "75%      38.000000     47.000000     76.000000     27.000000     59.000000   \n",
              "max      79.000000  14327.000000  29813.000000  23492.000000  22408.000000   \n",
              "\n",
              "             VRDeck  \n",
              "count   8505.000000  \n",
              "mean     304.854791  \n",
              "std     1145.717189  \n",
              "min        0.000000  \n",
              "25%        0.000000  \n",
              "50%        0.000000  \n",
              "75%       46.000000  \n",
              "max    24133.000000  "
            ],
            "text/html": [
              "\n",
              "  <div id=\"df-4abe9bdc-90b7-481e-a2a2-68b4da211771\" class=\"colab-df-container\">\n",
              "    <div>\n",
              "<style scoped>\n",
              "    .dataframe tbody tr th:only-of-type {\n",
              "        vertical-align: middle;\n",
              "    }\n",
              "\n",
              "    .dataframe tbody tr th {\n",
              "        vertical-align: top;\n",
              "    }\n",
              "\n",
              "    .dataframe thead th {\n",
              "        text-align: right;\n",
              "    }\n",
              "</style>\n",
              "<table border=\"1\" class=\"dataframe\">\n",
              "  <thead>\n",
              "    <tr style=\"text-align: right;\">\n",
              "      <th></th>\n",
              "      <th>Age</th>\n",
              "      <th>RoomService</th>\n",
              "      <th>FoodCourt</th>\n",
              "      <th>ShoppingMall</th>\n",
              "      <th>Spa</th>\n",
              "      <th>VRDeck</th>\n",
              "    </tr>\n",
              "  </thead>\n",
              "  <tbody>\n",
              "    <tr>\n",
              "      <th>count</th>\n",
              "      <td>8514.000000</td>\n",
              "      <td>8512.000000</td>\n",
              "      <td>8510.000000</td>\n",
              "      <td>8485.000000</td>\n",
              "      <td>8510.000000</td>\n",
              "      <td>8505.000000</td>\n",
              "    </tr>\n",
              "    <tr>\n",
              "      <th>mean</th>\n",
              "      <td>28.827930</td>\n",
              "      <td>224.687617</td>\n",
              "      <td>458.077203</td>\n",
              "      <td>173.729169</td>\n",
              "      <td>311.138778</td>\n",
              "      <td>304.854791</td>\n",
              "    </tr>\n",
              "    <tr>\n",
              "      <th>std</th>\n",
              "      <td>14.489021</td>\n",
              "      <td>666.717663</td>\n",
              "      <td>1611.489240</td>\n",
              "      <td>604.696458</td>\n",
              "      <td>1136.705535</td>\n",
              "      <td>1145.717189</td>\n",
              "    </tr>\n",
              "    <tr>\n",
              "      <th>min</th>\n",
              "      <td>0.000000</td>\n",
              "      <td>0.000000</td>\n",
              "      <td>0.000000</td>\n",
              "      <td>0.000000</td>\n",
              "      <td>0.000000</td>\n",
              "      <td>0.000000</td>\n",
              "    </tr>\n",
              "    <tr>\n",
              "      <th>25%</th>\n",
              "      <td>19.000000</td>\n",
              "      <td>0.000000</td>\n",
              "      <td>0.000000</td>\n",
              "      <td>0.000000</td>\n",
              "      <td>0.000000</td>\n",
              "      <td>0.000000</td>\n",
              "    </tr>\n",
              "    <tr>\n",
              "      <th>50%</th>\n",
              "      <td>27.000000</td>\n",
              "      <td>0.000000</td>\n",
              "      <td>0.000000</td>\n",
              "      <td>0.000000</td>\n",
              "      <td>0.000000</td>\n",
              "      <td>0.000000</td>\n",
              "    </tr>\n",
              "    <tr>\n",
              "      <th>75%</th>\n",
              "      <td>38.000000</td>\n",
              "      <td>47.000000</td>\n",
              "      <td>76.000000</td>\n",
              "      <td>27.000000</td>\n",
              "      <td>59.000000</td>\n",
              "      <td>46.000000</td>\n",
              "    </tr>\n",
              "    <tr>\n",
              "      <th>max</th>\n",
              "      <td>79.000000</td>\n",
              "      <td>14327.000000</td>\n",
              "      <td>29813.000000</td>\n",
              "      <td>23492.000000</td>\n",
              "      <td>22408.000000</td>\n",
              "      <td>24133.000000</td>\n",
              "    </tr>\n",
              "  </tbody>\n",
              "</table>\n",
              "</div>\n",
              "    <div class=\"colab-df-buttons\">\n",
              "\n",
              "  <div class=\"colab-df-container\">\n",
              "    <button class=\"colab-df-convert\" onclick=\"convertToInteractive('df-4abe9bdc-90b7-481e-a2a2-68b4da211771')\"\n",
              "            title=\"Convert this dataframe to an interactive table.\"\n",
              "            style=\"display:none;\">\n",
              "\n",
              "  <svg xmlns=\"http://www.w3.org/2000/svg\" height=\"24px\" viewBox=\"0 -960 960 960\">\n",
              "    <path d=\"M120-120v-720h720v720H120Zm60-500h600v-160H180v160Zm220 220h160v-160H400v160Zm0 220h160v-160H400v160ZM180-400h160v-160H180v160Zm440 0h160v-160H620v160ZM180-180h160v-160H180v160Zm440 0h160v-160H620v160Z\"/>\n",
              "  </svg>\n",
              "    </button>\n",
              "\n",
              "  <style>\n",
              "    .colab-df-container {\n",
              "      display:flex;\n",
              "      gap: 12px;\n",
              "    }\n",
              "\n",
              "    .colab-df-convert {\n",
              "      background-color: #E8F0FE;\n",
              "      border: none;\n",
              "      border-radius: 50%;\n",
              "      cursor: pointer;\n",
              "      display: none;\n",
              "      fill: #1967D2;\n",
              "      height: 32px;\n",
              "      padding: 0 0 0 0;\n",
              "      width: 32px;\n",
              "    }\n",
              "\n",
              "    .colab-df-convert:hover {\n",
              "      background-color: #E2EBFA;\n",
              "      box-shadow: 0px 1px 2px rgba(60, 64, 67, 0.3), 0px 1px 3px 1px rgba(60, 64, 67, 0.15);\n",
              "      fill: #174EA6;\n",
              "    }\n",
              "\n",
              "    .colab-df-buttons div {\n",
              "      margin-bottom: 4px;\n",
              "    }\n",
              "\n",
              "    [theme=dark] .colab-df-convert {\n",
              "      background-color: #3B4455;\n",
              "      fill: #D2E3FC;\n",
              "    }\n",
              "\n",
              "    [theme=dark] .colab-df-convert:hover {\n",
              "      background-color: #434B5C;\n",
              "      box-shadow: 0px 1px 3px 1px rgba(0, 0, 0, 0.15);\n",
              "      filter: drop-shadow(0px 1px 2px rgba(0, 0, 0, 0.3));\n",
              "      fill: #FFFFFF;\n",
              "    }\n",
              "  </style>\n",
              "\n",
              "    <script>\n",
              "      const buttonEl =\n",
              "        document.querySelector('#df-4abe9bdc-90b7-481e-a2a2-68b4da211771 button.colab-df-convert');\n",
              "      buttonEl.style.display =\n",
              "        google.colab.kernel.accessAllowed ? 'block' : 'none';\n",
              "\n",
              "      async function convertToInteractive(key) {\n",
              "        const element = document.querySelector('#df-4abe9bdc-90b7-481e-a2a2-68b4da211771');\n",
              "        const dataTable =\n",
              "          await google.colab.kernel.invokeFunction('convertToInteractive',\n",
              "                                                    [key], {});\n",
              "        if (!dataTable) return;\n",
              "\n",
              "        const docLinkHtml = 'Like what you see? Visit the ' +\n",
              "          '<a target=\"_blank\" href=https://colab.research.google.com/notebooks/data_table.ipynb>data table notebook</a>'\n",
              "          + ' to learn more about interactive tables.';\n",
              "        element.innerHTML = '';\n",
              "        dataTable['output_type'] = 'display_data';\n",
              "        await google.colab.output.renderOutput(dataTable, element);\n",
              "        const docLink = document.createElement('div');\n",
              "        docLink.innerHTML = docLinkHtml;\n",
              "        element.appendChild(docLink);\n",
              "      }\n",
              "    </script>\n",
              "  </div>\n",
              "\n",
              "\n",
              "<div id=\"df-1dce12b2-b122-4e98-b805-5ebc03ecf822\">\n",
              "  <button class=\"colab-df-quickchart\" onclick=\"quickchart('df-1dce12b2-b122-4e98-b805-5ebc03ecf822')\"\n",
              "            title=\"Suggest charts\"\n",
              "            style=\"display:none;\">\n",
              "\n",
              "<svg xmlns=\"http://www.w3.org/2000/svg\" height=\"24px\"viewBox=\"0 0 24 24\"\n",
              "     width=\"24px\">\n",
              "    <g>\n",
              "        <path d=\"M19 3H5c-1.1 0-2 .9-2 2v14c0 1.1.9 2 2 2h14c1.1 0 2-.9 2-2V5c0-1.1-.9-2-2-2zM9 17H7v-7h2v7zm4 0h-2V7h2v10zm4 0h-2v-4h2v4z\"/>\n",
              "    </g>\n",
              "</svg>\n",
              "  </button>\n",
              "\n",
              "<style>\n",
              "  .colab-df-quickchart {\n",
              "      --bg-color: #E8F0FE;\n",
              "      --fill-color: #1967D2;\n",
              "      --hover-bg-color: #E2EBFA;\n",
              "      --hover-fill-color: #174EA6;\n",
              "      --disabled-fill-color: #AAA;\n",
              "      --disabled-bg-color: #DDD;\n",
              "  }\n",
              "\n",
              "  [theme=dark] .colab-df-quickchart {\n",
              "      --bg-color: #3B4455;\n",
              "      --fill-color: #D2E3FC;\n",
              "      --hover-bg-color: #434B5C;\n",
              "      --hover-fill-color: #FFFFFF;\n",
              "      --disabled-bg-color: #3B4455;\n",
              "      --disabled-fill-color: #666;\n",
              "  }\n",
              "\n",
              "  .colab-df-quickchart {\n",
              "    background-color: var(--bg-color);\n",
              "    border: none;\n",
              "    border-radius: 50%;\n",
              "    cursor: pointer;\n",
              "    display: none;\n",
              "    fill: var(--fill-color);\n",
              "    height: 32px;\n",
              "    padding: 0;\n",
              "    width: 32px;\n",
              "  }\n",
              "\n",
              "  .colab-df-quickchart:hover {\n",
              "    background-color: var(--hover-bg-color);\n",
              "    box-shadow: 0 1px 2px rgba(60, 64, 67, 0.3), 0 1px 3px 1px rgba(60, 64, 67, 0.15);\n",
              "    fill: var(--button-hover-fill-color);\n",
              "  }\n",
              "\n",
              "  .colab-df-quickchart-complete:disabled,\n",
              "  .colab-df-quickchart-complete:disabled:hover {\n",
              "    background-color: var(--disabled-bg-color);\n",
              "    fill: var(--disabled-fill-color);\n",
              "    box-shadow: none;\n",
              "  }\n",
              "\n",
              "  .colab-df-spinner {\n",
              "    border: 2px solid var(--fill-color);\n",
              "    border-color: transparent;\n",
              "    border-bottom-color: var(--fill-color);\n",
              "    animation:\n",
              "      spin 1s steps(1) infinite;\n",
              "  }\n",
              "\n",
              "  @keyframes spin {\n",
              "    0% {\n",
              "      border-color: transparent;\n",
              "      border-bottom-color: var(--fill-color);\n",
              "      border-left-color: var(--fill-color);\n",
              "    }\n",
              "    20% {\n",
              "      border-color: transparent;\n",
              "      border-left-color: var(--fill-color);\n",
              "      border-top-color: var(--fill-color);\n",
              "    }\n",
              "    30% {\n",
              "      border-color: transparent;\n",
              "      border-left-color: var(--fill-color);\n",
              "      border-top-color: var(--fill-color);\n",
              "      border-right-color: var(--fill-color);\n",
              "    }\n",
              "    40% {\n",
              "      border-color: transparent;\n",
              "      border-right-color: var(--fill-color);\n",
              "      border-top-color: var(--fill-color);\n",
              "    }\n",
              "    60% {\n",
              "      border-color: transparent;\n",
              "      border-right-color: var(--fill-color);\n",
              "    }\n",
              "    80% {\n",
              "      border-color: transparent;\n",
              "      border-right-color: var(--fill-color);\n",
              "      border-bottom-color: var(--fill-color);\n",
              "    }\n",
              "    90% {\n",
              "      border-color: transparent;\n",
              "      border-bottom-color: var(--fill-color);\n",
              "    }\n",
              "  }\n",
              "</style>\n",
              "\n",
              "  <script>\n",
              "    async function quickchart(key) {\n",
              "      const quickchartButtonEl =\n",
              "        document.querySelector('#' + key + ' button');\n",
              "      quickchartButtonEl.disabled = true;  // To prevent multiple clicks.\n",
              "      quickchartButtonEl.classList.add('colab-df-spinner');\n",
              "      try {\n",
              "        const charts = await google.colab.kernel.invokeFunction(\n",
              "            'suggestCharts', [key], {});\n",
              "      } catch (error) {\n",
              "        console.error('Error during call to suggestCharts:', error);\n",
              "      }\n",
              "      quickchartButtonEl.classList.remove('colab-df-spinner');\n",
              "      quickchartButtonEl.classList.add('colab-df-quickchart-complete');\n",
              "    }\n",
              "    (() => {\n",
              "      let quickchartButtonEl =\n",
              "        document.querySelector('#df-1dce12b2-b122-4e98-b805-5ebc03ecf822 button');\n",
              "      quickchartButtonEl.style.display =\n",
              "        google.colab.kernel.accessAllowed ? 'block' : 'none';\n",
              "    })();\n",
              "  </script>\n",
              "</div>\n",
              "\n",
              "    </div>\n",
              "  </div>\n"
            ]
          },
          "metadata": {},
          "execution_count": 14
        }
      ],
      "source": [
        "data_train.describe()"
      ]
    },
    {
      "cell_type": "markdown",
      "metadata": {
        "id": "DhjG3eWrK7NP"
      },
      "source": [
        "Use an histogram to obtain an idea of the distribution of numerical attributes:\n",
        "\n",
        "*   All attributes seem skewed to the right although at different levels. It could be a problem, due that the detection of pattern by machine learning algorithm could be more difficult.\n",
        "*   It seems that the attributes *Room Service, Food Court, Shopping Center, Spa and Terrace* have outliers in the direction of the bias.\n"
      ]
    },
    {
      "cell_type": "code",
      "execution_count": null,
      "metadata": {
        "colab": {
          "base_uri": "https://localhost:8080/",
          "height": 853
        },
        "id": "x0eNH2Y5LL4o",
        "outputId": "5042334b-246a-471f-e5bd-06f3a64dbdb6"
      },
      "outputs": [
        {
          "output_type": "display_data",
          "data": {
            "text/plain": [
              "<Figure size 1000x1000 with 6 Axes>"
            ],
            "image/png": "[encoded data removed]"
          },
          "metadata": {}
        }
      ],
      "source": [
        "import matplotlib.pyplot as plt\n",
        "\n",
        "data_train.hist(bins=40, figsize=(10, 10))\n",
        "plt.show()"
      ]
    },
    {
      "cell_type": "markdown",
      "metadata": {
        "id": "Xn8BPf7wIhw8"
      },
      "source": [
        "There are $4378$ passengers who were transported to another dimension and are safe, the other $4315$ must be searched for.\n",
        "The passengers who must be searched for represent approximately $50\\%$."
      ]
    },
    {
      "cell_type": "code",
      "execution_count": null,
      "metadata": {
        "colab": {
          "base_uri": "https://localhost:8080/"
        },
        "id": "SR8bNap2IX3P",
        "outputId": "c29397dd-65e2-44c4-dd91-cdf3de450168"
      },
      "outputs": [
        {
          "output_type": "execute_result",
          "data": {
            "text/plain": [
              "True     4378\n",
              "False    4315\n",
              "Name: Transported, dtype: int64"
            ]
          },
          "metadata": {},
          "execution_count": 16
        }
      ],
      "source": [
        "data_train['Transported'].value_counts()"
      ]
    },
    {
      "cell_type": "code",
      "execution_count": null,
      "metadata": {
        "colab": {
          "base_uri": "https://localhost:8080/"
        },
        "id": "AIKziLhHJWAA",
        "outputId": "d93e03e6-0dc9-480d-84c3-a9d3d77cee18"
      },
      "outputs": [
        {
          "output_type": "execute_result",
          "data": {
            "text/plain": [
              "True     0.503624\n",
              "False    0.496376\n",
              "Name: Transported, dtype: float64"
            ]
          },
          "metadata": {},
          "execution_count": 17
        }
      ],
      "source": [
        "data_train['Transported'].value_counts() / len(data_train)"
      ]
    },
    {
      "cell_type": "markdown",
      "metadata": {
        "id": "qeyOOIZ-QTFl"
      },
      "source": [
        "##Create a train set"
      ]
    },
    {
      "cell_type": "markdown",
      "metadata": {
        "id": "OzHfV-80Yly7"
      },
      "source": [
        "The *training set* will be used to tune the parameters of multiple machine learning algorithms, and the *test set* will be used to evaluate how good the final system is."
      ]
    },
    {
      "cell_type": "code",
      "execution_count": null,
      "metadata": {
        "id": "JYXCSFaCHffl"
      },
      "outputs": [],
      "source": [
        "X_train = data_train.drop(['Transported'], axis=1)\n",
        "y_train = data_train['Transported']"
      ]
    },
    {
      "cell_type": "code",
      "source": [
        "X_test = load_data(DATA_SETS_PATH, \"test.csv\")"
      ],
      "metadata": {
        "id": "h_7zfyhC3PXF"
      },
      "execution_count": null,
      "outputs": []
    },
    {
      "cell_type": "markdown",
      "metadata": {
        "id": "oJ4NKf8u9mm6"
      },
      "source": [
        "#EXPLORE THE DATA"
      ]
    },
    {
      "cell_type": "markdown",
      "metadata": {
        "id": "482Aj9lwAGc6"
      },
      "source": [
        "The dataset has $13$ predictores and $1$ label or target attribute.\n",
        "\n",
        "The numerical attributes are:\n",
        "\n",
        "*   Age.\n",
        "*   RoomService.\n",
        "*   FoodCourt.\n",
        "*   ShoppingMall.\n",
        "*   Spa.\n",
        "*   VRDeck.\n",
        "\n",
        "The categorical attributes are:\n",
        "\n",
        "*   PassengerId.\n",
        "*   HomePlanet.\n",
        "*   CryoSleep.\n",
        "*   Cabin.\n",
        "*   Destination.\n",
        "*   VIP.\n",
        "*   Name.\n",
        "*   Transported(Target attribute).\n",
        "\n",
        "\n",
        "\n",
        "\n",
        "\n"
      ]
    },
    {
      "cell_type": "code",
      "execution_count": null,
      "metadata": {
        "colab": {
          "base_uri": "https://localhost:8080/"
        },
        "id": "Cgiah-f99kJa",
        "outputId": "44889fa6-9936-495e-8b39-f5895966e6a9"
      },
      "outputs": [
        {
          "output_type": "stream",
          "name": "stdout",
          "text": [
            "<class 'pandas.core.frame.DataFrame'>\n",
            "RangeIndex: 8693 entries, 0 to 8692\n",
            "Data columns (total 13 columns):\n",
            " #   Column        Non-Null Count  Dtype  \n",
            "---  ------        --------------  -----  \n",
            " 0   PassengerId   8693 non-null   object \n",
            " 1   HomePlanet    8492 non-null   object \n",
            " 2   CryoSleep     8476 non-null   object \n",
            " 3   Cabin         8494 non-null   object \n",
            " 4   Destination   8511 non-null   object \n",
            " 5   Age           8514 non-null   float64\n",
            " 6   VIP           8490 non-null   object \n",
            " 7   RoomService   8512 non-null   float64\n",
            " 8   FoodCourt     8510 non-null   float64\n",
            " 9   ShoppingMall  8485 non-null   float64\n",
            " 10  Spa           8510 non-null   float64\n",
            " 11  VRDeck        8505 non-null   float64\n",
            " 12  Name          8493 non-null   object \n",
            "dtypes: float64(6), object(7)\n",
            "memory usage: 883.0+ KB\n"
          ]
        }
      ],
      "source": [
        "X_train.info()"
      ]
    },
    {
      "cell_type": "markdown",
      "metadata": {
        "id": "oZYPy_i9H4dM"
      },
      "source": [
        "Know the number and percentage of missing values in each predictor.\n",
        "The missing values are few, les than $3\\%$ in each case."
      ]
    },
    {
      "cell_type": "code",
      "execution_count": null,
      "metadata": {
        "colab": {
          "base_uri": "https://localhost:8080/"
        },
        "id": "6ueGlU599kNz",
        "outputId": "25705c91-074f-464f-9524-1c6c30b7f328"
      },
      "outputs": [
        {
          "output_type": "stream",
          "name": "stdout",
          "text": [
            "PassengerId missing values:\n",
            "\tCount: 0\t\tPercent: 0.0%\n",
            "HomePlanet missing values:\n",
            "\tCount: 201\t\tPercent: 2.312%\n",
            "CryoSleep missing values:\n",
            "\tCount: 217\t\tPercent: 2.496%\n",
            "Cabin missing values:\n",
            "\tCount: 199\t\tPercent: 2.289%\n",
            "Destination missing values:\n",
            "\tCount: 182\t\tPercent: 2.094%\n",
            "Age missing values:\n",
            "\tCount: 179\t\tPercent: 2.059%\n",
            "VIP missing values:\n",
            "\tCount: 203\t\tPercent: 2.335%\n",
            "RoomService missing values:\n",
            "\tCount: 181\t\tPercent: 2.082%\n",
            "FoodCourt missing values:\n",
            "\tCount: 183\t\tPercent: 2.105%\n",
            "ShoppingMall missing values:\n",
            "\tCount: 208\t\tPercent: 2.393%\n",
            "Spa missing values:\n",
            "\tCount: 183\t\tPercent: 2.105%\n",
            "VRDeck missing values:\n",
            "\tCount: 188\t\tPercent: 2.163%\n",
            "Name missing values:\n",
            "\tCount: 200\t\tPercent: 2.301%\n"
          ]
        }
      ],
      "source": [
        "for c in X_train.columns:\n",
        "    null_values = len(X_train) - X_train[c].count()\n",
        "    print('{} missing values:'.format(c))\n",
        "    print('\\tCount: {}\\t\\tPercent: {}%'.format(null_values,\n",
        "                                 round((null_values)*100/len(X_train), 3)))"
      ]
    },
    {
      "cell_type": "markdown",
      "metadata": {
        "id": "QdMkUo7RDW2A"
      },
      "source": [
        "##Qualitative Data"
      ]
    },
    {
      "cell_type": "markdown",
      "metadata": {
        "id": "x7hLQJWRDb20"
      },
      "source": [
        "*Chi-squared test* is used to determine if two categorical variables are dependent, there are two hypothesis:\n",
        "*   Null hypothesis $H_{o}$: Variables are independent.\n",
        "*   Alternative hypothesis $H_{a}$: Variables are dependent.\n",
        "\n",
        "The probability of obtaining the observations in the training set is calculated under the assumption that $H_o$ is true. If the probability of obtaining such observations is less than the significance level $\\alpha$, commonly set at $0.05$, then $H_{o}$ is rejected in favor of $H_{a}$. Otherwise, it is concluded that there is not enough evidence to reject $H_{o}$."
      ]
    },
    {
      "cell_type": "markdown",
      "metadata": {
        "id": "e_roHqF1EzFQ"
      },
      "source": [
        "By obtaining the *Chi-squared* statistic:\n",
        "$$\n",
        "X^{2} = \\sum_{i}{\\frac{(Observed_{i}-Expected_{i})^{2}}{Expected_{i}}}\n",
        "$$\n",
        "It is possible to calculate the probability of obtaining the observations in the training set or more extreme ones, the *p*-value.\n",
        "*Cramer's V* is also calculated, which gives a quantitative measure of the strength of association between the variables:\n",
        "$$\n",
        "\\text{Cramer's V} = \\sqrt{\\frac{X^{2}}{n\\cdot \\text{min}(r-1, c-1)}}\n",
        "$$\n",
        "Where:\n",
        "\n",
        "*   $n$: Number of observations.\n",
        "*   $r$: No of rows.\n",
        "*   $c$: No of columns.\n",
        "\n"
      ]
    },
    {
      "cell_type": "code",
      "execution_count": null,
      "metadata": {
        "id": "se97GYpryGVP"
      },
      "outputs": [],
      "source": [
        "def contingency_tables(independ_var, depend_var):\n",
        "\n",
        "    contingency_table = pd.crosstab(index=independ_var, columns=depend_var, margins=True, dropna=True)\n",
        "\n",
        "    contingency_table.index = [str(i) for i in contingency_table.index]\n",
        "    contingency_table.columns = [str(i) for i in contingency_table.columns]\n",
        "\n",
        "    contingency_table_C = contingency_table.div(contingency_table.iloc[:, -1], axis=0)\n",
        "\n",
        "    contingency_table_J = contingency_table.div(contingency_table.iloc[-1, -1])\n",
        "\n",
        "    return (contingency_table, contingency_table_C, contingency_table_J)"
      ]
    },
    {
      "cell_type": "code",
      "execution_count": null,
      "metadata": {
        "id": "Ee5Iwb1GSs56"
      },
      "outputs": [],
      "source": [
        "def chi_squared_test(contingency_table, join_contingency_table):\n",
        "\n",
        "    from scipy.stats.distributions import chi2\n",
        "\n",
        "    expected_table = join_contingency_table.copy()\n",
        "    n_obs = contingency_table.iloc[-1, -1]\n",
        "    for i in range(expected_table.shape[0] - 1):\n",
        "        for j in range(expected_table.shape[1] - 1):\n",
        "            expected_table.iloc[i, j] = expected_table.iloc[i, -1] * expected_table.iloc[-1, j] * n_obs\n",
        "\n",
        "    chi_table = contingency_table.iloc[0:-1, 0:-1] - expected_table.iloc[0:-1, 0:-1]\n",
        "\n",
        "    chi_table = chi_table ** 2\n",
        "\n",
        "    chi_table = chi_table.div(expected_table.iloc[0:-1, 0:-1])\n",
        "\n",
        "    chi_statistic = chi_table.to_numpy().sum()\n",
        "\n",
        "    df = (chi_table.shape[0] - 1) * (chi_table.shape[1] - 1)\n",
        "\n",
        "    p_value = chi2.sf(chi_statistic, df)\n",
        "\n",
        "    return chi_statistic, p_value"
      ]
    },
    {
      "cell_type": "code",
      "execution_count": null,
      "metadata": {
        "id": "ywUSrQkuybwj"
      },
      "outputs": [],
      "source": [
        "def v_cramer(chi_statistic, n_obs, n_rows, n_cols):\n",
        "    return np.sqrt(chi_statistic / (n_obs * (min(n_rows - 1, n_cols - 1))))"
      ]
    },
    {
      "cell_type": "code",
      "execution_count": null,
      "metadata": {
        "id": "6eonQIR6envT"
      },
      "outputs": [],
      "source": [
        "def descriptive_stat_vq(contingency_table,  cond_contingency_table, join_contingency_table):\n",
        "    print(\"Contingency Table:\")\n",
        "    print(contingency_table, end='\\n\\n')\n",
        "    print(\"Conditional Contingency Table:\")\n",
        "    print(cond_contingency_table, end='\\n\\n')\n",
        "    print(\"Join Contingency Table:\")\n",
        "    print(join_contingency_table, end='\\n\\n')\n",
        "    cond_contingency_table.iloc[0:-1, 0:-1].plot.bar()\n",
        "    plt.legend([\"No Transported\", \"Transported\"])\n",
        "    plt.show()\n",
        "    print('\\n')"
      ]
    },
    {
      "cell_type": "code",
      "execution_count": null,
      "metadata": {
        "id": "gceDrfBWfos7"
      },
      "outputs": [],
      "source": [
        "def result_chi_test(chi_stat, p_value, v_cramer):\n",
        "    alpha = 0.05\n",
        "    print(\"Chi-squared statistic: {}\".format(chi_stat))\n",
        "    print(\"p-value: {}\".format(p_value))\n",
        "\n",
        "    if p_value < alpha:\n",
        "        print(\"It is very unlikely to obtain the observations of the training\\n\" +\n",
        "              \"set under the assumption that the null hypothesis is true,\\n\" +\n",
        "              \"therefore it is concluded that the variables are dependent.\")\n",
        "    else:\n",
        "        print(\"\"\"There is not enough evidence to reject the null hypothesis.\"\"\")\n",
        "\n",
        "    print(\"V of Cramer: {}\".format(v_cramer))\n",
        "\n",
        "    if v_cramer < 0.20:\n",
        "        print(\"\"\"The relationship between the variables is WEAK.\"\"\")\n",
        "    elif v_cramer < 0.30:\n",
        "        print(\"\"\"The relationship between the variables is MODERATE.\"\"\")\n",
        "    elif v_cramer < 0.40:\n",
        "        print(\"\"\"The relationship between the variables is STRONG.\"\"\")\n",
        "    elif v_cramer <= 1:\n",
        "        print(\"\"\"The relationship between the variables is VERY STRONG.\"\"\")"
      ]
    },
    {
      "cell_type": "code",
      "source": [
        "qualitative_vars = ['HomePlanet', 'CryoSleep', 'Destination', 'VIP']"
      ],
      "metadata": {
        "id": "10wDcB6WxZ6a"
      },
      "execution_count": null,
      "outputs": []
    },
    {
      "cell_type": "code",
      "source": [
        "for qv in qualitative_vars:\n",
        "    print(\"{} vs Transported\".format(qv))\n",
        "    contingency_table, cond_contingency_table, join_contingency_table = contingency_tables(X_train[qv], y_train)\n",
        "    descriptive_stat_vq(contingency_table, cond_contingency_table, join_contingency_table)\n",
        "\n",
        "    chi_stat, p_value = chi_squared_test(contingency_table, join_contingency_table)\n",
        "    v_c = v_cramer(chi_stat, contingency_table.iloc[-1, -1], contingency_table.shape[0] - 1, contingency_table.shape[1] - 1)\n",
        "    result_chi_test(chi_stat, p_value, v_c)\n",
        "\n",
        "    print('\\n')"
      ],
      "metadata": {
        "colab": {
          "base_uri": "https://localhost:8080/",
          "height": 1000
        },
        "id": "oonnu7jWxdlG",
        "outputId": "ebb362b8-599a-4b85-fd6d-3da3f687c9f3"
      },
      "execution_count": null,
      "outputs": [
        {
          "output_type": "stream",
          "name": "stdout",
          "text": [
            "HomePlanet vs Transported\n",
            "Contingency Table:\n",
            "        False  True   All\n",
            "Earth    2651  1951  4602\n",
            "Europa    727  1404  2131\n",
            "Mars      839   920  1759\n",
            "All      4217  4275  8492\n",
            "\n",
            "Conditional Contingency Table:\n",
            "           False      True  All\n",
            "Earth   0.576054  0.423946  1.0\n",
            "Europa  0.341154  0.658846  1.0\n",
            "Mars    0.476976  0.523024  1.0\n",
            "All     0.496585  0.503415  1.0\n",
            "\n",
            "Join Contingency Table:\n",
            "           False      True       All\n",
            "Earth   0.312176  0.229746  0.541922\n",
            "Europa  0.085610  0.165332  0.250942\n",
            "Mars    0.098799  0.108337  0.207136\n",
            "All     0.496585  0.503415  1.000000\n",
            "\n"
          ]
        },
        {
          "output_type": "display_data",
          "data": {
            "text/plain": [
              "<Figure size 640x480 with 1 Axes>"
            ],
            "image/png": "[encoded data removed]"
          },
          "metadata": {}
        },
        {
          "output_type": "stream",
          "name": "stdout",
          "text": [
            "\n",
            "\n",
            "Chi-squared statistic: 324.9013834000384\n",
            "p-value: 2.80905998525099e-71\n",
            "It is very unlikely to obtain the observations of the training\n",
            "set under the assumption that the null hypothesis is true,\n",
            "therefore it is concluded that the variables are dependent.\n",
            "V of Cramer: 0.19560087242990842\n",
            "The relationship between the variables is WEAK.\n",
            "\n",
            "\n",
            "CryoSleep vs Transported\n",
            "Contingency Table:\n",
            "       False  True   All\n",
            "False   3650  1789  5439\n",
            "True     554  2483  3037\n",
            "All     4204  4272  8476\n",
            "\n",
            "Conditional Contingency Table:\n",
            "          False      True  All\n",
            "False  0.671079  0.328921  1.0\n",
            "True   0.182417  0.817583  1.0\n",
            "All    0.495989  0.504011  1.0\n",
            "\n",
            "Join Contingency Table:\n",
            "          False      True       All\n",
            "False  0.430628  0.211067  0.641694\n",
            "True   0.065361  0.292945  0.358306\n",
            "All    0.495989  0.504011  1.000000\n",
            "\n"
          ]
        },
        {
          "output_type": "display_data",
          "data": {
            "text/plain": [
              "<Figure size 640x480 with 1 Axes>"
            ],
            "image/png": "[encoded data removed]"
          },
          "metadata": {}
        },
        {
          "output_type": "stream",
          "name": "stdout",
          "text": [
            "\n",
            "\n",
            "Chi-squared statistic: 1861.5669751763876\n",
            "p-value: 0.0\n",
            "It is very unlikely to obtain the observations of the training\n",
            "set under the assumption that the null hypothesis is true,\n",
            "therefore it is concluded that the variables are dependent.\n",
            "V of Cramer: 0.4686448608124052\n",
            "The relationship between the variables is VERY STRONG.\n",
            "\n",
            "\n",
            "Destination vs Transported\n",
            "Contingency Table:\n",
            "               False  True   All\n",
            "55 Cancri e      702  1098  1800\n",
            "PSO J318.5-22    395   401   796\n",
            "TRAPPIST-1e     3128  2787  5915\n",
            "All             4225  4286  8511\n",
            "\n",
            "Conditional Contingency Table:\n",
            "                  False      True  All\n",
            "55 Cancri e    0.390000  0.610000  1.0\n",
            "PSO J318.5-22  0.496231  0.503769  1.0\n",
            "TRAPPIST-1e    0.528825  0.471175  1.0\n",
            "All            0.496416  0.503584  1.0\n",
            "\n",
            "Join Contingency Table:\n",
            "                  False      True       All\n",
            "55 Cancri e    0.082481  0.129010  0.211491\n",
            "PSO J318.5-22  0.046411  0.047115  0.093526\n",
            "TRAPPIST-1e    0.367524  0.327459  0.694983\n",
            "All            0.496416  0.503584  1.000000\n",
            "\n"
          ]
        },
        {
          "output_type": "display_data",
          "data": {
            "text/plain": [
              "<Figure size 640x480 with 1 Axes>"
            ],
            "image/png": "[encoded data removed]"
          },
          "metadata": {}
        },
        {
          "output_type": "stream",
          "name": "stdout",
          "text": [
            "\n",
            "\n",
            "Chi-squared statistic: 106.39215684982226\n",
            "p-value: 7.892901466137158e-24\n",
            "It is very unlikely to obtain the observations of the training\n",
            "set under the assumption that the null hypothesis is true,\n",
            "therefore it is concluded that the variables are dependent.\n",
            "V of Cramer: 0.11180584580691637\n",
            "The relationship between the variables is WEAK.\n",
            "\n",
            "\n",
            "VIP vs Transported\n",
            "Contingency Table:\n",
            "       False  True   All\n",
            "False   4093  4198  8291\n",
            "True     123    76   199\n",
            "All     4216  4274  8490\n",
            "\n",
            "Conditional Contingency Table:\n",
            "          False      True  All\n",
            "False  0.493668  0.506332  1.0\n",
            "True   0.618090  0.381910  1.0\n",
            "All    0.496584  0.503416  1.0\n",
            "\n",
            "Join Contingency Table:\n",
            "          False      True       All\n",
            "False  0.482097  0.494464  0.976561\n",
            "True   0.014488  0.008952  0.023439\n",
            "All    0.496584  0.503416  1.000000\n",
            "\n"
          ]
        },
        {
          "output_type": "display_data",
          "data": {
            "text/plain": [
              "<Figure size 640x480 with 1 Axes>"
            ],
            "image/png": "[encoded data removed]"
          },
          "metadata": {}
        },
        {
          "output_type": "stream",
          "name": "stdout",
          "text": [
            "\n",
            "\n",
            "Chi-squared statistic: 12.034588466793496\n",
            "p-value: 0.0005222236287871681\n",
            "It is very unlikely to obtain the observations of the training\n",
            "set under the assumption that the null hypothesis is true,\n",
            "therefore it is concluded that the variables are dependent.\n",
            "V of Cramer: 0.03764972225919811\n",
            "The relationship between the variables is WEAK.\n",
            "\n",
            "\n"
          ]
        }
      ]
    },
    {
      "cell_type": "markdown",
      "source": [
        "All qualitative attributes are related to the target attribute, but *CryoSleep* is the only one that is related to *Transported* very strongly."
      ],
      "metadata": {
        "id": "D2IXN_dG0K6y"
      }
    },
    {
      "cell_type": "markdown",
      "source": [
        "The *Cabin* attribute, has information about *deck, number and side* of a passenger, we want to know if these attributes are related with the target attribute."
      ],
      "metadata": {
        "id": "XQX0p2yc5gvX"
      }
    },
    {
      "cell_type": "code",
      "source": [
        "cabin = X_train['Cabin'].str.split(pat='/', expand=True)"
      ],
      "metadata": {
        "id": "0AK0KbP55hCI"
      },
      "execution_count": null,
      "outputs": []
    },
    {
      "cell_type": "code",
      "source": [
        "cabin.columns = ['deck', 'num', 'side']"
      ],
      "metadata": {
        "id": "HrOnlCPX5_Cf"
      },
      "execution_count": null,
      "outputs": []
    },
    {
      "cell_type": "code",
      "source": [
        "for qv in cabin.columns:\n",
        "    if qv != 'num':\n",
        "        print(\"{} vs Transported\".format(qv))\n",
        "        contingency_table, cond_contingency_table, join_contingency_table = contingency_tables(cabin[qv], y_train)\n",
        "        descriptive_stat_vq(contingency_table, cond_contingency_table, join_contingency_table)\n",
        "\n",
        "        chi_stat, p_value = chi_squared_test(contingency_table, join_contingency_table)\n",
        "        v_c = v_cramer(chi_stat, contingency_table.iloc[-1, -1], contingency_table.shape[0] - 1, contingency_table.shape[1] - 1)\n",
        "        result_chi_test(chi_stat, p_value, v_c)\n",
        "\n",
        "        print('\\n')"
      ],
      "metadata": {
        "colab": {
          "base_uri": "https://localhost:8080/",
          "height": 1000
        },
        "id": "X9svHU1o6n5J",
        "outputId": "09e31a11-5d2a-40aa-dcc6-93878d42b37a"
      },
      "execution_count": null,
      "outputs": [
        {
          "output_type": "stream",
          "name": "stdout",
          "text": [
            "deck vs Transported\n",
            "Contingency Table:\n",
            "     False  True   All\n",
            "A      129   127   256\n",
            "B      207   572   779\n",
            "C      239   508   747\n",
            "D      271   207   478\n",
            "E      563   313   876\n",
            "F     1565  1229  2794\n",
            "G     1238  1321  2559\n",
            "T        4     1     5\n",
            "All   4216  4278  8494\n",
            "\n",
            "Conditional Contingency Table:\n",
            "        False      True  All\n",
            "A    0.503906  0.496094  1.0\n",
            "B    0.265725  0.734275  1.0\n",
            "C    0.319946  0.680054  1.0\n",
            "D    0.566946  0.433054  1.0\n",
            "E    0.642694  0.357306  1.0\n",
            "F    0.560129  0.439871  1.0\n",
            "G    0.483783  0.516217  1.0\n",
            "T    0.800000  0.200000  1.0\n",
            "All  0.496350  0.503650  1.0\n",
            "\n",
            "Join Contingency Table:\n",
            "        False      True       All\n",
            "A    0.015187  0.014952  0.030139\n",
            "B    0.024370  0.067342  0.091712\n",
            "C    0.028138  0.059807  0.087944\n",
            "D    0.031905  0.024370  0.056275\n",
            "E    0.066282  0.036850  0.103132\n",
            "F    0.184248  0.144690  0.328938\n",
            "G    0.145750  0.155522  0.301271\n",
            "T    0.000471  0.000118  0.000589\n",
            "All  0.496350  0.503650  1.000000\n",
            "\n"
          ]
        },
        {
          "output_type": "display_data",
          "data": {
            "text/plain": [
              "<Figure size 640x480 with 1 Axes>"
            ],
            "image/png": "[encoded data removed]"
          },
          "metadata": {}
        },
        {
          "output_type": "stream",
          "name": "stdout",
          "text": [
            "\n",
            "\n",
            "Chi-squared statistic: 392.28804119974797\n",
            "p-value: 1.0743307258872032e-80\n",
            "It is very unlikely to obtain the observations of the training\n",
            "set under the assumption that the null hypothesis is true,\n",
            "therefore it is concluded that the variables are dependent.\n",
            "V of Cramer: 0.21490494369500296\n",
            "The relationship between the variables is MODERATE.\n",
            "\n",
            "\n",
            "side vs Transported\n",
            "Contingency Table:\n",
            "     False  True   All\n",
            "P     2308  1898  4206\n",
            "S     1908  2380  4288\n",
            "All   4216  4278  8494\n",
            "\n",
            "Conditional Contingency Table:\n",
            "        False      True  All\n",
            "P    0.548740  0.451260  1.0\n",
            "S    0.444963  0.555037  1.0\n",
            "All  0.496350  0.503650  1.0\n",
            "\n",
            "Join Contingency Table:\n",
            "        False      True       All\n",
            "P    0.271721  0.223452  0.495173\n",
            "S    0.224629  0.280198  0.504827\n",
            "All  0.496350  0.503650  1.000000\n",
            "\n"
          ]
        },
        {
          "output_type": "display_data",
          "data": {
            "text/plain": [
              "<Figure size 640x480 with 1 Axes>"
            ],
            "image/png": "[encoded data removed]"
          },
          "metadata": {}
        },
        {
          "output_type": "stream",
          "name": "stdout",
          "text": [
            "\n",
            "\n",
            "Chi-squared statistic: 91.47425704222698\n",
            "p-value: 1.1305339625322883e-21\n",
            "It is very unlikely to obtain the observations of the training\n",
            "set under the assumption that the null hypothesis is true,\n",
            "therefore it is concluded that the variables are dependent.\n",
            "V of Cramer: 0.1037751374038435\n",
            "The relationship between the variables is WEAK.\n",
            "\n",
            "\n"
          ]
        }
      ]
    },
    {
      "cell_type": "markdown",
      "source": [
        "We can combine the *deck* and *side* attributes to find out if it is more related to the target attribute than the original variables, and this is the case because the *Cramer's V* is higher."
      ],
      "metadata": {
        "id": "yDdjbybIUwk7"
      }
    },
    {
      "cell_type": "code",
      "source": [
        "comb_var = cabin['deck'] + cabin['side']"
      ],
      "metadata": {
        "id": "zkEy9p89TYsW"
      },
      "execution_count": null,
      "outputs": []
    },
    {
      "cell_type": "code",
      "source": [
        "print(\"{} vs Transported\".format(comb_var))\n",
        "contingency_table, cond_contingency_table, join_contingency_table = contingency_tables(comb_var, y_train)\n",
        "descriptive_stat_vq(contingency_table, cond_contingency_table, join_contingency_table)\n",
        "\n",
        "chi_stat, p_value = chi_squared_test(contingency_table, join_contingency_table)\n",
        "v_c = v_cramer(chi_stat, contingency_table.iloc[-1, -1], contingency_table.shape[0] - 1, contingency_table.shape[1] - 1)\n",
        "result_chi_test(chi_stat, p_value, v_c)\n",
        "\n",
        "print('\\n')"
      ],
      "metadata": {
        "colab": {
          "base_uri": "https://localhost:8080/",
          "height": 1000
        },
        "id": "J9VdBdyuUhGn",
        "outputId": "29b6d8ac-f449-44ff-db9e-4c0571bb7157"
      },
      "execution_count": null,
      "outputs": [
        {
          "output_type": "stream",
          "name": "stdout",
          "text": [
            "0       BP\n",
            "1       FS\n",
            "2       AS\n",
            "3       AS\n",
            "4       FS\n",
            "        ..\n",
            "8688    AP\n",
            "8689    GS\n",
            "8690    GS\n",
            "8691    ES\n",
            "8692    ES\n",
            "Length: 8693, dtype: object vs Transported\n",
            "Contingency Table:\n",
            "     False  True   All\n",
            "AP      66    51   117\n",
            "AS      63    76   139\n",
            "BP     115   238   353\n",
            "BS      92   334   426\n",
            "CP     143   198   341\n",
            "CS      96   310   406\n",
            "DP     148   100   248\n",
            "DS     123   107   230\n",
            "EP     282   147   429\n",
            "ES     281   166   447\n",
            "FP     847   591  1438\n",
            "FS     718   638  1356\n",
            "GP     704   572  1276\n",
            "GS     534   749  1283\n",
            "TP       3     1     4\n",
            "TS       1     0     1\n",
            "All   4216  4278  8494\n",
            "\n",
            "Conditional Contingency Table:\n",
            "        False      True  All\n",
            "AP   0.564103  0.435897  1.0\n",
            "AS   0.453237  0.546763  1.0\n",
            "BP   0.325779  0.674221  1.0\n",
            "BS   0.215962  0.784038  1.0\n",
            "CP   0.419355  0.580645  1.0\n",
            "CS   0.236453  0.763547  1.0\n",
            "DP   0.596774  0.403226  1.0\n",
            "DS   0.534783  0.465217  1.0\n",
            "EP   0.657343  0.342657  1.0\n",
            "ES   0.628635  0.371365  1.0\n",
            "FP   0.589013  0.410987  1.0\n",
            "FS   0.529499  0.470501  1.0\n",
            "GP   0.551724  0.448276  1.0\n",
            "GS   0.416212  0.583788  1.0\n",
            "TP   0.750000  0.250000  1.0\n",
            "TS   1.000000  0.000000  1.0\n",
            "All  0.496350  0.503650  1.0\n",
            "\n",
            "Join Contingency Table:\n",
            "        False      True       All\n",
            "AP   0.007770  0.006004  0.013774\n",
            "AS   0.007417  0.008947  0.016364\n",
            "BP   0.013539  0.028020  0.041559\n",
            "BS   0.010831  0.039322  0.050153\n",
            "CP   0.016835  0.023311  0.040146\n",
            "CS   0.011302  0.036496  0.047798\n",
            "DP   0.017424  0.011773  0.029197\n",
            "DS   0.014481  0.012597  0.027078\n",
            "EP   0.033200  0.017306  0.050506\n",
            "ES   0.033082  0.019543  0.052625\n",
            "FP   0.099717  0.069579  0.169296\n",
            "FS   0.084530  0.075112  0.159642\n",
            "GP   0.082882  0.067342  0.150224\n",
            "GS   0.062868  0.088180  0.151048\n",
            "TP   0.000353  0.000118  0.000471\n",
            "TS   0.000118  0.000000  0.000118\n",
            "All  0.496350  0.503650  1.000000\n",
            "\n"
          ]
        },
        {
          "output_type": "display_data",
          "data": {
            "text/plain": [
              "<Figure size 640x480 with 1 Axes>"
            ],
            "image/png": "[encoded data removed]"
          },
          "metadata": {}
        },
        {
          "output_type": "stream",
          "name": "stdout",
          "text": [
            "\n",
            "\n",
            "Chi-squared statistic: 489.1641417854934\n",
            "p-value: 1.105686466876116e-94\n",
            "It is very unlikely to obtain the observations of the training\n",
            "set under the assumption that the null hypothesis is true,\n",
            "therefore it is concluded that the variables are dependent.\n",
            "V of Cramer: 0.23997786124086967\n",
            "The relationship between the variables is MODERATE.\n",
            "\n",
            "\n"
          ]
        }
      ]
    },
    {
      "cell_type": "markdown",
      "source": [
        "##Quantitative Data"
      ],
      "metadata": {
        "id": "QLldh13kDmUt"
      }
    },
    {
      "cell_type": "markdown",
      "source": [
        "To know if the target attribute is related to the quantitative variables, we establish two hypotheses about the difference in means of the quantitative variable for each group of the target attribute:\n",
        "\n",
        "*   $H_{o}$: $\\mu_{0}-\\mu_{1}$.\n",
        "*   $H_{a}$: $\\mu_{0}-\\mu_{1} \\not = 0$.\n",
        "\n",
        "$H_{o}$ establishes that there is no difference in means, so the variables are not related, while $H_{a}$ establishes that the variables are related."
      ],
      "metadata": {
        "id": "kubkk7ikDtlY"
      }
    },
    {
      "cell_type": "markdown",
      "source": [
        "The significance level is $\\alpha = 0.05$, if it is found that the *p-value* is less than this, then $H_{o}$ is rejected and $H_{a}$ is accepted, if the *p-value* is greater or equal than $\\alpha$ then it is concluded that there is not enough evidence to reject $H_{o}$."
      ],
      "metadata": {
        "id": "Iugu5ZQKGKXI"
      }
    },
    {
      "cell_type": "code",
      "execution_count": null,
      "metadata": {
        "id": "iQaEv-wADxuL"
      },
      "outputs": [],
      "source": [
        "quantitative_vars = ['Age', 'RoomService', 'FoodCourt', 'ShoppingMall', 'Spa', 'VRDeck']"
      ]
    },
    {
      "cell_type": "code",
      "source": [
        "import scipy.stats\n",
        "\n",
        "for qv in quantitative_vars:\n",
        "    smp_1 = X_train.loc[y_train == True, qv].dropna()\n",
        "    smp_2 = X_train.loc[y_train == False, qv].dropna()\n",
        "    pol_res = scipy.stats.ttest_ind(smp_1, smp_2, equal_var=True)\n",
        "    upol_res = scipy.stats.ttest_ind(smp_1, smp_2, equal_var=False)\n",
        "    print(\"{} vs {}\".format(qv.upper(), \"TRANSPORTED\"))\n",
        "    print(\"Pooled approach\")\n",
        "    print(\"\\tt statistic: {}  \\t pvalue: {}\".format(pol_res[0], pol_res[1]))\n",
        "    print(\"Unpooled approach\")\n",
        "    print(\"\\tt statistic: {}  \\t pvalue: {}\".format(upol_res[0], upol_res[1]))\n",
        "    plt.boxplot([smp_1, smp_2])\n",
        "    plt.grid()\n",
        "    plt.ylabel(qv)\n",
        "    plt.xticks(ticks= [1, 2], labels=['Transported', 'No-transported'])\n",
        "    plt.show()\n",
        "    print('\\n')"
      ],
      "metadata": {
        "colab": {
          "base_uri": "https://localhost:8080/",
          "height": 1000
        },
        "id": "25Tv8EDoilbo",
        "outputId": "4c1cad9e-b802-4bc6-a324-79145b9df47f"
      },
      "execution_count": null,
      "outputs": [
        {
          "output_type": "stream",
          "name": "stdout",
          "text": [
            "AGE vs TRANSPORTED\n",
            "Pooled approach\n",
            "\tt statistic: -6.941461666045089  \t pvalue: 4.165050977554494e-12\n",
            "Unpooled approach\n",
            "\tt statistic: -6.946540784264484  \t pvalue: 4.020796120599212e-12\n"
          ]
        },
        {
          "output_type": "display_data",
          "data": {
            "text/plain": [
              "<Figure size 640x480 with 1 Axes>"
            ],
            "image/png": "[encoded data removed]"
          },
          "metadata": {}
        },
        {
          "output_type": "stream",
          "name": "stdout",
          "text": [
            "\n",
            "\n",
            "ROOMSERVICE vs TRANSPORTED\n",
            "Pooled approach\n",
            "\tt statistic: -23.27230572812196  \t pvalue: 3.400493892669515e-116\n",
            "Unpooled approach\n",
            "\tt statistic: -23.097925202540164  \t pvalue: 2.853151958537436e-112\n"
          ]
        },
        {
          "output_type": "display_data",
          "data": {
            "text/plain": [
              "<Figure size 640x480 with 1 Axes>"
            ],
            "image/png": "[encoded data removed]"
          },
          "metadata": {}
        },
        {
          "output_type": "stream",
          "name": "stdout",
          "text": [
            "\n",
            "\n",
            "FOODCOURT vs TRANSPORTED\n",
            "Pooled approach\n",
            "\tt statistic: 4.299893771259008  \t pvalue: 1.727865340729664e-05\n",
            "Unpooled approach\n",
            "\tt statistic: 4.310649186731833  \t pvalue: 1.6495450809238318e-05\n"
          ]
        },
        {
          "output_type": "display_data",
          "data": {
            "text/plain": [
              "<Figure size 640x480 with 1 Axes>"
            ],
            "image/png": "[encoded data removed]"
          },
          "metadata": {}
        },
        {
          "output_type": "stream",
          "name": "stdout",
          "text": [
            "\n",
            "\n",
            "SHOPPINGMALL vs TRANSPORTED\n",
            "Pooled approach\n",
            "\tt statistic: 0.934056481671101  \t pvalue: 0.3503013444989256\n",
            "Unpooled approach\n",
            "\tt statistic: 0.936088637812045  \t pvalue: 0.3492588907666002\n"
          ]
        },
        {
          "output_type": "display_data",
          "data": {
            "text/plain": [
              "<Figure size 640x480 with 1 Axes>"
            ],
            "image/png": "[encoded data removed]"
          },
          "metadata": {}
        },
        {
          "output_type": "stream",
          "name": "stdout",
          "text": [
            "\n",
            "\n",
            "SPA vs TRANSPORTED\n",
            "Pooled approach\n",
            "\tt statistic: -20.914657362229097  \t pvalue: 9.275825095363414e-95\n",
            "Unpooled approach\n",
            "\tt statistic: -20.76664140661985  \t pvalue: 1.6332502570531143e-91\n"
          ]
        },
        {
          "output_type": "display_data",
          "data": {
            "text/plain": [
              "<Figure size 640x480 with 1 Axes>"
            ],
            "image/png": "[encoded data removed]"
          },
          "metadata": {}
        },
        {
          "output_type": "stream",
          "name": "stdout",
          "text": [
            "\n",
            "\n",
            "VRDECK vs TRANSPORTED\n",
            "Pooled approach\n",
            "\tt statistic: -19.517825470012635  \t pvalue: 4.9897017399892476e-83\n",
            "Unpooled approach\n",
            "\tt statistic: -19.400440093029363  \t pvalue: 1.3491209370056579e-80\n"
          ]
        },
        {
          "output_type": "display_data",
          "data": {
            "text/plain": [
              "<Figure size 640x480 with 1 Axes>"
            ],
            "image/png": "[encoded data removed]"
          },
          "metadata": {}
        },
        {
          "output_type": "stream",
          "name": "stdout",
          "text": [
            "\n",
            "\n"
          ]
        }
      ]
    },
    {
      "cell_type": "markdown",
      "source": [
        "It is possible to see that the *p-values* are less than $\\alpha=0.05$ for all attributes whether the pooled or un-pooled approach is used, except ShoppingMall, so $H_{o}$ is rejected and $H_{a}$ is accepted.\n",
        "Furthermore, the box plots show that all attributes have outlier values."
      ],
      "metadata": {
        "id": "dvMHKoEpqo3p"
      }
    },
    {
      "cell_type": "markdown",
      "metadata": {
        "id": "MQut24ou_wbY"
      },
      "source": [
        "#PREPARE THE DATA FOR MACHINE LEARNING ALGORITHMS"
      ]
    },
    {
      "cell_type": "markdown",
      "source": [
        "#Clean the data"
      ],
      "metadata": {
        "id": "dW9-zW_TaVVX"
      }
    },
    {
      "cell_type": "code",
      "source": [
        "from sklearn.preprocessing import FunctionTransformer"
      ],
      "metadata": {
        "id": "cqbtV1dAm5uC"
      },
      "execution_count": null,
      "outputs": []
    },
    {
      "cell_type": "code",
      "source": [
        "def getColNames(X, typeCols):\n",
        "    \"\"\"Gets column names of a certain type.\n",
        "\n",
        "    Args:\n",
        "      X: Dataframe with column names.\n",
        "      typeCols: Type of columns(numerical, categorical).\n",
        "\n",
        "    Returns:\n",
        "      cat_cols: A list with the name of the columns of a certain type.\n",
        "    \"\"\"\n",
        "    num_cols = X.select_dtypes(include='number').columns.tolist()\n",
        "    cat_cols = list(set(X.columns) - set(num_cols))\n",
        "\n",
        "    if typeCols == 'num':\n",
        "        return num_cols\n",
        "\n",
        "    elif typeCols == 'cat':\n",
        "        return cat_cols"
      ],
      "metadata": {
        "id": "SOPC9XGVBR7m"
      },
      "execution_count": null,
      "outputs": []
    },
    {
      "cell_type": "markdown",
      "source": [
        "We will expand the attribute *Cabin*, which contains data of *deck*, *num* and *side*."
      ],
      "metadata": {
        "id": "KxN05ruEq9Na"
      }
    },
    {
      "cell_type": "code",
      "source": [
        "def ExpandColumn(X, column, separator, colNames):\n",
        "    \"\"\"Expands a column consisting of multiple elements joined by a symbol.\n",
        "\n",
        "    Args:\n",
        "      X: Dataframe.\n",
        "      column: Column whose elements are divided into multiple columns.\n",
        "      separator: Symbol that we will use to separate the data.\n",
        "      colNames: Names of the resultant columns which contain the separate data.\n",
        "\n",
        "    Returns:\n",
        "      X_exp: Expanded object with new columns.\n",
        "    \"\"\"\n",
        "    exp_col = X[column].str.split(pat=separator, expand=True)\n",
        "    X_exp = pd.concat([X, exp_col], axis=1)\n",
        "\n",
        "    for i in range(len(colNames)):\n",
        "        X_exp.rename(columns={i: colNames[i]}, inplace=True)\n",
        "\n",
        "    return X_exp"
      ],
      "metadata": {
        "id": "TmUK6uqhnjMN"
      },
      "execution_count": null,
      "outputs": []
    },
    {
      "cell_type": "code",
      "source": [
        "expandCol = FunctionTransformer(ExpandColumn, kw_args=dict(column='Cabin', separator='/', colNames=['deck', 'num', 'side']))"
      ],
      "metadata": {
        "id": "lhJxD_3bm_ei"
      },
      "execution_count": null,
      "outputs": []
    },
    {
      "cell_type": "code",
      "source": [
        "X_train = expandCol.fit_transform(X_train)"
      ],
      "metadata": {
        "id": "cIVmi6dE0oAc"
      },
      "execution_count": null,
      "outputs": []
    },
    {
      "cell_type": "code",
      "source": [
        "X_train.head(3)"
      ],
      "metadata": {
        "colab": {
          "base_uri": "https://localhost:8080/",
          "height": 143
        },
        "id": "R6bpvHnMrh0P",
        "outputId": "13644028-6fbc-4d44-f8e6-8cb24f8499eb"
      },
      "execution_count": null,
      "outputs": [
        {
          "output_type": "execute_result",
          "data": {
            "text/plain": [
              "  PassengerId HomePlanet CryoSleep  Cabin  Destination   Age    VIP  \\\n",
              "0     0001_01     Europa     False  B/0/P  TRAPPIST-1e  39.0  False   \n",
              "1     0002_01      Earth     False  F/0/S  TRAPPIST-1e  24.0  False   \n",
              "2     0003_01     Europa     False  A/0/S  TRAPPIST-1e  58.0   True   \n",
              "\n",
              "   RoomService  FoodCourt  ShoppingMall     Spa  VRDeck             Name deck  \\\n",
              "0          0.0        0.0           0.0     0.0     0.0  Maham Ofracculy    B   \n",
              "1        109.0        9.0          25.0   549.0    44.0     Juanna Vines    F   \n",
              "2         43.0     3576.0           0.0  6715.0    49.0    Altark Susent    A   \n",
              "\n",
              "  num side  \n",
              "0   0    P  \n",
              "1   0    S  \n",
              "2   0    S  "
            ],
            "text/html": [
              "\n",
              "  <div id=\"df-4e8a8507-97c3-4c60-a770-c7ae3683e2ed\" class=\"colab-df-container\">\n",
              "    <div>\n",
              "<style scoped>\n",
              "    .dataframe tbody tr th:only-of-type {\n",
              "        vertical-align: middle;\n",
              "    }\n",
              "\n",
              "    .dataframe tbody tr th {\n",
              "        vertical-align: top;\n",
              "    }\n",
              "\n",
              "    .dataframe thead th {\n",
              "        text-align: right;\n",
              "    }\n",
              "</style>\n",
              "<table border=\"1\" class=\"dataframe\">\n",
              "  <thead>\n",
              "    <tr style=\"text-align: right;\">\n",
              "      <th></th>\n",
              "      <th>PassengerId</th>\n",
              "      <th>HomePlanet</th>\n",
              "      <th>CryoSleep</th>\n",
              "      <th>Cabin</th>\n",
              "      <th>Destination</th>\n",
              "      <th>Age</th>\n",
              "      <th>VIP</th>\n",
              "      <th>RoomService</th>\n",
              "      <th>FoodCourt</th>\n",
              "      <th>ShoppingMall</th>\n",
              "      <th>Spa</th>\n",
              "      <th>VRDeck</th>\n",
              "      <th>Name</th>\n",
              "      <th>deck</th>\n",
              "      <th>num</th>\n",
              "      <th>side</th>\n",
              "    </tr>\n",
              "  </thead>\n",
              "  <tbody>\n",
              "    <tr>\n",
              "      <th>0</th>\n",
              "      <td>0001_01</td>\n",
              "      <td>Europa</td>\n",
              "      <td>False</td>\n",
              "      <td>B/0/P</td>\n",
              "      <td>TRAPPIST-1e</td>\n",
              "      <td>39.0</td>\n",
              "      <td>False</td>\n",
              "      <td>0.0</td>\n",
              "      <td>0.0</td>\n",
              "      <td>0.0</td>\n",
              "      <td>0.0</td>\n",
              "      <td>0.0</td>\n",
              "      <td>Maham Ofracculy</td>\n",
              "      <td>B</td>\n",
              "      <td>0</td>\n",
              "      <td>P</td>\n",
              "    </tr>\n",
              "    <tr>\n",
              "      <th>1</th>\n",
              "      <td>0002_01</td>\n",
              "      <td>Earth</td>\n",
              "      <td>False</td>\n",
              "      <td>F/0/S</td>\n",
              "      <td>TRAPPIST-1e</td>\n",
              "      <td>24.0</td>\n",
              "      <td>False</td>\n",
              "      <td>109.0</td>\n",
              "      <td>9.0</td>\n",
              "      <td>25.0</td>\n",
              "      <td>549.0</td>\n",
              "      <td>44.0</td>\n",
              "      <td>Juanna Vines</td>\n",
              "      <td>F</td>\n",
              "      <td>0</td>\n",
              "      <td>S</td>\n",
              "    </tr>\n",
              "    <tr>\n",
              "      <th>2</th>\n",
              "      <td>0003_01</td>\n",
              "      <td>Europa</td>\n",
              "      <td>False</td>\n",
              "      <td>A/0/S</td>\n",
              "      <td>TRAPPIST-1e</td>\n",
              "      <td>58.0</td>\n",
              "      <td>True</td>\n",
              "      <td>43.0</td>\n",
              "      <td>3576.0</td>\n",
              "      <td>0.0</td>\n",
              "      <td>6715.0</td>\n",
              "      <td>49.0</td>\n",
              "      <td>Altark Susent</td>\n",
              "      <td>A</td>\n",
              "      <td>0</td>\n",
              "      <td>S</td>\n",
              "    </tr>\n",
              "  </tbody>\n",
              "</table>\n",
              "</div>\n",
              "    <div class=\"colab-df-buttons\">\n",
              "\n",
              "  <div class=\"colab-df-container\">\n",
              "    <button class=\"colab-df-convert\" onclick=\"convertToInteractive('df-4e8a8507-97c3-4c60-a770-c7ae3683e2ed')\"\n",
              "            title=\"Convert this dataframe to an interactive table.\"\n",
              "            style=\"display:none;\">\n",
              "\n",
              "  <svg xmlns=\"http://www.w3.org/2000/svg\" height=\"24px\" viewBox=\"0 -960 960 960\">\n",
              "    <path d=\"M120-120v-720h720v720H120Zm60-500h600v-160H180v160Zm220 220h160v-160H400v160Zm0 220h160v-160H400v160ZM180-400h160v-160H180v160Zm440 0h160v-160H620v160ZM180-180h160v-160H180v160Zm440 0h160v-160H620v160Z\"/>\n",
              "  </svg>\n",
              "    </button>\n",
              "\n",
              "  <style>\n",
              "    .colab-df-container {\n",
              "      display:flex;\n",
              "      gap: 12px;\n",
              "    }\n",
              "\n",
              "    .colab-df-convert {\n",
              "      background-color: #E8F0FE;\n",
              "      border: none;\n",
              "      border-radius: 50%;\n",
              "      cursor: pointer;\n",
              "      display: none;\n",
              "      fill: #1967D2;\n",
              "      height: 32px;\n",
              "      padding: 0 0 0 0;\n",
              "      width: 32px;\n",
              "    }\n",
              "\n",
              "    .colab-df-convert:hover {\n",
              "      background-color: #E2EBFA;\n",
              "      box-shadow: 0px 1px 2px rgba(60, 64, 67, 0.3), 0px 1px 3px 1px rgba(60, 64, 67, 0.15);\n",
              "      fill: #174EA6;\n",
              "    }\n",
              "\n",
              "    .colab-df-buttons div {\n",
              "      margin-bottom: 4px;\n",
              "    }\n",
              "\n",
              "    [theme=dark] .colab-df-convert {\n",
              "      background-color: #3B4455;\n",
              "      fill: #D2E3FC;\n",
              "    }\n",
              "\n",
              "    [theme=dark] .colab-df-convert:hover {\n",
              "      background-color: #434B5C;\n",
              "      box-shadow: 0px 1px 3px 1px rgba(0, 0, 0, 0.15);\n",
              "      filter: drop-shadow(0px 1px 2px rgba(0, 0, 0, 0.3));\n",
              "      fill: #FFFFFF;\n",
              "    }\n",
              "  </style>\n",
              "\n",
              "    <script>\n",
              "      const buttonEl =\n",
              "        document.querySelector('#df-4e8a8507-97c3-4c60-a770-c7ae3683e2ed button.colab-df-convert');\n",
              "      buttonEl.style.display =\n",
              "        google.colab.kernel.accessAllowed ? 'block' : 'none';\n",
              "\n",
              "      async function convertToInteractive(key) {\n",
              "        const element = document.querySelector('#df-4e8a8507-97c3-4c60-a770-c7ae3683e2ed');\n",
              "        const dataTable =\n",
              "          await google.colab.kernel.invokeFunction('convertToInteractive',\n",
              "                                                    [key], {});\n",
              "        if (!dataTable) return;\n",
              "\n",
              "        const docLinkHtml = 'Like what you see? Visit the ' +\n",
              "          '<a target=\"_blank\" href=https://colab.research.google.com/notebooks/data_table.ipynb>data table notebook</a>'\n",
              "          + ' to learn more about interactive tables.';\n",
              "        element.innerHTML = '';\n",
              "        dataTable['output_type'] = 'display_data';\n",
              "        await google.colab.output.renderOutput(dataTable, element);\n",
              "        const docLink = document.createElement('div');\n",
              "        docLink.innerHTML = docLinkHtml;\n",
              "        element.appendChild(docLink);\n",
              "      }\n",
              "    </script>\n",
              "  </div>\n",
              "\n",
              "\n",
              "<div id=\"df-1bcdcc4b-00a7-4872-9e54-c446b6e69ab9\">\n",
              "  <button class=\"colab-df-quickchart\" onclick=\"quickchart('df-1bcdcc4b-00a7-4872-9e54-c446b6e69ab9')\"\n",
              "            title=\"Suggest charts\"\n",
              "            style=\"display:none;\">\n",
              "\n",
              "<svg xmlns=\"http://www.w3.org/2000/svg\" height=\"24px\"viewBox=\"0 0 24 24\"\n",
              "     width=\"24px\">\n",
              "    <g>\n",
              "        <path d=\"M19 3H5c-1.1 0-2 .9-2 2v14c0 1.1.9 2 2 2h14c1.1 0 2-.9 2-2V5c0-1.1-.9-2-2-2zM9 17H7v-7h2v7zm4 0h-2V7h2v10zm4 0h-2v-4h2v4z\"/>\n",
              "    </g>\n",
              "</svg>\n",
              "  </button>\n",
              "\n",
              "<style>\n",
              "  .colab-df-quickchart {\n",
              "      --bg-color: #E8F0FE;\n",
              "      --fill-color: #1967D2;\n",
              "      --hover-bg-color: #E2EBFA;\n",
              "      --hover-fill-color: #174EA6;\n",
              "      --disabled-fill-color: #AAA;\n",
              "      --disabled-bg-color: #DDD;\n",
              "  }\n",
              "\n",
              "  [theme=dark] .colab-df-quickchart {\n",
              "      --bg-color: #3B4455;\n",
              "      --fill-color: #D2E3FC;\n",
              "      --hover-bg-color: #434B5C;\n",
              "      --hover-fill-color: #FFFFFF;\n",
              "      --disabled-bg-color: #3B4455;\n",
              "      --disabled-fill-color: #666;\n",
              "  }\n",
              "\n",
              "  .colab-df-quickchart {\n",
              "    background-color: var(--bg-color);\n",
              "    border: none;\n",
              "    border-radius: 50%;\n",
              "    cursor: pointer;\n",
              "    display: none;\n",
              "    fill: var(--fill-color);\n",
              "    height: 32px;\n",
              "    padding: 0;\n",
              "    width: 32px;\n",
              "  }\n",
              "\n",
              "  .colab-df-quickchart:hover {\n",
              "    background-color: var(--hover-bg-color);\n",
              "    box-shadow: 0 1px 2px rgba(60, 64, 67, 0.3), 0 1px 3px 1px rgba(60, 64, 67, 0.15);\n",
              "    fill: var(--button-hover-fill-color);\n",
              "  }\n",
              "\n",
              "  .colab-df-quickchart-complete:disabled,\n",
              "  .colab-df-quickchart-complete:disabled:hover {\n",
              "    background-color: var(--disabled-bg-color);\n",
              "    fill: var(--disabled-fill-color);\n",
              "    box-shadow: none;\n",
              "  }\n",
              "\n",
              "  .colab-df-spinner {\n",
              "    border: 2px solid var(--fill-color);\n",
              "    border-color: transparent;\n",
              "    border-bottom-color: var(--fill-color);\n",
              "    animation:\n",
              "      spin 1s steps(1) infinite;\n",
              "  }\n",
              "\n",
              "  @keyframes spin {\n",
              "    0% {\n",
              "      border-color: transparent;\n",
              "      border-bottom-color: var(--fill-color);\n",
              "      border-left-color: var(--fill-color);\n",
              "    }\n",
              "    20% {\n",
              "      border-color: transparent;\n",
              "      border-left-color: var(--fill-color);\n",
              "      border-top-color: var(--fill-color);\n",
              "    }\n",
              "    30% {\n",
              "      border-color: transparent;\n",
              "      border-left-color: var(--fill-color);\n",
              "      border-top-color: var(--fill-color);\n",
              "      border-right-color: var(--fill-color);\n",
              "    }\n",
              "    40% {\n",
              "      border-color: transparent;\n",
              "      border-right-color: var(--fill-color);\n",
              "      border-top-color: var(--fill-color);\n",
              "    }\n",
              "    60% {\n",
              "      border-color: transparent;\n",
              "      border-right-color: var(--fill-color);\n",
              "    }\n",
              "    80% {\n",
              "      border-color: transparent;\n",
              "      border-right-color: var(--fill-color);\n",
              "      border-bottom-color: var(--fill-color);\n",
              "    }\n",
              "    90% {\n",
              "      border-color: transparent;\n",
              "      border-bottom-color: var(--fill-color);\n",
              "    }\n",
              "  }\n",
              "</style>\n",
              "\n",
              "  <script>\n",
              "    async function quickchart(key) {\n",
              "      const quickchartButtonEl =\n",
              "        document.querySelector('#' + key + ' button');\n",
              "      quickchartButtonEl.disabled = true;  // To prevent multiple clicks.\n",
              "      quickchartButtonEl.classList.add('colab-df-spinner');\n",
              "      try {\n",
              "        const charts = await google.colab.kernel.invokeFunction(\n",
              "            'suggestCharts', [key], {});\n",
              "      } catch (error) {\n",
              "        console.error('Error during call to suggestCharts:', error);\n",
              "      }\n",
              "      quickchartButtonEl.classList.remove('colab-df-spinner');\n",
              "      quickchartButtonEl.classList.add('colab-df-quickchart-complete');\n",
              "    }\n",
              "    (() => {\n",
              "      let quickchartButtonEl =\n",
              "        document.querySelector('#df-1bcdcc4b-00a7-4872-9e54-c446b6e69ab9 button');\n",
              "      quickchartButtonEl.style.display =\n",
              "        google.colab.kernel.accessAllowed ? 'block' : 'none';\n",
              "    })();\n",
              "  </script>\n",
              "</div>\n",
              "\n",
              "    </div>\n",
              "  </div>\n"
            ]
          },
          "metadata": {},
          "execution_count": 42
        }
      ]
    },
    {
      "cell_type": "markdown",
      "source": [
        "We will remove redundant or innecesary attributes like *Cabin*, *PassengerId*, *num* and *name*."
      ],
      "metadata": {
        "id": "kxRWSgWyr26i"
      }
    },
    {
      "cell_type": "code",
      "source": [
        "def DeleteColumns(X, columns):\n",
        "    \"\"\"Delete a list of columns from the Dataframe.\n",
        "\n",
        "    Args:\n",
        "      X: Dataframe.\n",
        "      columns: Columns to be removed.\n",
        "\n",
        "    Returns:\n",
        "      X: Dataframe without columns removed.\n",
        "    \"\"\"\n",
        "    X = X.drop(columns, axis=1)\n",
        "\n",
        "    return X"
      ],
      "metadata": {
        "id": "zhAsx1Gt1QR-"
      },
      "execution_count": null,
      "outputs": []
    },
    {
      "cell_type": "code",
      "source": [
        "deleteCols = FunctionTransformer(DeleteColumns, kw_args=dict(columns=['PassengerId', 'Cabin', 'num', 'Name']))"
      ],
      "metadata": {
        "id": "muV0SCdP1IN0"
      },
      "execution_count": null,
      "outputs": []
    },
    {
      "cell_type": "code",
      "source": [
        "X_train = deleteCols.fit_transform(X_train)"
      ],
      "metadata": {
        "id": "x0pf7R-N4a-p"
      },
      "execution_count": null,
      "outputs": []
    },
    {
      "cell_type": "code",
      "source": [
        "X_train.head(3)"
      ],
      "metadata": {
        "colab": {
          "base_uri": "https://localhost:8080/",
          "height": 143
        },
        "id": "1_SfB7PDsMzj",
        "outputId": "86868ee2-7d62-475e-b149-2349474c2c2c"
      },
      "execution_count": null,
      "outputs": [
        {
          "output_type": "execute_result",
          "data": {
            "text/plain": [
              "  HomePlanet CryoSleep  Destination   Age    VIP  RoomService  FoodCourt  \\\n",
              "0     Europa     False  TRAPPIST-1e  39.0  False          0.0        0.0   \n",
              "1      Earth     False  TRAPPIST-1e  24.0  False        109.0        9.0   \n",
              "2     Europa     False  TRAPPIST-1e  58.0   True         43.0     3576.0   \n",
              "\n",
              "   ShoppingMall     Spa  VRDeck deck side  \n",
              "0           0.0     0.0     0.0    B    P  \n",
              "1          25.0   549.0    44.0    F    S  \n",
              "2           0.0  6715.0    49.0    A    S  "
            ],
            "text/html": [
              "\n",
              "  <div id=\"df-843849ae-b8db-4648-b0a9-9c7cbc4fbb88\" class=\"colab-df-container\">\n",
              "    <div>\n",
              "<style scoped>\n",
              "    .dataframe tbody tr th:only-of-type {\n",
              "        vertical-align: middle;\n",
              "    }\n",
              "\n",
              "    .dataframe tbody tr th {\n",
              "        vertical-align: top;\n",
              "    }\n",
              "\n",
              "    .dataframe thead th {\n",
              "        text-align: right;\n",
              "    }\n",
              "</style>\n",
              "<table border=\"1\" class=\"dataframe\">\n",
              "  <thead>\n",
              "    <tr style=\"text-align: right;\">\n",
              "      <th></th>\n",
              "      <th>HomePlanet</th>\n",
              "      <th>CryoSleep</th>\n",
              "      <th>Destination</th>\n",
              "      <th>Age</th>\n",
              "      <th>VIP</th>\n",
              "      <th>RoomService</th>\n",
              "      <th>FoodCourt</th>\n",
              "      <th>ShoppingMall</th>\n",
              "      <th>Spa</th>\n",
              "      <th>VRDeck</th>\n",
              "      <th>deck</th>\n",
              "      <th>side</th>\n",
              "    </tr>\n",
              "  </thead>\n",
              "  <tbody>\n",
              "    <tr>\n",
              "      <th>0</th>\n",
              "      <td>Europa</td>\n",
              "      <td>False</td>\n",
              "      <td>TRAPPIST-1e</td>\n",
              "      <td>39.0</td>\n",
              "      <td>False</td>\n",
              "      <td>0.0</td>\n",
              "      <td>0.0</td>\n",
              "      <td>0.0</td>\n",
              "      <td>0.0</td>\n",
              "      <td>0.0</td>\n",
              "      <td>B</td>\n",
              "      <td>P</td>\n",
              "    </tr>\n",
              "    <tr>\n",
              "      <th>1</th>\n",
              "      <td>Earth</td>\n",
              "      <td>False</td>\n",
              "      <td>TRAPPIST-1e</td>\n",
              "      <td>24.0</td>\n",
              "      <td>False</td>\n",
              "      <td>109.0</td>\n",
              "      <td>9.0</td>\n",
              "      <td>25.0</td>\n",
              "      <td>549.0</td>\n",
              "      <td>44.0</td>\n",
              "      <td>F</td>\n",
              "      <td>S</td>\n",
              "    </tr>\n",
              "    <tr>\n",
              "      <th>2</th>\n",
              "      <td>Europa</td>\n",
              "      <td>False</td>\n",
              "      <td>TRAPPIST-1e</td>\n",
              "      <td>58.0</td>\n",
              "      <td>True</td>\n",
              "      <td>43.0</td>\n",
              "      <td>3576.0</td>\n",
              "      <td>0.0</td>\n",
              "      <td>6715.0</td>\n",
              "      <td>49.0</td>\n",
              "      <td>A</td>\n",
              "      <td>S</td>\n",
              "    </tr>\n",
              "  </tbody>\n",
              "</table>\n",
              "</div>\n",
              "    <div class=\"colab-df-buttons\">\n",
              "\n",
              "  <div class=\"colab-df-container\">\n",
              "    <button class=\"colab-df-convert\" onclick=\"convertToInteractive('df-843849ae-b8db-4648-b0a9-9c7cbc4fbb88')\"\n",
              "            title=\"Convert this dataframe to an interactive table.\"\n",
              "            style=\"display:none;\">\n",
              "\n",
              "  <svg xmlns=\"http://www.w3.org/2000/svg\" height=\"24px\" viewBox=\"0 -960 960 960\">\n",
              "    <path d=\"M120-120v-720h720v720H120Zm60-500h600v-160H180v160Zm220 220h160v-160H400v160Zm0 220h160v-160H400v160ZM180-400h160v-160H180v160Zm440 0h160v-160H620v160ZM180-180h160v-160H180v160Zm440 0h160v-160H620v160Z\"/>\n",
              "  </svg>\n",
              "    </button>\n",
              "\n",
              "  <style>\n",
              "    .colab-df-container {\n",
              "      display:flex;\n",
              "      gap: 12px;\n",
              "    }\n",
              "\n",
              "    .colab-df-convert {\n",
              "      background-color: #E8F0FE;\n",
              "      border: none;\n",
              "      border-radius: 50%;\n",
              "      cursor: pointer;\n",
              "      display: none;\n",
              "      fill: #1967D2;\n",
              "      height: 32px;\n",
              "      padding: 0 0 0 0;\n",
              "      width: 32px;\n",
              "    }\n",
              "\n",
              "    .colab-df-convert:hover {\n",
              "      background-color: #E2EBFA;\n",
              "      box-shadow: 0px 1px 2px rgba(60, 64, 67, 0.3), 0px 1px 3px 1px rgba(60, 64, 67, 0.15);\n",
              "      fill: #174EA6;\n",
              "    }\n",
              "\n",
              "    .colab-df-buttons div {\n",
              "      margin-bottom: 4px;\n",
              "    }\n",
              "\n",
              "    [theme=dark] .colab-df-convert {\n",
              "      background-color: #3B4455;\n",
              "      fill: #D2E3FC;\n",
              "    }\n",
              "\n",
              "    [theme=dark] .colab-df-convert:hover {\n",
              "      background-color: #434B5C;\n",
              "      box-shadow: 0px 1px 3px 1px rgba(0, 0, 0, 0.15);\n",
              "      filter: drop-shadow(0px 1px 2px rgba(0, 0, 0, 0.3));\n",
              "      fill: #FFFFFF;\n",
              "    }\n",
              "  </style>\n",
              "\n",
              "    <script>\n",
              "      const buttonEl =\n",
              "        document.querySelector('#df-843849ae-b8db-4648-b0a9-9c7cbc4fbb88 button.colab-df-convert');\n",
              "      buttonEl.style.display =\n",
              "        google.colab.kernel.accessAllowed ? 'block' : 'none';\n",
              "\n",
              "      async function convertToInteractive(key) {\n",
              "        const element = document.querySelector('#df-843849ae-b8db-4648-b0a9-9c7cbc4fbb88');\n",
              "        const dataTable =\n",
              "          await google.colab.kernel.invokeFunction('convertToInteractive',\n",
              "                                                    [key], {});\n",
              "        if (!dataTable) return;\n",
              "\n",
              "        const docLinkHtml = 'Like what you see? Visit the ' +\n",
              "          '<a target=\"_blank\" href=https://colab.research.google.com/notebooks/data_table.ipynb>data table notebook</a>'\n",
              "          + ' to learn more about interactive tables.';\n",
              "        element.innerHTML = '';\n",
              "        dataTable['output_type'] = 'display_data';\n",
              "        await google.colab.output.renderOutput(dataTable, element);\n",
              "        const docLink = document.createElement('div');\n",
              "        docLink.innerHTML = docLinkHtml;\n",
              "        element.appendChild(docLink);\n",
              "      }\n",
              "    </script>\n",
              "  </div>\n",
              "\n",
              "\n",
              "<div id=\"df-edeeda74-1658-4ee3-abce-ad0f8393d6db\">\n",
              "  <button class=\"colab-df-quickchart\" onclick=\"quickchart('df-edeeda74-1658-4ee3-abce-ad0f8393d6db')\"\n",
              "            title=\"Suggest charts\"\n",
              "            style=\"display:none;\">\n",
              "\n",
              "<svg xmlns=\"http://www.w3.org/2000/svg\" height=\"24px\"viewBox=\"0 0 24 24\"\n",
              "     width=\"24px\">\n",
              "    <g>\n",
              "        <path d=\"M19 3H5c-1.1 0-2 .9-2 2v14c0 1.1.9 2 2 2h14c1.1 0 2-.9 2-2V5c0-1.1-.9-2-2-2zM9 17H7v-7h2v7zm4 0h-2V7h2v10zm4 0h-2v-4h2v4z\"/>\n",
              "    </g>\n",
              "</svg>\n",
              "  </button>\n",
              "\n",
              "<style>\n",
              "  .colab-df-quickchart {\n",
              "      --bg-color: #E8F0FE;\n",
              "      --fill-color: #1967D2;\n",
              "      --hover-bg-color: #E2EBFA;\n",
              "      --hover-fill-color: #174EA6;\n",
              "      --disabled-fill-color: #AAA;\n",
              "      --disabled-bg-color: #DDD;\n",
              "  }\n",
              "\n",
              "  [theme=dark] .colab-df-quickchart {\n",
              "      --bg-color: #3B4455;\n",
              "      --fill-color: #D2E3FC;\n",
              "      --hover-bg-color: #434B5C;\n",
              "      --hover-fill-color: #FFFFFF;\n",
              "      --disabled-bg-color: #3B4455;\n",
              "      --disabled-fill-color: #666;\n",
              "  }\n",
              "\n",
              "  .colab-df-quickchart {\n",
              "    background-color: var(--bg-color);\n",
              "    border: none;\n",
              "    border-radius: 50%;\n",
              "    cursor: pointer;\n",
              "    display: none;\n",
              "    fill: var(--fill-color);\n",
              "    height: 32px;\n",
              "    padding: 0;\n",
              "    width: 32px;\n",
              "  }\n",
              "\n",
              "  .colab-df-quickchart:hover {\n",
              "    background-color: var(--hover-bg-color);\n",
              "    box-shadow: 0 1px 2px rgba(60, 64, 67, 0.3), 0 1px 3px 1px rgba(60, 64, 67, 0.15);\n",
              "    fill: var(--button-hover-fill-color);\n",
              "  }\n",
              "\n",
              "  .colab-df-quickchart-complete:disabled,\n",
              "  .colab-df-quickchart-complete:disabled:hover {\n",
              "    background-color: var(--disabled-bg-color);\n",
              "    fill: var(--disabled-fill-color);\n",
              "    box-shadow: none;\n",
              "  }\n",
              "\n",
              "  .colab-df-spinner {\n",
              "    border: 2px solid var(--fill-color);\n",
              "    border-color: transparent;\n",
              "    border-bottom-color: var(--fill-color);\n",
              "    animation:\n",
              "      spin 1s steps(1) infinite;\n",
              "  }\n",
              "\n",
              "  @keyframes spin {\n",
              "    0% {\n",
              "      border-color: transparent;\n",
              "      border-bottom-color: var(--fill-color);\n",
              "      border-left-color: var(--fill-color);\n",
              "    }\n",
              "    20% {\n",
              "      border-color: transparent;\n",
              "      border-left-color: var(--fill-color);\n",
              "      border-top-color: var(--fill-color);\n",
              "    }\n",
              "    30% {\n",
              "      border-color: transparent;\n",
              "      border-left-color: var(--fill-color);\n",
              "      border-top-color: var(--fill-color);\n",
              "      border-right-color: var(--fill-color);\n",
              "    }\n",
              "    40% {\n",
              "      border-color: transparent;\n",
              "      border-right-color: var(--fill-color);\n",
              "      border-top-color: var(--fill-color);\n",
              "    }\n",
              "    60% {\n",
              "      border-color: transparent;\n",
              "      border-right-color: var(--fill-color);\n",
              "    }\n",
              "    80% {\n",
              "      border-color: transparent;\n",
              "      border-right-color: var(--fill-color);\n",
              "      border-bottom-color: var(--fill-color);\n",
              "    }\n",
              "    90% {\n",
              "      border-color: transparent;\n",
              "      border-bottom-color: var(--fill-color);\n",
              "    }\n",
              "  }\n",
              "</style>\n",
              "\n",
              "  <script>\n",
              "    async function quickchart(key) {\n",
              "      const quickchartButtonEl =\n",
              "        document.querySelector('#' + key + ' button');\n",
              "      quickchartButtonEl.disabled = true;  // To prevent multiple clicks.\n",
              "      quickchartButtonEl.classList.add('colab-df-spinner');\n",
              "      try {\n",
              "        const charts = await google.colab.kernel.invokeFunction(\n",
              "            'suggestCharts', [key], {});\n",
              "      } catch (error) {\n",
              "        console.error('Error during call to suggestCharts:', error);\n",
              "      }\n",
              "      quickchartButtonEl.classList.remove('colab-df-spinner');\n",
              "      quickchartButtonEl.classList.add('colab-df-quickchart-complete');\n",
              "    }\n",
              "    (() => {\n",
              "      let quickchartButtonEl =\n",
              "        document.querySelector('#df-edeeda74-1658-4ee3-abce-ad0f8393d6db button');\n",
              "      quickchartButtonEl.style.display =\n",
              "        google.colab.kernel.accessAllowed ? 'block' : 'none';\n",
              "    })();\n",
              "  </script>\n",
              "</div>\n",
              "\n",
              "    </div>\n",
              "  </div>\n"
            ]
          },
          "metadata": {},
          "execution_count": 46
        }
      ]
    },
    {
      "cell_type": "markdown",
      "source": [
        "It is time to handle missing values.\n",
        "Due to the existence of outliers, numerical attributes will be filled out with the median, while categorical attributes will be filled out with the most frequent value."
      ],
      "metadata": {
        "id": "YRyg82NYsxzC"
      }
    },
    {
      "cell_type": "code",
      "source": [
        "from sklearn.impute import SimpleImputer"
      ],
      "metadata": {
        "id": "v4XgNj6sAczV"
      },
      "execution_count": null,
      "outputs": []
    },
    {
      "cell_type": "code",
      "source": [
        "num_imputer = SimpleImputer(strategy='median')"
      ],
      "metadata": {
        "id": "8bdRZOts29IV"
      },
      "execution_count": null,
      "outputs": []
    },
    {
      "cell_type": "code",
      "source": [
        "cat_imputer = SimpleImputer(strategy='most_frequent')"
      ],
      "metadata": {
        "id": "1oDyEqUn3_iD"
      },
      "execution_count": null,
      "outputs": []
    },
    {
      "cell_type": "code",
      "source": [
        "X_train[getColNames(X_train, 'num')] = num_imputer.fit_transform(X_train[getColNames(X_train, 'num')])"
      ],
      "metadata": {
        "id": "OG8T508Y4Gjg"
      },
      "execution_count": null,
      "outputs": []
    },
    {
      "cell_type": "code",
      "source": [
        "X_train[getColNames(X_train, 'cat')] = cat_imputer.fit_transform(X_train[getColNames(X_train, 'cat')])"
      ],
      "metadata": {
        "id": "d_hwF_CUBvVV"
      },
      "execution_count": null,
      "outputs": []
    },
    {
      "cell_type": "code",
      "source": [
        "X_train.info()"
      ],
      "metadata": {
        "colab": {
          "base_uri": "https://localhost:8080/"
        },
        "id": "VeVVWExMtk2C",
        "outputId": "f7d7776b-37a1-4a93-85ef-10f8837d46a4"
      },
      "execution_count": null,
      "outputs": [
        {
          "output_type": "stream",
          "name": "stdout",
          "text": [
            "<class 'pandas.core.frame.DataFrame'>\n",
            "RangeIndex: 8693 entries, 0 to 8692\n",
            "Data columns (total 12 columns):\n",
            " #   Column        Non-Null Count  Dtype  \n",
            "---  ------        --------------  -----  \n",
            " 0   HomePlanet    8693 non-null   object \n",
            " 1   CryoSleep     8693 non-null   object \n",
            " 2   Destination   8693 non-null   object \n",
            " 3   Age           8693 non-null   float64\n",
            " 4   VIP           8693 non-null   object \n",
            " 5   RoomService   8693 non-null   float64\n",
            " 6   FoodCourt     8693 non-null   float64\n",
            " 7   ShoppingMall  8693 non-null   float64\n",
            " 8   Spa           8693 non-null   float64\n",
            " 9   VRDeck        8693 non-null   float64\n",
            " 10  deck          8693 non-null   object \n",
            " 11  side          8693 non-null   object \n",
            "dtypes: float64(6), object(6)\n",
            "memory usage: 815.1+ KB\n"
          ]
        }
      ]
    },
    {
      "cell_type": "markdown",
      "source": [
        "The combination of the attributes *deck* and *side* is statistically significant."
      ],
      "metadata": {
        "id": "qUnKmzBtts78"
      }
    },
    {
      "cell_type": "code",
      "source": [
        "def combineAttribs(X, columns):\n",
        "    \"\"\"Delete a list of columns from the Dataframe.\n",
        "\n",
        "    Args:\n",
        "      X: Dataframe.\n",
        "      columns: Attributes to be merged.\n",
        "\n",
        "    Returns:\n",
        "      merged: Merged Attribute.\n",
        "    \"\"\"\n",
        "    merged = X[columns[0]].astype(str) + X[columns[1]].astype(str)\n",
        "    return merged"
      ],
      "metadata": {
        "id": "zjy3yxNRCZ8i"
      },
      "execution_count": null,
      "outputs": []
    },
    {
      "cell_type": "code",
      "source": [
        "combineCols = FunctionTransformer(combineAttribs, kw_args=dict(columns=['deck', 'side']))"
      ],
      "metadata": {
        "id": "PRbgA8NY2hG3"
      },
      "execution_count": null,
      "outputs": []
    },
    {
      "cell_type": "code",
      "source": [
        "X_train['ds'] = combineCols.fit_transform(X_train)"
      ],
      "metadata": {
        "id": "pm37SHDhxWsz"
      },
      "execution_count": null,
      "outputs": []
    },
    {
      "cell_type": "code",
      "source": [
        "X_train.head(3)"
      ],
      "metadata": {
        "colab": {
          "base_uri": "https://localhost:8080/",
          "height": 143
        },
        "id": "wYYO7muTvcc_",
        "outputId": "9c87afc0-8f81-45c4-fcab-9a68e3c3c7cb"
      },
      "execution_count": null,
      "outputs": [
        {
          "output_type": "execute_result",
          "data": {
            "text/plain": [
              "  HomePlanet CryoSleep  Destination   Age    VIP  RoomService  FoodCourt  \\\n",
              "0     Europa     False  TRAPPIST-1e  39.0  False          0.0        0.0   \n",
              "1      Earth     False  TRAPPIST-1e  24.0  False        109.0        9.0   \n",
              "2     Europa     False  TRAPPIST-1e  58.0   True         43.0     3576.0   \n",
              "\n",
              "   ShoppingMall     Spa  VRDeck deck side  ds  \n",
              "0           0.0     0.0     0.0    B    P  BP  \n",
              "1          25.0   549.0    44.0    F    S  FS  \n",
              "2           0.0  6715.0    49.0    A    S  AS  "
            ],
            "text/html": [
              "\n",
              "  <div id=\"df-508e4d2c-e16a-4d93-97d0-409934ddba8c\" class=\"colab-df-container\">\n",
              "    <div>\n",
              "<style scoped>\n",
              "    .dataframe tbody tr th:only-of-type {\n",
              "        vertical-align: middle;\n",
              "    }\n",
              "\n",
              "    .dataframe tbody tr th {\n",
              "        vertical-align: top;\n",
              "    }\n",
              "\n",
              "    .dataframe thead th {\n",
              "        text-align: right;\n",
              "    }\n",
              "</style>\n",
              "<table border=\"1\" class=\"dataframe\">\n",
              "  <thead>\n",
              "    <tr style=\"text-align: right;\">\n",
              "      <th></th>\n",
              "      <th>HomePlanet</th>\n",
              "      <th>CryoSleep</th>\n",
              "      <th>Destination</th>\n",
              "      <th>Age</th>\n",
              "      <th>VIP</th>\n",
              "      <th>RoomService</th>\n",
              "      <th>FoodCourt</th>\n",
              "      <th>ShoppingMall</th>\n",
              "      <th>Spa</th>\n",
              "      <th>VRDeck</th>\n",
              "      <th>deck</th>\n",
              "      <th>side</th>\n",
              "      <th>ds</th>\n",
              "    </tr>\n",
              "  </thead>\n",
              "  <tbody>\n",
              "    <tr>\n",
              "      <th>0</th>\n",
              "      <td>Europa</td>\n",
              "      <td>False</td>\n",
              "      <td>TRAPPIST-1e</td>\n",
              "      <td>39.0</td>\n",
              "      <td>False</td>\n",
              "      <td>0.0</td>\n",
              "      <td>0.0</td>\n",
              "      <td>0.0</td>\n",
              "      <td>0.0</td>\n",
              "      <td>0.0</td>\n",
              "      <td>B</td>\n",
              "      <td>P</td>\n",
              "      <td>BP</td>\n",
              "    </tr>\n",
              "    <tr>\n",
              "      <th>1</th>\n",
              "      <td>Earth</td>\n",
              "      <td>False</td>\n",
              "      <td>TRAPPIST-1e</td>\n",
              "      <td>24.0</td>\n",
              "      <td>False</td>\n",
              "      <td>109.0</td>\n",
              "      <td>9.0</td>\n",
              "      <td>25.0</td>\n",
              "      <td>549.0</td>\n",
              "      <td>44.0</td>\n",
              "      <td>F</td>\n",
              "      <td>S</td>\n",
              "      <td>FS</td>\n",
              "    </tr>\n",
              "    <tr>\n",
              "      <th>2</th>\n",
              "      <td>Europa</td>\n",
              "      <td>False</td>\n",
              "      <td>TRAPPIST-1e</td>\n",
              "      <td>58.0</td>\n",
              "      <td>True</td>\n",
              "      <td>43.0</td>\n",
              "      <td>3576.0</td>\n",
              "      <td>0.0</td>\n",
              "      <td>6715.0</td>\n",
              "      <td>49.0</td>\n",
              "      <td>A</td>\n",
              "      <td>S</td>\n",
              "      <td>AS</td>\n",
              "    </tr>\n",
              "  </tbody>\n",
              "</table>\n",
              "</div>\n",
              "    <div class=\"colab-df-buttons\">\n",
              "\n",
              "  <div class=\"colab-df-container\">\n",
              "    <button class=\"colab-df-convert\" onclick=\"convertToInteractive('df-508e4d2c-e16a-4d93-97d0-409934ddba8c')\"\n",
              "            title=\"Convert this dataframe to an interactive table.\"\n",
              "            style=\"display:none;\">\n",
              "\n",
              "  <svg xmlns=\"http://www.w3.org/2000/svg\" height=\"24px\" viewBox=\"0 -960 960 960\">\n",
              "    <path d=\"M120-120v-720h720v720H120Zm60-500h600v-160H180v160Zm220 220h160v-160H400v160Zm0 220h160v-160H400v160ZM180-400h160v-160H180v160Zm440 0h160v-160H620v160ZM180-180h160v-160H180v160Zm440 0h160v-160H620v160Z\"/>\n",
              "  </svg>\n",
              "    </button>\n",
              "\n",
              "  <style>\n",
              "    .colab-df-container {\n",
              "      display:flex;\n",
              "      gap: 12px;\n",
              "    }\n",
              "\n",
              "    .colab-df-convert {\n",
              "      background-color: #E8F0FE;\n",
              "      border: none;\n",
              "      border-radius: 50%;\n",
              "      cursor: pointer;\n",
              "      display: none;\n",
              "      fill: #1967D2;\n",
              "      height: 32px;\n",
              "      padding: 0 0 0 0;\n",
              "      width: 32px;\n",
              "    }\n",
              "\n",
              "    .colab-df-convert:hover {\n",
              "      background-color: #E2EBFA;\n",
              "      box-shadow: 0px 1px 2px rgba(60, 64, 67, 0.3), 0px 1px 3px 1px rgba(60, 64, 67, 0.15);\n",
              "      fill: #174EA6;\n",
              "    }\n",
              "\n",
              "    .colab-df-buttons div {\n",
              "      margin-bottom: 4px;\n",
              "    }\n",
              "\n",
              "    [theme=dark] .colab-df-convert {\n",
              "      background-color: #3B4455;\n",
              "      fill: #D2E3FC;\n",
              "    }\n",
              "\n",
              "    [theme=dark] .colab-df-convert:hover {\n",
              "      background-color: #434B5C;\n",
              "      box-shadow: 0px 1px 3px 1px rgba(0, 0, 0, 0.15);\n",
              "      filter: drop-shadow(0px 1px 2px rgba(0, 0, 0, 0.3));\n",
              "      fill: #FFFFFF;\n",
              "    }\n",
              "  </style>\n",
              "\n",
              "    <script>\n",
              "      const buttonEl =\n",
              "        document.querySelector('#df-508e4d2c-e16a-4d93-97d0-409934ddba8c button.colab-df-convert');\n",
              "      buttonEl.style.display =\n",
              "        google.colab.kernel.accessAllowed ? 'block' : 'none';\n",
              "\n",
              "      async function convertToInteractive(key) {\n",
              "        const element = document.querySelector('#df-508e4d2c-e16a-4d93-97d0-409934ddba8c');\n",
              "        const dataTable =\n",
              "          await google.colab.kernel.invokeFunction('convertToInteractive',\n",
              "                                                    [key], {});\n",
              "        if (!dataTable) return;\n",
              "\n",
              "        const docLinkHtml = 'Like what you see? Visit the ' +\n",
              "          '<a target=\"_blank\" href=https://colab.research.google.com/notebooks/data_table.ipynb>data table notebook</a>'\n",
              "          + ' to learn more about interactive tables.';\n",
              "        element.innerHTML = '';\n",
              "        dataTable['output_type'] = 'display_data';\n",
              "        await google.colab.output.renderOutput(dataTable, element);\n",
              "        const docLink = document.createElement('div');\n",
              "        docLink.innerHTML = docLinkHtml;\n",
              "        element.appendChild(docLink);\n",
              "      }\n",
              "    </script>\n",
              "  </div>\n",
              "\n",
              "\n",
              "<div id=\"df-7c3d09c3-662c-4d3e-881f-c71743bb1f55\">\n",
              "  <button class=\"colab-df-quickchart\" onclick=\"quickchart('df-7c3d09c3-662c-4d3e-881f-c71743bb1f55')\"\n",
              "            title=\"Suggest charts\"\n",
              "            style=\"display:none;\">\n",
              "\n",
              "<svg xmlns=\"http://www.w3.org/2000/svg\" height=\"24px\"viewBox=\"0 0 24 24\"\n",
              "     width=\"24px\">\n",
              "    <g>\n",
              "        <path d=\"M19 3H5c-1.1 0-2 .9-2 2v14c0 1.1.9 2 2 2h14c1.1 0 2-.9 2-2V5c0-1.1-.9-2-2-2zM9 17H7v-7h2v7zm4 0h-2V7h2v10zm4 0h-2v-4h2v4z\"/>\n",
              "    </g>\n",
              "</svg>\n",
              "  </button>\n",
              "\n",
              "<style>\n",
              "  .colab-df-quickchart {\n",
              "      --bg-color: #E8F0FE;\n",
              "      --fill-color: #1967D2;\n",
              "      --hover-bg-color: #E2EBFA;\n",
              "      --hover-fill-color: #174EA6;\n",
              "      --disabled-fill-color: #AAA;\n",
              "      --disabled-bg-color: #DDD;\n",
              "  }\n",
              "\n",
              "  [theme=dark] .colab-df-quickchart {\n",
              "      --bg-color: #3B4455;\n",
              "      --fill-color: #D2E3FC;\n",
              "      --hover-bg-color: #434B5C;\n",
              "      --hover-fill-color: #FFFFFF;\n",
              "      --disabled-bg-color: #3B4455;\n",
              "      --disabled-fill-color: #666;\n",
              "  }\n",
              "\n",
              "  .colab-df-quickchart {\n",
              "    background-color: var(--bg-color);\n",
              "    border: none;\n",
              "    border-radius: 50%;\n",
              "    cursor: pointer;\n",
              "    display: none;\n",
              "    fill: var(--fill-color);\n",
              "    height: 32px;\n",
              "    padding: 0;\n",
              "    width: 32px;\n",
              "  }\n",
              "\n",
              "  .colab-df-quickchart:hover {\n",
              "    background-color: var(--hover-bg-color);\n",
              "    box-shadow: 0 1px 2px rgba(60, 64, 67, 0.3), 0 1px 3px 1px rgba(60, 64, 67, 0.15);\n",
              "    fill: var(--button-hover-fill-color);\n",
              "  }\n",
              "\n",
              "  .colab-df-quickchart-complete:disabled,\n",
              "  .colab-df-quickchart-complete:disabled:hover {\n",
              "    background-color: var(--disabled-bg-color);\n",
              "    fill: var(--disabled-fill-color);\n",
              "    box-shadow: none;\n",
              "  }\n",
              "\n",
              "  .colab-df-spinner {\n",
              "    border: 2px solid var(--fill-color);\n",
              "    border-color: transparent;\n",
              "    border-bottom-color: var(--fill-color);\n",
              "    animation:\n",
              "      spin 1s steps(1) infinite;\n",
              "  }\n",
              "\n",
              "  @keyframes spin {\n",
              "    0% {\n",
              "      border-color: transparent;\n",
              "      border-bottom-color: var(--fill-color);\n",
              "      border-left-color: var(--fill-color);\n",
              "    }\n",
              "    20% {\n",
              "      border-color: transparent;\n",
              "      border-left-color: var(--fill-color);\n",
              "      border-top-color: var(--fill-color);\n",
              "    }\n",
              "    30% {\n",
              "      border-color: transparent;\n",
              "      border-left-color: var(--fill-color);\n",
              "      border-top-color: var(--fill-color);\n",
              "      border-right-color: var(--fill-color);\n",
              "    }\n",
              "    40% {\n",
              "      border-color: transparent;\n",
              "      border-right-color: var(--fill-color);\n",
              "      border-top-color: var(--fill-color);\n",
              "    }\n",
              "    60% {\n",
              "      border-color: transparent;\n",
              "      border-right-color: var(--fill-color);\n",
              "    }\n",
              "    80% {\n",
              "      border-color: transparent;\n",
              "      border-right-color: var(--fill-color);\n",
              "      border-bottom-color: var(--fill-color);\n",
              "    }\n",
              "    90% {\n",
              "      border-color: transparent;\n",
              "      border-bottom-color: var(--fill-color);\n",
              "    }\n",
              "  }\n",
              "</style>\n",
              "\n",
              "  <script>\n",
              "    async function quickchart(key) {\n",
              "      const quickchartButtonEl =\n",
              "        document.querySelector('#' + key + ' button');\n",
              "      quickchartButtonEl.disabled = true;  // To prevent multiple clicks.\n",
              "      quickchartButtonEl.classList.add('colab-df-spinner');\n",
              "      try {\n",
              "        const charts = await google.colab.kernel.invokeFunction(\n",
              "            'suggestCharts', [key], {});\n",
              "      } catch (error) {\n",
              "        console.error('Error during call to suggestCharts:', error);\n",
              "      }\n",
              "      quickchartButtonEl.classList.remove('colab-df-spinner');\n",
              "      quickchartButtonEl.classList.add('colab-df-quickchart-complete');\n",
              "    }\n",
              "    (() => {\n",
              "      let quickchartButtonEl =\n",
              "        document.querySelector('#df-7c3d09c3-662c-4d3e-881f-c71743bb1f55 button');\n",
              "      quickchartButtonEl.style.display =\n",
              "        google.colab.kernel.accessAllowed ? 'block' : 'none';\n",
              "    })();\n",
              "  </script>\n",
              "</div>\n",
              "\n",
              "    </div>\n",
              "  </div>\n"
            ]
          },
          "metadata": {},
          "execution_count": 56
        }
      ]
    },
    {
      "cell_type": "markdown",
      "source": [
        "The data is strongly skewed to the right, we use the square root, to make it a little less skewed."
      ],
      "metadata": {
        "id": "rEaYi4nGvi-j"
      }
    },
    {
      "cell_type": "code",
      "source": [
        "squareRootCols = FunctionTransformer(np.sqrt)"
      ],
      "metadata": {
        "id": "-xSXizwsyxMf"
      },
      "execution_count": null,
      "outputs": []
    },
    {
      "cell_type": "code",
      "source": [
        "X_train[getColNames(X_train, 'num')] = squareRootCols.fit_transform(X_train[getColNames(X_train, 'num')])"
      ],
      "metadata": {
        "id": "IU5W6VTdFbWI"
      },
      "execution_count": null,
      "outputs": []
    },
    {
      "cell_type": "markdown",
      "source": [
        "We scale the numerical attributes so that they do not have such extreme values."
      ],
      "metadata": {
        "id": "ySVELHI_vzjF"
      }
    },
    {
      "cell_type": "code",
      "source": [
        "from sklearn.preprocessing import StandardScaler"
      ],
      "metadata": {
        "id": "4cGSSIoLJTPL"
      },
      "execution_count": null,
      "outputs": []
    },
    {
      "cell_type": "code",
      "source": [
        "std = StandardScaler()"
      ],
      "metadata": {
        "id": "AKEBFeLMJgvt"
      },
      "execution_count": null,
      "outputs": []
    },
    {
      "cell_type": "code",
      "source": [
        "X_train[getColNames(X_train, 'num')] = std.fit_transform(X_train[getColNames(X_train, 'num')])"
      ],
      "metadata": {
        "id": "TpL8FAvnJjNr"
      },
      "execution_count": null,
      "outputs": []
    },
    {
      "cell_type": "code",
      "source": [
        "X_train.hist(bins=50, figsize=(10, 10))\n",
        "plt.show()"
      ],
      "metadata": {
        "colab": {
          "base_uri": "https://localhost:8080/",
          "height": 853
        },
        "id": "jDNqKu8QKP-c",
        "outputId": "95172466-a772-4185-8fe1-704cb3d0d456"
      },
      "execution_count": null,
      "outputs": [
        {
          "output_type": "display_data",
          "data": {
            "text/plain": [
              "<Figure size 1000x1000 with 6 Axes>"
            ],
            "image/png": "[encoded data removed]"
          },
          "metadata": {}
        }
      ]
    },
    {
      "cell_type": "markdown",
      "source": [
        "The data is still skewed to the right but to a lesser extent, this is because in certain attributes the majority of the data has a value of $0$, so the square root keeps them with the same value."
      ],
      "metadata": {
        "id": "gQKJS3uVwX2U"
      }
    },
    {
      "cell_type": "code",
      "source": [
        "X_train.head(3)"
      ],
      "metadata": {
        "colab": {
          "base_uri": "https://localhost:8080/",
          "height": 143
        },
        "id": "GPZFR_3fOQNn",
        "outputId": "ea63d9f7-a2af-430f-dee0-511025e6f5b6"
      },
      "execution_count": null,
      "outputs": [
        {
          "output_type": "execute_result",
          "data": {
            "text/plain": [
              "  HomePlanet CryoSleep  Destination       Age    VIP  RoomService  FoodCourt  \\\n",
              "0     Europa     False  TRAPPIST-1e  0.718869  False    -0.508537  -0.471952   \n",
              "1      Earth     False  TRAPPIST-1e -0.157843  False     0.281119  -0.315299   \n",
              "2     Europa     False  TRAPPIST-1e  1.611706   True    -0.012563   2.650648   \n",
              "\n",
              "   ShoppingMall       Spa    VRDeck deck side  ds  \n",
              "0     -0.487678 -0.478100 -0.464515    B    P  BP  \n",
              "1     -0.060486  1.009995 -0.041015    F    S  FS  \n",
              "2     -0.487678  4.726264 -0.017599    A    S  AS  "
            ],
            "text/html": [
              "\n",
              "  <div id=\"df-23499f0f-d8ce-4345-910f-062ec8c5deac\" class=\"colab-df-container\">\n",
              "    <div>\n",
              "<style scoped>\n",
              "    .dataframe tbody tr th:only-of-type {\n",
              "        vertical-align: middle;\n",
              "    }\n",
              "\n",
              "    .dataframe tbody tr th {\n",
              "        vertical-align: top;\n",
              "    }\n",
              "\n",
              "    .dataframe thead th {\n",
              "        text-align: right;\n",
              "    }\n",
              "</style>\n",
              "<table border=\"1\" class=\"dataframe\">\n",
              "  <thead>\n",
              "    <tr style=\"text-align: right;\">\n",
              "      <th></th>\n",
              "      <th>HomePlanet</th>\n",
              "      <th>CryoSleep</th>\n",
              "      <th>Destination</th>\n",
              "      <th>Age</th>\n",
              "      <th>VIP</th>\n",
              "      <th>RoomService</th>\n",
              "      <th>FoodCourt</th>\n",
              "      <th>ShoppingMall</th>\n",
              "      <th>Spa</th>\n",
              "      <th>VRDeck</th>\n",
              "      <th>deck</th>\n",
              "      <th>side</th>\n",
              "      <th>ds</th>\n",
              "    </tr>\n",
              "  </thead>\n",
              "  <tbody>\n",
              "    <tr>\n",
              "      <th>0</th>\n",
              "      <td>Europa</td>\n",
              "      <td>False</td>\n",
              "      <td>TRAPPIST-1e</td>\n",
              "      <td>0.718869</td>\n",
              "      <td>False</td>\n",
              "      <td>-0.508537</td>\n",
              "      <td>-0.471952</td>\n",
              "      <td>-0.487678</td>\n",
              "      <td>-0.478100</td>\n",
              "      <td>-0.464515</td>\n",
              "      <td>B</td>\n",
              "      <td>P</td>\n",
              "      <td>BP</td>\n",
              "    </tr>\n",
              "    <tr>\n",
              "      <th>1</th>\n",
              "      <td>Earth</td>\n",
              "      <td>False</td>\n",
              "      <td>TRAPPIST-1e</td>\n",
              "      <td>-0.157843</td>\n",
              "      <td>False</td>\n",
              "      <td>0.281119</td>\n",
              "      <td>-0.315299</td>\n",
              "      <td>-0.060486</td>\n",
              "      <td>1.009995</td>\n",
              "      <td>-0.041015</td>\n",
              "      <td>F</td>\n",
              "      <td>S</td>\n",
              "      <td>FS</td>\n",
              "    </tr>\n",
              "    <tr>\n",
              "      <th>2</th>\n",
              "      <td>Europa</td>\n",
              "      <td>False</td>\n",
              "      <td>TRAPPIST-1e</td>\n",
              "      <td>1.611706</td>\n",
              "      <td>True</td>\n",
              "      <td>-0.012563</td>\n",
              "      <td>2.650648</td>\n",
              "      <td>-0.487678</td>\n",
              "      <td>4.726264</td>\n",
              "      <td>-0.017599</td>\n",
              "      <td>A</td>\n",
              "      <td>S</td>\n",
              "      <td>AS</td>\n",
              "    </tr>\n",
              "  </tbody>\n",
              "</table>\n",
              "</div>\n",
              "    <div class=\"colab-df-buttons\">\n",
              "\n",
              "  <div class=\"colab-df-container\">\n",
              "    <button class=\"colab-df-convert\" onclick=\"convertToInteractive('df-23499f0f-d8ce-4345-910f-062ec8c5deac')\"\n",
              "            title=\"Convert this dataframe to an interactive table.\"\n",
              "            style=\"display:none;\">\n",
              "\n",
              "  <svg xmlns=\"http://www.w3.org/2000/svg\" height=\"24px\" viewBox=\"0 -960 960 960\">\n",
              "    <path d=\"M120-120v-720h720v720H120Zm60-500h600v-160H180v160Zm220 220h160v-160H400v160Zm0 220h160v-160H400v160ZM180-400h160v-160H180v160Zm440 0h160v-160H620v160ZM180-180h160v-160H180v160Zm440 0h160v-160H620v160Z\"/>\n",
              "  </svg>\n",
              "    </button>\n",
              "\n",
              "  <style>\n",
              "    .colab-df-container {\n",
              "      display:flex;\n",
              "      gap: 12px;\n",
              "    }\n",
              "\n",
              "    .colab-df-convert {\n",
              "      background-color: #E8F0FE;\n",
              "      border: none;\n",
              "      border-radius: 50%;\n",
              "      cursor: pointer;\n",
              "      display: none;\n",
              "      fill: #1967D2;\n",
              "      height: 32px;\n",
              "      padding: 0 0 0 0;\n",
              "      width: 32px;\n",
              "    }\n",
              "\n",
              "    .colab-df-convert:hover {\n",
              "      background-color: #E2EBFA;\n",
              "      box-shadow: 0px 1px 2px rgba(60, 64, 67, 0.3), 0px 1px 3px 1px rgba(60, 64, 67, 0.15);\n",
              "      fill: #174EA6;\n",
              "    }\n",
              "\n",
              "    .colab-df-buttons div {\n",
              "      margin-bottom: 4px;\n",
              "    }\n",
              "\n",
              "    [theme=dark] .colab-df-convert {\n",
              "      background-color: #3B4455;\n",
              "      fill: #D2E3FC;\n",
              "    }\n",
              "\n",
              "    [theme=dark] .colab-df-convert:hover {\n",
              "      background-color: #434B5C;\n",
              "      box-shadow: 0px 1px 3px 1px rgba(0, 0, 0, 0.15);\n",
              "      filter: drop-shadow(0px 1px 2px rgba(0, 0, 0, 0.3));\n",
              "      fill: #FFFFFF;\n",
              "    }\n",
              "  </style>\n",
              "\n",
              "    <script>\n",
              "      const buttonEl =\n",
              "        document.querySelector('#df-23499f0f-d8ce-4345-910f-062ec8c5deac button.colab-df-convert');\n",
              "      buttonEl.style.display =\n",
              "        google.colab.kernel.accessAllowed ? 'block' : 'none';\n",
              "\n",
              "      async function convertToInteractive(key) {\n",
              "        const element = document.querySelector('#df-23499f0f-d8ce-4345-910f-062ec8c5deac');\n",
              "        const dataTable =\n",
              "          await google.colab.kernel.invokeFunction('convertToInteractive',\n",
              "                                                    [key], {});\n",
              "        if (!dataTable) return;\n",
              "\n",
              "        const docLinkHtml = 'Like what you see? Visit the ' +\n",
              "          '<a target=\"_blank\" href=https://colab.research.google.com/notebooks/data_table.ipynb>data table notebook</a>'\n",
              "          + ' to learn more about interactive tables.';\n",
              "        element.innerHTML = '';\n",
              "        dataTable['output_type'] = 'display_data';\n",
              "        await google.colab.output.renderOutput(dataTable, element);\n",
              "        const docLink = document.createElement('div');\n",
              "        docLink.innerHTML = docLinkHtml;\n",
              "        element.appendChild(docLink);\n",
              "      }\n",
              "    </script>\n",
              "  </div>\n",
              "\n",
              "\n",
              "<div id=\"df-33cfa75a-c034-4f05-b20b-8809d6f5c1a7\">\n",
              "  <button class=\"colab-df-quickchart\" onclick=\"quickchart('df-33cfa75a-c034-4f05-b20b-8809d6f5c1a7')\"\n",
              "            title=\"Suggest charts\"\n",
              "            style=\"display:none;\">\n",
              "\n",
              "<svg xmlns=\"http://www.w3.org/2000/svg\" height=\"24px\"viewBox=\"0 0 24 24\"\n",
              "     width=\"24px\">\n",
              "    <g>\n",
              "        <path d=\"M19 3H5c-1.1 0-2 .9-2 2v14c0 1.1.9 2 2 2h14c1.1 0 2-.9 2-2V5c0-1.1-.9-2-2-2zM9 17H7v-7h2v7zm4 0h-2V7h2v10zm4 0h-2v-4h2v4z\"/>\n",
              "    </g>\n",
              "</svg>\n",
              "  </button>\n",
              "\n",
              "<style>\n",
              "  .colab-df-quickchart {\n",
              "      --bg-color: #E8F0FE;\n",
              "      --fill-color: #1967D2;\n",
              "      --hover-bg-color: #E2EBFA;\n",
              "      --hover-fill-color: #174EA6;\n",
              "      --disabled-fill-color: #AAA;\n",
              "      --disabled-bg-color: #DDD;\n",
              "  }\n",
              "\n",
              "  [theme=dark] .colab-df-quickchart {\n",
              "      --bg-color: #3B4455;\n",
              "      --fill-color: #D2E3FC;\n",
              "      --hover-bg-color: #434B5C;\n",
              "      --hover-fill-color: #FFFFFF;\n",
              "      --disabled-bg-color: #3B4455;\n",
              "      --disabled-fill-color: #666;\n",
              "  }\n",
              "\n",
              "  .colab-df-quickchart {\n",
              "    background-color: var(--bg-color);\n",
              "    border: none;\n",
              "    border-radius: 50%;\n",
              "    cursor: pointer;\n",
              "    display: none;\n",
              "    fill: var(--fill-color);\n",
              "    height: 32px;\n",
              "    padding: 0;\n",
              "    width: 32px;\n",
              "  }\n",
              "\n",
              "  .colab-df-quickchart:hover {\n",
              "    background-color: var(--hover-bg-color);\n",
              "    box-shadow: 0 1px 2px rgba(60, 64, 67, 0.3), 0 1px 3px 1px rgba(60, 64, 67, 0.15);\n",
              "    fill: var(--button-hover-fill-color);\n",
              "  }\n",
              "\n",
              "  .colab-df-quickchart-complete:disabled,\n",
              "  .colab-df-quickchart-complete:disabled:hover {\n",
              "    background-color: var(--disabled-bg-color);\n",
              "    fill: var(--disabled-fill-color);\n",
              "    box-shadow: none;\n",
              "  }\n",
              "\n",
              "  .colab-df-spinner {\n",
              "    border: 2px solid var(--fill-color);\n",
              "    border-color: transparent;\n",
              "    border-bottom-color: var(--fill-color);\n",
              "    animation:\n",
              "      spin 1s steps(1) infinite;\n",
              "  }\n",
              "\n",
              "  @keyframes spin {\n",
              "    0% {\n",
              "      border-color: transparent;\n",
              "      border-bottom-color: var(--fill-color);\n",
              "      border-left-color: var(--fill-color);\n",
              "    }\n",
              "    20% {\n",
              "      border-color: transparent;\n",
              "      border-left-color: var(--fill-color);\n",
              "      border-top-color: var(--fill-color);\n",
              "    }\n",
              "    30% {\n",
              "      border-color: transparent;\n",
              "      border-left-color: var(--fill-color);\n",
              "      border-top-color: var(--fill-color);\n",
              "      border-right-color: var(--fill-color);\n",
              "    }\n",
              "    40% {\n",
              "      border-color: transparent;\n",
              "      border-right-color: var(--fill-color);\n",
              "      border-top-color: var(--fill-color);\n",
              "    }\n",
              "    60% {\n",
              "      border-color: transparent;\n",
              "      border-right-color: var(--fill-color);\n",
              "    }\n",
              "    80% {\n",
              "      border-color: transparent;\n",
              "      border-right-color: var(--fill-color);\n",
              "      border-bottom-color: var(--fill-color);\n",
              "    }\n",
              "    90% {\n",
              "      border-color: transparent;\n",
              "      border-bottom-color: var(--fill-color);\n",
              "    }\n",
              "  }\n",
              "</style>\n",
              "\n",
              "  <script>\n",
              "    async function quickchart(key) {\n",
              "      const quickchartButtonEl =\n",
              "        document.querySelector('#' + key + ' button');\n",
              "      quickchartButtonEl.disabled = true;  // To prevent multiple clicks.\n",
              "      quickchartButtonEl.classList.add('colab-df-spinner');\n",
              "      try {\n",
              "        const charts = await google.colab.kernel.invokeFunction(\n",
              "            'suggestCharts', [key], {});\n",
              "      } catch (error) {\n",
              "        console.error('Error during call to suggestCharts:', error);\n",
              "      }\n",
              "      quickchartButtonEl.classList.remove('colab-df-spinner');\n",
              "      quickchartButtonEl.classList.add('colab-df-quickchart-complete');\n",
              "    }\n",
              "    (() => {\n",
              "      let quickchartButtonEl =\n",
              "        document.querySelector('#df-33cfa75a-c034-4f05-b20b-8809d6f5c1a7 button');\n",
              "      quickchartButtonEl.style.display =\n",
              "        google.colab.kernel.accessAllowed ? 'block' : 'none';\n",
              "    })();\n",
              "  </script>\n",
              "</div>\n",
              "\n",
              "    </div>\n",
              "  </div>\n"
            ]
          },
          "metadata": {},
          "execution_count": 63
        }
      ]
    },
    {
      "cell_type": "markdown",
      "source": [
        "Due machine learning algorithms work best with numbers, categorical attributes will be encoded, if the attribute only has two values an ordinal encoding will be used, while if the attribute contains more than two possible values then it will use a one hot encoding."
      ],
      "metadata": {
        "id": "dwPkdUKNw1z1"
      }
    },
    {
      "cell_type": "code",
      "source": [
        "ord_vars = []\n",
        "ohe_vars = []\n",
        "for col in getColNames(X_train, 'cat'):\n",
        "    if X_train[col].value_counts().shape[0] > 2:\n",
        "        ohe_vars.append(col)\n",
        "    else:\n",
        "        ord_vars.append(col)"
      ],
      "metadata": {
        "id": "HbUyUSR2Yz-c"
      },
      "execution_count": null,
      "outputs": []
    },
    {
      "cell_type": "code",
      "source": [
        "from sklearn.preprocessing import OrdinalEncoder, OneHotEncoder"
      ],
      "metadata": {
        "id": "i6um-k20x1xf"
      },
      "execution_count": null,
      "outputs": []
    },
    {
      "cell_type": "code",
      "source": [
        "ord_encod = OrdinalEncoder()"
      ],
      "metadata": {
        "id": "lAw6gKMMbOGY"
      },
      "execution_count": null,
      "outputs": []
    },
    {
      "cell_type": "code",
      "source": [
        "X_train[ord_vars] = ord_encod.fit_transform(X_train[ord_vars])"
      ],
      "metadata": {
        "id": "OFdE_fD4cNbr"
      },
      "execution_count": null,
      "outputs": []
    },
    {
      "cell_type": "code",
      "source": [
        "X_train.head(3)"
      ],
      "metadata": {
        "colab": {
          "base_uri": "https://localhost:8080/",
          "height": 143
        },
        "id": "91VlUgkkcSwK",
        "outputId": "1b8eb736-d3ce-4019-d249-000af71fceae"
      },
      "execution_count": null,
      "outputs": [
        {
          "output_type": "execute_result",
          "data": {
            "text/plain": [
              "  HomePlanet  CryoSleep  Destination       Age  VIP  RoomService  FoodCourt  \\\n",
              "0     Europa        0.0  TRAPPIST-1e  0.718869  0.0    -0.508537  -0.471952   \n",
              "1      Earth        0.0  TRAPPIST-1e -0.157843  0.0     0.281119  -0.315299   \n",
              "2     Europa        0.0  TRAPPIST-1e  1.611706  1.0    -0.012563   2.650648   \n",
              "\n",
              "   ShoppingMall       Spa    VRDeck deck  side  ds  \n",
              "0     -0.487678 -0.478100 -0.464515    B   0.0  BP  \n",
              "1     -0.060486  1.009995 -0.041015    F   1.0  FS  \n",
              "2     -0.487678  4.726264 -0.017599    A   1.0  AS  "
            ],
            "text/html": [
              "\n",
              "  <div id=\"df-881e25bb-43b3-40b1-83d5-5a859e805c23\" class=\"colab-df-container\">\n",
              "    <div>\n",
              "<style scoped>\n",
              "    .dataframe tbody tr th:only-of-type {\n",
              "        vertical-align: middle;\n",
              "    }\n",
              "\n",
              "    .dataframe tbody tr th {\n",
              "        vertical-align: top;\n",
              "    }\n",
              "\n",
              "    .dataframe thead th {\n",
              "        text-align: right;\n",
              "    }\n",
              "</style>\n",
              "<table border=\"1\" class=\"dataframe\">\n",
              "  <thead>\n",
              "    <tr style=\"text-align: right;\">\n",
              "      <th></th>\n",
              "      <th>HomePlanet</th>\n",
              "      <th>CryoSleep</th>\n",
              "      <th>Destination</th>\n",
              "      <th>Age</th>\n",
              "      <th>VIP</th>\n",
              "      <th>RoomService</th>\n",
              "      <th>FoodCourt</th>\n",
              "      <th>ShoppingMall</th>\n",
              "      <th>Spa</th>\n",
              "      <th>VRDeck</th>\n",
              "      <th>deck</th>\n",
              "      <th>side</th>\n",
              "      <th>ds</th>\n",
              "    </tr>\n",
              "  </thead>\n",
              "  <tbody>\n",
              "    <tr>\n",
              "      <th>0</th>\n",
              "      <td>Europa</td>\n",
              "      <td>0.0</td>\n",
              "      <td>TRAPPIST-1e</td>\n",
              "      <td>0.718869</td>\n",
              "      <td>0.0</td>\n",
              "      <td>-0.508537</td>\n",
              "      <td>-0.471952</td>\n",
              "      <td>-0.487678</td>\n",
              "      <td>-0.478100</td>\n",
              "      <td>-0.464515</td>\n",
              "      <td>B</td>\n",
              "      <td>0.0</td>\n",
              "      <td>BP</td>\n",
              "    </tr>\n",
              "    <tr>\n",
              "      <th>1</th>\n",
              "      <td>Earth</td>\n",
              "      <td>0.0</td>\n",
              "      <td>TRAPPIST-1e</td>\n",
              "      <td>-0.157843</td>\n",
              "      <td>0.0</td>\n",
              "      <td>0.281119</td>\n",
              "      <td>-0.315299</td>\n",
              "      <td>-0.060486</td>\n",
              "      <td>1.009995</td>\n",
              "      <td>-0.041015</td>\n",
              "      <td>F</td>\n",
              "      <td>1.0</td>\n",
              "      <td>FS</td>\n",
              "    </tr>\n",
              "    <tr>\n",
              "      <th>2</th>\n",
              "      <td>Europa</td>\n",
              "      <td>0.0</td>\n",
              "      <td>TRAPPIST-1e</td>\n",
              "      <td>1.611706</td>\n",
              "      <td>1.0</td>\n",
              "      <td>-0.012563</td>\n",
              "      <td>2.650648</td>\n",
              "      <td>-0.487678</td>\n",
              "      <td>4.726264</td>\n",
              "      <td>-0.017599</td>\n",
              "      <td>A</td>\n",
              "      <td>1.0</td>\n",
              "      <td>AS</td>\n",
              "    </tr>\n",
              "  </tbody>\n",
              "</table>\n",
              "</div>\n",
              "    <div class=\"colab-df-buttons\">\n",
              "\n",
              "  <div class=\"colab-df-container\">\n",
              "    <button class=\"colab-df-convert\" onclick=\"convertToInteractive('df-881e25bb-43b3-40b1-83d5-5a859e805c23')\"\n",
              "            title=\"Convert this dataframe to an interactive table.\"\n",
              "            style=\"display:none;\">\n",
              "\n",
              "  <svg xmlns=\"http://www.w3.org/2000/svg\" height=\"24px\" viewBox=\"0 -960 960 960\">\n",
              "    <path d=\"M120-120v-720h720v720H120Zm60-500h600v-160H180v160Zm220 220h160v-160H400v160Zm0 220h160v-160H400v160ZM180-400h160v-160H180v160Zm440 0h160v-160H620v160ZM180-180h160v-160H180v160Zm440 0h160v-160H620v160Z\"/>\n",
              "  </svg>\n",
              "    </button>\n",
              "\n",
              "  <style>\n",
              "    .colab-df-container {\n",
              "      display:flex;\n",
              "      gap: 12px;\n",
              "    }\n",
              "\n",
              "    .colab-df-convert {\n",
              "      background-color: #E8F0FE;\n",
              "      border: none;\n",
              "      border-radius: 50%;\n",
              "      cursor: pointer;\n",
              "      display: none;\n",
              "      fill: #1967D2;\n",
              "      height: 32px;\n",
              "      padding: 0 0 0 0;\n",
              "      width: 32px;\n",
              "    }\n",
              "\n",
              "    .colab-df-convert:hover {\n",
              "      background-color: #E2EBFA;\n",
              "      box-shadow: 0px 1px 2px rgba(60, 64, 67, 0.3), 0px 1px 3px 1px rgba(60, 64, 67, 0.15);\n",
              "      fill: #174EA6;\n",
              "    }\n",
              "\n",
              "    .colab-df-buttons div {\n",
              "      margin-bottom: 4px;\n",
              "    }\n",
              "\n",
              "    [theme=dark] .colab-df-convert {\n",
              "      background-color: #3B4455;\n",
              "      fill: #D2E3FC;\n",
              "    }\n",
              "\n",
              "    [theme=dark] .colab-df-convert:hover {\n",
              "      background-color: #434B5C;\n",
              "      box-shadow: 0px 1px 3px 1px rgba(0, 0, 0, 0.15);\n",
              "      filter: drop-shadow(0px 1px 2px rgba(0, 0, 0, 0.3));\n",
              "      fill: #FFFFFF;\n",
              "    }\n",
              "  </style>\n",
              "\n",
              "    <script>\n",
              "      const buttonEl =\n",
              "        document.querySelector('#df-881e25bb-43b3-40b1-83d5-5a859e805c23 button.colab-df-convert');\n",
              "      buttonEl.style.display =\n",
              "        google.colab.kernel.accessAllowed ? 'block' : 'none';\n",
              "\n",
              "      async function convertToInteractive(key) {\n",
              "        const element = document.querySelector('#df-881e25bb-43b3-40b1-83d5-5a859e805c23');\n",
              "        const dataTable =\n",
              "          await google.colab.kernel.invokeFunction('convertToInteractive',\n",
              "                                                    [key], {});\n",
              "        if (!dataTable) return;\n",
              "\n",
              "        const docLinkHtml = 'Like what you see? Visit the ' +\n",
              "          '<a target=\"_blank\" href=https://colab.research.google.com/notebooks/data_table.ipynb>data table notebook</a>'\n",
              "          + ' to learn more about interactive tables.';\n",
              "        element.innerHTML = '';\n",
              "        dataTable['output_type'] = 'display_data';\n",
              "        await google.colab.output.renderOutput(dataTable, element);\n",
              "        const docLink = document.createElement('div');\n",
              "        docLink.innerHTML = docLinkHtml;\n",
              "        element.appendChild(docLink);\n",
              "      }\n",
              "    </script>\n",
              "  </div>\n",
              "\n",
              "\n",
              "<div id=\"df-4e409170-80e2-4204-989b-6ef363fd5f08\">\n",
              "  <button class=\"colab-df-quickchart\" onclick=\"quickchart('df-4e409170-80e2-4204-989b-6ef363fd5f08')\"\n",
              "            title=\"Suggest charts\"\n",
              "            style=\"display:none;\">\n",
              "\n",
              "<svg xmlns=\"http://www.w3.org/2000/svg\" height=\"24px\"viewBox=\"0 0 24 24\"\n",
              "     width=\"24px\">\n",
              "    <g>\n",
              "        <path d=\"M19 3H5c-1.1 0-2 .9-2 2v14c0 1.1.9 2 2 2h14c1.1 0 2-.9 2-2V5c0-1.1-.9-2-2-2zM9 17H7v-7h2v7zm4 0h-2V7h2v10zm4 0h-2v-4h2v4z\"/>\n",
              "    </g>\n",
              "</svg>\n",
              "  </button>\n",
              "\n",
              "<style>\n",
              "  .colab-df-quickchart {\n",
              "      --bg-color: #E8F0FE;\n",
              "      --fill-color: #1967D2;\n",
              "      --hover-bg-color: #E2EBFA;\n",
              "      --hover-fill-color: #174EA6;\n",
              "      --disabled-fill-color: #AAA;\n",
              "      --disabled-bg-color: #DDD;\n",
              "  }\n",
              "\n",
              "  [theme=dark] .colab-df-quickchart {\n",
              "      --bg-color: #3B4455;\n",
              "      --fill-color: #D2E3FC;\n",
              "      --hover-bg-color: #434B5C;\n",
              "      --hover-fill-color: #FFFFFF;\n",
              "      --disabled-bg-color: #3B4455;\n",
              "      --disabled-fill-color: #666;\n",
              "  }\n",
              "\n",
              "  .colab-df-quickchart {\n",
              "    background-color: var(--bg-color);\n",
              "    border: none;\n",
              "    border-radius: 50%;\n",
              "    cursor: pointer;\n",
              "    display: none;\n",
              "    fill: var(--fill-color);\n",
              "    height: 32px;\n",
              "    padding: 0;\n",
              "    width: 32px;\n",
              "  }\n",
              "\n",
              "  .colab-df-quickchart:hover {\n",
              "    background-color: var(--hover-bg-color);\n",
              "    box-shadow: 0 1px 2px rgba(60, 64, 67, 0.3), 0 1px 3px 1px rgba(60, 64, 67, 0.15);\n",
              "    fill: var(--button-hover-fill-color);\n",
              "  }\n",
              "\n",
              "  .colab-df-quickchart-complete:disabled,\n",
              "  .colab-df-quickchart-complete:disabled:hover {\n",
              "    background-color: var(--disabled-bg-color);\n",
              "    fill: var(--disabled-fill-color);\n",
              "    box-shadow: none;\n",
              "  }\n",
              "\n",
              "  .colab-df-spinner {\n",
              "    border: 2px solid var(--fill-color);\n",
              "    border-color: transparent;\n",
              "    border-bottom-color: var(--fill-color);\n",
              "    animation:\n",
              "      spin 1s steps(1) infinite;\n",
              "  }\n",
              "\n",
              "  @keyframes spin {\n",
              "    0% {\n",
              "      border-color: transparent;\n",
              "      border-bottom-color: var(--fill-color);\n",
              "      border-left-color: var(--fill-color);\n",
              "    }\n",
              "    20% {\n",
              "      border-color: transparent;\n",
              "      border-left-color: var(--fill-color);\n",
              "      border-top-color: var(--fill-color);\n",
              "    }\n",
              "    30% {\n",
              "      border-color: transparent;\n",
              "      border-left-color: var(--fill-color);\n",
              "      border-top-color: var(--fill-color);\n",
              "      border-right-color: var(--fill-color);\n",
              "    }\n",
              "    40% {\n",
              "      border-color: transparent;\n",
              "      border-right-color: var(--fill-color);\n",
              "      border-top-color: var(--fill-color);\n",
              "    }\n",
              "    60% {\n",
              "      border-color: transparent;\n",
              "      border-right-color: var(--fill-color);\n",
              "    }\n",
              "    80% {\n",
              "      border-color: transparent;\n",
              "      border-right-color: var(--fill-color);\n",
              "      border-bottom-color: var(--fill-color);\n",
              "    }\n",
              "    90% {\n",
              "      border-color: transparent;\n",
              "      border-bottom-color: var(--fill-color);\n",
              "    }\n",
              "  }\n",
              "</style>\n",
              "\n",
              "  <script>\n",
              "    async function quickchart(key) {\n",
              "      const quickchartButtonEl =\n",
              "        document.querySelector('#' + key + ' button');\n",
              "      quickchartButtonEl.disabled = true;  // To prevent multiple clicks.\n",
              "      quickchartButtonEl.classList.add('colab-df-spinner');\n",
              "      try {\n",
              "        const charts = await google.colab.kernel.invokeFunction(\n",
              "            'suggestCharts', [key], {});\n",
              "      } catch (error) {\n",
              "        console.error('Error during call to suggestCharts:', error);\n",
              "      }\n",
              "      quickchartButtonEl.classList.remove('colab-df-spinner');\n",
              "      quickchartButtonEl.classList.add('colab-df-quickchart-complete');\n",
              "    }\n",
              "    (() => {\n",
              "      let quickchartButtonEl =\n",
              "        document.querySelector('#df-4e409170-80e2-4204-989b-6ef363fd5f08 button');\n",
              "      quickchartButtonEl.style.display =\n",
              "        google.colab.kernel.accessAllowed ? 'block' : 'none';\n",
              "    })();\n",
              "  </script>\n",
              "</div>\n",
              "\n",
              "    </div>\n",
              "  </div>\n"
            ]
          },
          "metadata": {},
          "execution_count": 68
        }
      ]
    },
    {
      "cell_type": "code",
      "source": [
        "ohe_encod = OneHotEncoder(sparse_output=False).set_output(transform='pandas')"
      ],
      "metadata": {
        "id": "eMoBeEZtcdit"
      },
      "execution_count": null,
      "outputs": []
    },
    {
      "cell_type": "code",
      "source": [
        "X_ohe = ohe_encod.fit_transform(X_train[ohe_vars])"
      ],
      "metadata": {
        "id": "okb-NVkrdOCr"
      },
      "execution_count": null,
      "outputs": []
    },
    {
      "cell_type": "code",
      "source": [
        "X_ohe.head(3)"
      ],
      "metadata": {
        "colab": {
          "base_uri": "https://localhost:8080/",
          "height": 190
        },
        "id": "l1BUna5IddjH",
        "outputId": "73372493-bae1-45cc-c778-51d39d4478bc"
      },
      "execution_count": null,
      "outputs": [
        {
          "output_type": "execute_result",
          "data": {
            "text/plain": [
              "   deck_A  deck_B  deck_C  deck_D  deck_E  deck_F  deck_G  deck_T  ds_AP  \\\n",
              "0     0.0     1.0     0.0     0.0     0.0     0.0     0.0     0.0    0.0   \n",
              "1     0.0     0.0     0.0     0.0     0.0     1.0     0.0     0.0    0.0   \n",
              "2     1.0     0.0     0.0     0.0     0.0     0.0     0.0     0.0    0.0   \n",
              "\n",
              "   ds_AS  ...  ds_GP  ds_GS  ds_TP  ds_TS  Destination_55 Cancri e  \\\n",
              "0    0.0  ...    0.0    0.0    0.0    0.0                      0.0   \n",
              "1    0.0  ...    0.0    0.0    0.0    0.0                      0.0   \n",
              "2    1.0  ...    0.0    0.0    0.0    0.0                      0.0   \n",
              "\n",
              "   Destination_PSO J318.5-22  Destination_TRAPPIST-1e  HomePlanet_Earth  \\\n",
              "0                        0.0                      1.0               0.0   \n",
              "1                        0.0                      1.0               1.0   \n",
              "2                        0.0                      1.0               0.0   \n",
              "\n",
              "   HomePlanet_Europa  HomePlanet_Mars  \n",
              "0                1.0              0.0  \n",
              "1                0.0              0.0  \n",
              "2                1.0              0.0  \n",
              "\n",
              "[3 rows x 30 columns]"
            ],
            "text/html": [
              "\n",
              "  <div id=\"df-58a49727-63b0-4546-999f-47b4827dd661\" class=\"colab-df-container\">\n",
              "    <div>\n",
              "<style scoped>\n",
              "    .dataframe tbody tr th:only-of-type {\n",
              "        vertical-align: middle;\n",
              "    }\n",
              "\n",
              "    .dataframe tbody tr th {\n",
              "        vertical-align: top;\n",
              "    }\n",
              "\n",
              "    .dataframe thead th {\n",
              "        text-align: right;\n",
              "    }\n",
              "</style>\n",
              "<table border=\"1\" class=\"dataframe\">\n",
              "  <thead>\n",
              "    <tr style=\"text-align: right;\">\n",
              "      <th></th>\n",
              "      <th>deck_A</th>\n",
              "      <th>deck_B</th>\n",
              "      <th>deck_C</th>\n",
              "      <th>deck_D</th>\n",
              "      <th>deck_E</th>\n",
              "      <th>deck_F</th>\n",
              "      <th>deck_G</th>\n",
              "      <th>deck_T</th>\n",
              "      <th>ds_AP</th>\n",
              "      <th>ds_AS</th>\n",
              "      <th>...</th>\n",
              "      <th>ds_GP</th>\n",
              "      <th>ds_GS</th>\n",
              "      <th>ds_TP</th>\n",
              "      <th>ds_TS</th>\n",
              "      <th>Destination_55 Cancri e</th>\n",
              "      <th>Destination_PSO J318.5-22</th>\n",
              "      <th>Destination_TRAPPIST-1e</th>\n",
              "      <th>HomePlanet_Earth</th>\n",
              "      <th>HomePlanet_Europa</th>\n",
              "      <th>HomePlanet_Mars</th>\n",
              "    </tr>\n",
              "  </thead>\n",
              "  <tbody>\n",
              "    <tr>\n",
              "      <th>0</th>\n",
              "      <td>0.0</td>\n",
              "      <td>1.0</td>\n",
              "      <td>0.0</td>\n",
              "      <td>0.0</td>\n",
              "      <td>0.0</td>\n",
              "      <td>0.0</td>\n",
              "      <td>0.0</td>\n",
              "      <td>0.0</td>\n",
              "      <td>0.0</td>\n",
              "      <td>0.0</td>\n",
              "      <td>...</td>\n",
              "      <td>0.0</td>\n",
              "      <td>0.0</td>\n",
              "      <td>0.0</td>\n",
              "      <td>0.0</td>\n",
              "      <td>0.0</td>\n",
              "      <td>0.0</td>\n",
              "      <td>1.0</td>\n",
              "      <td>0.0</td>\n",
              "      <td>1.0</td>\n",
              "      <td>0.0</td>\n",
              "    </tr>\n",
              "    <tr>\n",
              "      <th>1</th>\n",
              "      <td>0.0</td>\n",
              "      <td>0.0</td>\n",
              "      <td>0.0</td>\n",
              "      <td>0.0</td>\n",
              "      <td>0.0</td>\n",
              "      <td>1.0</td>\n",
              "      <td>0.0</td>\n",
              "      <td>0.0</td>\n",
              "      <td>0.0</td>\n",
              "      <td>0.0</td>\n",
              "      <td>...</td>\n",
              "      <td>0.0</td>\n",
              "      <td>0.0</td>\n",
              "      <td>0.0</td>\n",
              "      <td>0.0</td>\n",
              "      <td>0.0</td>\n",
              "      <td>0.0</td>\n",
              "      <td>1.0</td>\n",
              "      <td>1.0</td>\n",
              "      <td>0.0</td>\n",
              "      <td>0.0</td>\n",
              "    </tr>\n",
              "    <tr>\n",
              "      <th>2</th>\n",
              "      <td>1.0</td>\n",
              "      <td>0.0</td>\n",
              "      <td>0.0</td>\n",
              "      <td>0.0</td>\n",
              "      <td>0.0</td>\n",
              "      <td>0.0</td>\n",
              "      <td>0.0</td>\n",
              "      <td>0.0</td>\n",
              "      <td>0.0</td>\n",
              "      <td>1.0</td>\n",
              "      <td>...</td>\n",
              "      <td>0.0</td>\n",
              "      <td>0.0</td>\n",
              "      <td>0.0</td>\n",
              "      <td>0.0</td>\n",
              "      <td>0.0</td>\n",
              "      <td>0.0</td>\n",
              "      <td>1.0</td>\n",
              "      <td>0.0</td>\n",
              "      <td>1.0</td>\n",
              "      <td>0.0</td>\n",
              "    </tr>\n",
              "  </tbody>\n",
              "</table>\n",
              "<p>3 rows × 30 columns</p>\n",
              "</div>\n",
              "    <div class=\"colab-df-buttons\">\n",
              "\n",
              "  <div class=\"colab-df-container\">\n",
              "    <button class=\"colab-df-convert\" onclick=\"convertToInteractive('df-58a49727-63b0-4546-999f-47b4827dd661')\"\n",
              "            title=\"Convert this dataframe to an interactive table.\"\n",
              "            style=\"display:none;\">\n",
              "\n",
              "  <svg xmlns=\"http://www.w3.org/2000/svg\" height=\"24px\" viewBox=\"0 -960 960 960\">\n",
              "    <path d=\"M120-120v-720h720v720H120Zm60-500h600v-160H180v160Zm220 220h160v-160H400v160Zm0 220h160v-160H400v160ZM180-400h160v-160H180v160Zm440 0h160v-160H620v160ZM180-180h160v-160H180v160Zm440 0h160v-160H620v160Z\"/>\n",
              "  </svg>\n",
              "    </button>\n",
              "\n",
              "  <style>\n",
              "    .colab-df-container {\n",
              "      display:flex;\n",
              "      gap: 12px;\n",
              "    }\n",
              "\n",
              "    .colab-df-convert {\n",
              "      background-color: #E8F0FE;\n",
              "      border: none;\n",
              "      border-radius: 50%;\n",
              "      cursor: pointer;\n",
              "      display: none;\n",
              "      fill: #1967D2;\n",
              "      height: 32px;\n",
              "      padding: 0 0 0 0;\n",
              "      width: 32px;\n",
              "    }\n",
              "\n",
              "    .colab-df-convert:hover {\n",
              "      background-color: #E2EBFA;\n",
              "      box-shadow: 0px 1px 2px rgba(60, 64, 67, 0.3), 0px 1px 3px 1px rgba(60, 64, 67, 0.15);\n",
              "      fill: #174EA6;\n",
              "    }\n",
              "\n",
              "    .colab-df-buttons div {\n",
              "      margin-bottom: 4px;\n",
              "    }\n",
              "\n",
              "    [theme=dark] .colab-df-convert {\n",
              "      background-color: #3B4455;\n",
              "      fill: #D2E3FC;\n",
              "    }\n",
              "\n",
              "    [theme=dark] .colab-df-convert:hover {\n",
              "      background-color: #434B5C;\n",
              "      box-shadow: 0px 1px 3px 1px rgba(0, 0, 0, 0.15);\n",
              "      filter: drop-shadow(0px 1px 2px rgba(0, 0, 0, 0.3));\n",
              "      fill: #FFFFFF;\n",
              "    }\n",
              "  </style>\n",
              "\n",
              "    <script>\n",
              "      const buttonEl =\n",
              "        document.querySelector('#df-58a49727-63b0-4546-999f-47b4827dd661 button.colab-df-convert');\n",
              "      buttonEl.style.display =\n",
              "        google.colab.kernel.accessAllowed ? 'block' : 'none';\n",
              "\n",
              "      async function convertToInteractive(key) {\n",
              "        const element = document.querySelector('#df-58a49727-63b0-4546-999f-47b4827dd661');\n",
              "        const dataTable =\n",
              "          await google.colab.kernel.invokeFunction('convertToInteractive',\n",
              "                                                    [key], {});\n",
              "        if (!dataTable) return;\n",
              "\n",
              "        const docLinkHtml = 'Like what you see? Visit the ' +\n",
              "          '<a target=\"_blank\" href=https://colab.research.google.com/notebooks/data_table.ipynb>data table notebook</a>'\n",
              "          + ' to learn more about interactive tables.';\n",
              "        element.innerHTML = '';\n",
              "        dataTable['output_type'] = 'display_data';\n",
              "        await google.colab.output.renderOutput(dataTable, element);\n",
              "        const docLink = document.createElement('div');\n",
              "        docLink.innerHTML = docLinkHtml;\n",
              "        element.appendChild(docLink);\n",
              "      }\n",
              "    </script>\n",
              "  </div>\n",
              "\n",
              "\n",
              "<div id=\"df-3c44b35b-7d54-4a04-87a6-ad949ebacaf7\">\n",
              "  <button class=\"colab-df-quickchart\" onclick=\"quickchart('df-3c44b35b-7d54-4a04-87a6-ad949ebacaf7')\"\n",
              "            title=\"Suggest charts\"\n",
              "            style=\"display:none;\">\n",
              "\n",
              "<svg xmlns=\"http://www.w3.org/2000/svg\" height=\"24px\"viewBox=\"0 0 24 24\"\n",
              "     width=\"24px\">\n",
              "    <g>\n",
              "        <path d=\"M19 3H5c-1.1 0-2 .9-2 2v14c0 1.1.9 2 2 2h14c1.1 0 2-.9 2-2V5c0-1.1-.9-2-2-2zM9 17H7v-7h2v7zm4 0h-2V7h2v10zm4 0h-2v-4h2v4z\"/>\n",
              "    </g>\n",
              "</svg>\n",
              "  </button>\n",
              "\n",
              "<style>\n",
              "  .colab-df-quickchart {\n",
              "      --bg-color: #E8F0FE;\n",
              "      --fill-color: #1967D2;\n",
              "      --hover-bg-color: #E2EBFA;\n",
              "      --hover-fill-color: #174EA6;\n",
              "      --disabled-fill-color: #AAA;\n",
              "      --disabled-bg-color: #DDD;\n",
              "  }\n",
              "\n",
              "  [theme=dark] .colab-df-quickchart {\n",
              "      --bg-color: #3B4455;\n",
              "      --fill-color: #D2E3FC;\n",
              "      --hover-bg-color: #434B5C;\n",
              "      --hover-fill-color: #FFFFFF;\n",
              "      --disabled-bg-color: #3B4455;\n",
              "      --disabled-fill-color: #666;\n",
              "  }\n",
              "\n",
              "  .colab-df-quickchart {\n",
              "    background-color: var(--bg-color);\n",
              "    border: none;\n",
              "    border-radius: 50%;\n",
              "    cursor: pointer;\n",
              "    display: none;\n",
              "    fill: var(--fill-color);\n",
              "    height: 32px;\n",
              "    padding: 0;\n",
              "    width: 32px;\n",
              "  }\n",
              "\n",
              "  .colab-df-quickchart:hover {\n",
              "    background-color: var(--hover-bg-color);\n",
              "    box-shadow: 0 1px 2px rgba(60, 64, 67, 0.3), 0 1px 3px 1px rgba(60, 64, 67, 0.15);\n",
              "    fill: var(--button-hover-fill-color);\n",
              "  }\n",
              "\n",
              "  .colab-df-quickchart-complete:disabled,\n",
              "  .colab-df-quickchart-complete:disabled:hover {\n",
              "    background-color: var(--disabled-bg-color);\n",
              "    fill: var(--disabled-fill-color);\n",
              "    box-shadow: none;\n",
              "  }\n",
              "\n",
              "  .colab-df-spinner {\n",
              "    border: 2px solid var(--fill-color);\n",
              "    border-color: transparent;\n",
              "    border-bottom-color: var(--fill-color);\n",
              "    animation:\n",
              "      spin 1s steps(1) infinite;\n",
              "  }\n",
              "\n",
              "  @keyframes spin {\n",
              "    0% {\n",
              "      border-color: transparent;\n",
              "      border-bottom-color: var(--fill-color);\n",
              "      border-left-color: var(--fill-color);\n",
              "    }\n",
              "    20% {\n",
              "      border-color: transparent;\n",
              "      border-left-color: var(--fill-color);\n",
              "      border-top-color: var(--fill-color);\n",
              "    }\n",
              "    30% {\n",
              "      border-color: transparent;\n",
              "      border-left-color: var(--fill-color);\n",
              "      border-top-color: var(--fill-color);\n",
              "      border-right-color: var(--fill-color);\n",
              "    }\n",
              "    40% {\n",
              "      border-color: transparent;\n",
              "      border-right-color: var(--fill-color);\n",
              "      border-top-color: var(--fill-color);\n",
              "    }\n",
              "    60% {\n",
              "      border-color: transparent;\n",
              "      border-right-color: var(--fill-color);\n",
              "    }\n",
              "    80% {\n",
              "      border-color: transparent;\n",
              "      border-right-color: var(--fill-color);\n",
              "      border-bottom-color: var(--fill-color);\n",
              "    }\n",
              "    90% {\n",
              "      border-color: transparent;\n",
              "      border-bottom-color: var(--fill-color);\n",
              "    }\n",
              "  }\n",
              "</style>\n",
              "\n",
              "  <script>\n",
              "    async function quickchart(key) {\n",
              "      const quickchartButtonEl =\n",
              "        document.querySelector('#' + key + ' button');\n",
              "      quickchartButtonEl.disabled = true;  // To prevent multiple clicks.\n",
              "      quickchartButtonEl.classList.add('colab-df-spinner');\n",
              "      try {\n",
              "        const charts = await google.colab.kernel.invokeFunction(\n",
              "            'suggestCharts', [key], {});\n",
              "      } catch (error) {\n",
              "        console.error('Error during call to suggestCharts:', error);\n",
              "      }\n",
              "      quickchartButtonEl.classList.remove('colab-df-spinner');\n",
              "      quickchartButtonEl.classList.add('colab-df-quickchart-complete');\n",
              "    }\n",
              "    (() => {\n",
              "      let quickchartButtonEl =\n",
              "        document.querySelector('#df-3c44b35b-7d54-4a04-87a6-ad949ebacaf7 button');\n",
              "      quickchartButtonEl.style.display =\n",
              "        google.colab.kernel.accessAllowed ? 'block' : 'none';\n",
              "    })();\n",
              "  </script>\n",
              "</div>\n",
              "\n",
              "    </div>\n",
              "  </div>\n"
            ]
          },
          "metadata": {},
          "execution_count": 71
        }
      ]
    },
    {
      "cell_type": "code",
      "source": [
        "X_train = pd.concat([X_train, X_ohe], axis=1).drop(columns = ohe_vars)"
      ],
      "metadata": {
        "id": "EO-8EVXodg25"
      },
      "execution_count": null,
      "outputs": []
    },
    {
      "cell_type": "code",
      "source": [
        "X_train.head(3)"
      ],
      "metadata": {
        "colab": {
          "base_uri": "https://localhost:8080/",
          "height": 210
        },
        "id": "ygdLiHJgd1z6",
        "outputId": "404b62c2-d40b-4d9a-c0f0-16bc2394386b"
      },
      "execution_count": null,
      "outputs": [
        {
          "output_type": "execute_result",
          "data": {
            "text/plain": [
              "   CryoSleep       Age  VIP  RoomService  FoodCourt  ShoppingMall       Spa  \\\n",
              "0        0.0  0.718869  0.0    -0.508537  -0.471952     -0.487678 -0.478100   \n",
              "1        0.0 -0.157843  0.0     0.281119  -0.315299     -0.060486  1.009995   \n",
              "2        0.0  1.611706  1.0    -0.012563   2.650648     -0.487678  4.726264   \n",
              "\n",
              "     VRDeck  side  deck_A  ...  ds_GP  ds_GS  ds_TP  ds_TS  \\\n",
              "0 -0.464515   0.0     0.0  ...    0.0    0.0    0.0    0.0   \n",
              "1 -0.041015   1.0     0.0  ...    0.0    0.0    0.0    0.0   \n",
              "2 -0.017599   1.0     1.0  ...    0.0    0.0    0.0    0.0   \n",
              "\n",
              "   Destination_55 Cancri e  Destination_PSO J318.5-22  \\\n",
              "0                      0.0                        0.0   \n",
              "1                      0.0                        0.0   \n",
              "2                      0.0                        0.0   \n",
              "\n",
              "   Destination_TRAPPIST-1e  HomePlanet_Earth  HomePlanet_Europa  \\\n",
              "0                      1.0               0.0                1.0   \n",
              "1                      1.0               1.0                0.0   \n",
              "2                      1.0               0.0                1.0   \n",
              "\n",
              "   HomePlanet_Mars  \n",
              "0              0.0  \n",
              "1              0.0  \n",
              "2              0.0  \n",
              "\n",
              "[3 rows x 39 columns]"
            ],
            "text/html": [
              "\n",
              "  <div id=\"df-a7a94e5f-8a4b-4ea4-972a-b833908123bb\" class=\"colab-df-container\">\n",
              "    <div>\n",
              "<style scoped>\n",
              "    .dataframe tbody tr th:only-of-type {\n",
              "        vertical-align: middle;\n",
              "    }\n",
              "\n",
              "    .dataframe tbody tr th {\n",
              "        vertical-align: top;\n",
              "    }\n",
              "\n",
              "    .dataframe thead th {\n",
              "        text-align: right;\n",
              "    }\n",
              "</style>\n",
              "<table border=\"1\" class=\"dataframe\">\n",
              "  <thead>\n",
              "    <tr style=\"text-align: right;\">\n",
              "      <th></th>\n",
              "      <th>CryoSleep</th>\n",
              "      <th>Age</th>\n",
              "      <th>VIP</th>\n",
              "      <th>RoomService</th>\n",
              "      <th>FoodCourt</th>\n",
              "      <th>ShoppingMall</th>\n",
              "      <th>Spa</th>\n",
              "      <th>VRDeck</th>\n",
              "      <th>side</th>\n",
              "      <th>deck_A</th>\n",
              "      <th>...</th>\n",
              "      <th>ds_GP</th>\n",
              "      <th>ds_GS</th>\n",
              "      <th>ds_TP</th>\n",
              "      <th>ds_TS</th>\n",
              "      <th>Destination_55 Cancri e</th>\n",
              "      <th>Destination_PSO J318.5-22</th>\n",
              "      <th>Destination_TRAPPIST-1e</th>\n",
              "      <th>HomePlanet_Earth</th>\n",
              "      <th>HomePlanet_Europa</th>\n",
              "      <th>HomePlanet_Mars</th>\n",
              "    </tr>\n",
              "  </thead>\n",
              "  <tbody>\n",
              "    <tr>\n",
              "      <th>0</th>\n",
              "      <td>0.0</td>\n",
              "      <td>0.718869</td>\n",
              "      <td>0.0</td>\n",
              "      <td>-0.508537</td>\n",
              "      <td>-0.471952</td>\n",
              "      <td>-0.487678</td>\n",
              "      <td>-0.478100</td>\n",
              "      <td>-0.464515</td>\n",
              "      <td>0.0</td>\n",
              "      <td>0.0</td>\n",
              "      <td>...</td>\n",
              "      <td>0.0</td>\n",
              "      <td>0.0</td>\n",
              "      <td>0.0</td>\n",
              "      <td>0.0</td>\n",
              "      <td>0.0</td>\n",
              "      <td>0.0</td>\n",
              "      <td>1.0</td>\n",
              "      <td>0.0</td>\n",
              "      <td>1.0</td>\n",
              "      <td>0.0</td>\n",
              "    </tr>\n",
              "    <tr>\n",
              "      <th>1</th>\n",
              "      <td>0.0</td>\n",
              "      <td>-0.157843</td>\n",
              "      <td>0.0</td>\n",
              "      <td>0.281119</td>\n",
              "      <td>-0.315299</td>\n",
              "      <td>-0.060486</td>\n",
              "      <td>1.009995</td>\n",
              "      <td>-0.041015</td>\n",
              "      <td>1.0</td>\n",
              "      <td>0.0</td>\n",
              "      <td>...</td>\n",
              "      <td>0.0</td>\n",
              "      <td>0.0</td>\n",
              "      <td>0.0</td>\n",
              "      <td>0.0</td>\n",
              "      <td>0.0</td>\n",
              "      <td>0.0</td>\n",
              "      <td>1.0</td>\n",
              "      <td>1.0</td>\n",
              "      <td>0.0</td>\n",
              "      <td>0.0</td>\n",
              "    </tr>\n",
              "    <tr>\n",
              "      <th>2</th>\n",
              "      <td>0.0</td>\n",
              "      <td>1.611706</td>\n",
              "      <td>1.0</td>\n",
              "      <td>-0.012563</td>\n",
              "      <td>2.650648</td>\n",
              "      <td>-0.487678</td>\n",
              "      <td>4.726264</td>\n",
              "      <td>-0.017599</td>\n",
              "      <td>1.0</td>\n",
              "      <td>1.0</td>\n",
              "      <td>...</td>\n",
              "      <td>0.0</td>\n",
              "      <td>0.0</td>\n",
              "      <td>0.0</td>\n",
              "      <td>0.0</td>\n",
              "      <td>0.0</td>\n",
              "      <td>0.0</td>\n",
              "      <td>1.0</td>\n",
              "      <td>0.0</td>\n",
              "      <td>1.0</td>\n",
              "      <td>0.0</td>\n",
              "    </tr>\n",
              "  </tbody>\n",
              "</table>\n",
              "<p>3 rows × 39 columns</p>\n",
              "</div>\n",
              "    <div class=\"colab-df-buttons\">\n",
              "\n",
              "  <div class=\"colab-df-container\">\n",
              "    <button class=\"colab-df-convert\" onclick=\"convertToInteractive('df-a7a94e5f-8a4b-4ea4-972a-b833908123bb')\"\n",
              "            title=\"Convert this dataframe to an interactive table.\"\n",
              "            style=\"display:none;\">\n",
              "\n",
              "  <svg xmlns=\"http://www.w3.org/2000/svg\" height=\"24px\" viewBox=\"0 -960 960 960\">\n",
              "    <path d=\"M120-120v-720h720v720H120Zm60-500h600v-160H180v160Zm220 220h160v-160H400v160Zm0 220h160v-160H400v160ZM180-400h160v-160H180v160Zm440 0h160v-160H620v160ZM180-180h160v-160H180v160Zm440 0h160v-160H620v160Z\"/>\n",
              "  </svg>\n",
              "    </button>\n",
              "\n",
              "  <style>\n",
              "    .colab-df-container {\n",
              "      display:flex;\n",
              "      gap: 12px;\n",
              "    }\n",
              "\n",
              "    .colab-df-convert {\n",
              "      background-color: #E8F0FE;\n",
              "      border: none;\n",
              "      border-radius: 50%;\n",
              "      cursor: pointer;\n",
              "      display: none;\n",
              "      fill: #1967D2;\n",
              "      height: 32px;\n",
              "      padding: 0 0 0 0;\n",
              "      width: 32px;\n",
              "    }\n",
              "\n",
              "    .colab-df-convert:hover {\n",
              "      background-color: #E2EBFA;\n",
              "      box-shadow: 0px 1px 2px rgba(60, 64, 67, 0.3), 0px 1px 3px 1px rgba(60, 64, 67, 0.15);\n",
              "      fill: #174EA6;\n",
              "    }\n",
              "\n",
              "    .colab-df-buttons div {\n",
              "      margin-bottom: 4px;\n",
              "    }\n",
              "\n",
              "    [theme=dark] .colab-df-convert {\n",
              "      background-color: #3B4455;\n",
              "      fill: #D2E3FC;\n",
              "    }\n",
              "\n",
              "    [theme=dark] .colab-df-convert:hover {\n",
              "      background-color: #434B5C;\n",
              "      box-shadow: 0px 1px 3px 1px rgba(0, 0, 0, 0.15);\n",
              "      filter: drop-shadow(0px 1px 2px rgba(0, 0, 0, 0.3));\n",
              "      fill: #FFFFFF;\n",
              "    }\n",
              "  </style>\n",
              "\n",
              "    <script>\n",
              "      const buttonEl =\n",
              "        document.querySelector('#df-a7a94e5f-8a4b-4ea4-972a-b833908123bb button.colab-df-convert');\n",
              "      buttonEl.style.display =\n",
              "        google.colab.kernel.accessAllowed ? 'block' : 'none';\n",
              "\n",
              "      async function convertToInteractive(key) {\n",
              "        const element = document.querySelector('#df-a7a94e5f-8a4b-4ea4-972a-b833908123bb');\n",
              "        const dataTable =\n",
              "          await google.colab.kernel.invokeFunction('convertToInteractive',\n",
              "                                                    [key], {});\n",
              "        if (!dataTable) return;\n",
              "\n",
              "        const docLinkHtml = 'Like what you see? Visit the ' +\n",
              "          '<a target=\"_blank\" href=https://colab.research.google.com/notebooks/data_table.ipynb>data table notebook</a>'\n",
              "          + ' to learn more about interactive tables.';\n",
              "        element.innerHTML = '';\n",
              "        dataTable['output_type'] = 'display_data';\n",
              "        await google.colab.output.renderOutput(dataTable, element);\n",
              "        const docLink = document.createElement('div');\n",
              "        docLink.innerHTML = docLinkHtml;\n",
              "        element.appendChild(docLink);\n",
              "      }\n",
              "    </script>\n",
              "  </div>\n",
              "\n",
              "\n",
              "<div id=\"df-d135a524-36bb-4e0d-b2fb-6b7e5c82ba18\">\n",
              "  <button class=\"colab-df-quickchart\" onclick=\"quickchart('df-d135a524-36bb-4e0d-b2fb-6b7e5c82ba18')\"\n",
              "            title=\"Suggest charts\"\n",
              "            style=\"display:none;\">\n",
              "\n",
              "<svg xmlns=\"http://www.w3.org/2000/svg\" height=\"24px\"viewBox=\"0 0 24 24\"\n",
              "     width=\"24px\">\n",
              "    <g>\n",
              "        <path d=\"M19 3H5c-1.1 0-2 .9-2 2v14c0 1.1.9 2 2 2h14c1.1 0 2-.9 2-2V5c0-1.1-.9-2-2-2zM9 17H7v-7h2v7zm4 0h-2V7h2v10zm4 0h-2v-4h2v4z\"/>\n",
              "    </g>\n",
              "</svg>\n",
              "  </button>\n",
              "\n",
              "<style>\n",
              "  .colab-df-quickchart {\n",
              "      --bg-color: #E8F0FE;\n",
              "      --fill-color: #1967D2;\n",
              "      --hover-bg-color: #E2EBFA;\n",
              "      --hover-fill-color: #174EA6;\n",
              "      --disabled-fill-color: #AAA;\n",
              "      --disabled-bg-color: #DDD;\n",
              "  }\n",
              "\n",
              "  [theme=dark] .colab-df-quickchart {\n",
              "      --bg-color: #3B4455;\n",
              "      --fill-color: #D2E3FC;\n",
              "      --hover-bg-color: #434B5C;\n",
              "      --hover-fill-color: #FFFFFF;\n",
              "      --disabled-bg-color: #3B4455;\n",
              "      --disabled-fill-color: #666;\n",
              "  }\n",
              "\n",
              "  .colab-df-quickchart {\n",
              "    background-color: var(--bg-color);\n",
              "    border: none;\n",
              "    border-radius: 50%;\n",
              "    cursor: pointer;\n",
              "    display: none;\n",
              "    fill: var(--fill-color);\n",
              "    height: 32px;\n",
              "    padding: 0;\n",
              "    width: 32px;\n",
              "  }\n",
              "\n",
              "  .colab-df-quickchart:hover {\n",
              "    background-color: var(--hover-bg-color);\n",
              "    box-shadow: 0 1px 2px rgba(60, 64, 67, 0.3), 0 1px 3px 1px rgba(60, 64, 67, 0.15);\n",
              "    fill: var(--button-hover-fill-color);\n",
              "  }\n",
              "\n",
              "  .colab-df-quickchart-complete:disabled,\n",
              "  .colab-df-quickchart-complete:disabled:hover {\n",
              "    background-color: var(--disabled-bg-color);\n",
              "    fill: var(--disabled-fill-color);\n",
              "    box-shadow: none;\n",
              "  }\n",
              "\n",
              "  .colab-df-spinner {\n",
              "    border: 2px solid var(--fill-color);\n",
              "    border-color: transparent;\n",
              "    border-bottom-color: var(--fill-color);\n",
              "    animation:\n",
              "      spin 1s steps(1) infinite;\n",
              "  }\n",
              "\n",
              "  @keyframes spin {\n",
              "    0% {\n",
              "      border-color: transparent;\n",
              "      border-bottom-color: var(--fill-color);\n",
              "      border-left-color: var(--fill-color);\n",
              "    }\n",
              "    20% {\n",
              "      border-color: transparent;\n",
              "      border-left-color: var(--fill-color);\n",
              "      border-top-color: var(--fill-color);\n",
              "    }\n",
              "    30% {\n",
              "      border-color: transparent;\n",
              "      border-left-color: var(--fill-color);\n",
              "      border-top-color: var(--fill-color);\n",
              "      border-right-color: var(--fill-color);\n",
              "    }\n",
              "    40% {\n",
              "      border-color: transparent;\n",
              "      border-right-color: var(--fill-color);\n",
              "      border-top-color: var(--fill-color);\n",
              "    }\n",
              "    60% {\n",
              "      border-color: transparent;\n",
              "      border-right-color: var(--fill-color);\n",
              "    }\n",
              "    80% {\n",
              "      border-color: transparent;\n",
              "      border-right-color: var(--fill-color);\n",
              "      border-bottom-color: var(--fill-color);\n",
              "    }\n",
              "    90% {\n",
              "      border-color: transparent;\n",
              "      border-bottom-color: var(--fill-color);\n",
              "    }\n",
              "  }\n",
              "</style>\n",
              "\n",
              "  <script>\n",
              "    async function quickchart(key) {\n",
              "      const quickchartButtonEl =\n",
              "        document.querySelector('#' + key + ' button');\n",
              "      quickchartButtonEl.disabled = true;  // To prevent multiple clicks.\n",
              "      quickchartButtonEl.classList.add('colab-df-spinner');\n",
              "      try {\n",
              "        const charts = await google.colab.kernel.invokeFunction(\n",
              "            'suggestCharts', [key], {});\n",
              "      } catch (error) {\n",
              "        console.error('Error during call to suggestCharts:', error);\n",
              "      }\n",
              "      quickchartButtonEl.classList.remove('colab-df-spinner');\n",
              "      quickchartButtonEl.classList.add('colab-df-quickchart-complete');\n",
              "    }\n",
              "    (() => {\n",
              "      let quickchartButtonEl =\n",
              "        document.querySelector('#df-d135a524-36bb-4e0d-b2fb-6b7e5c82ba18 button');\n",
              "      quickchartButtonEl.style.display =\n",
              "        google.colab.kernel.accessAllowed ? 'block' : 'none';\n",
              "    })();\n",
              "  </script>\n",
              "</div>\n",
              "\n",
              "    </div>\n",
              "  </div>\n"
            ]
          },
          "metadata": {},
          "execution_count": 73
        }
      ]
    },
    {
      "cell_type": "code",
      "source": [
        "X_train = X_train.to_numpy()"
      ],
      "metadata": {
        "id": "cQgMGhT3vJxP"
      },
      "execution_count": null,
      "outputs": []
    },
    {
      "cell_type": "markdown",
      "source": [
        "Finally we encode the labels."
      ],
      "metadata": {
        "id": "oYXSWKNVx4Zp"
      }
    },
    {
      "cell_type": "code",
      "source": [
        "y_train = y_train.replace({True: 1, False: 0})"
      ],
      "metadata": {
        "id": "tpfIyWa5d2QH"
      },
      "execution_count": null,
      "outputs": []
    },
    {
      "cell_type": "code",
      "source": [
        "y_train.head(3)"
      ],
      "metadata": {
        "colab": {
          "base_uri": "https://localhost:8080/"
        },
        "id": "05tJe47ShikN",
        "outputId": "366d3221-a459-461b-c16d-2c0c997f0015"
      },
      "execution_count": null,
      "outputs": [
        {
          "output_type": "execute_result",
          "data": {
            "text/plain": [
              "0    0\n",
              "1    1\n",
              "2    0\n",
              "Name: Transported, dtype: int64"
            ]
          },
          "metadata": {},
          "execution_count": 76
        }
      ]
    },
    {
      "cell_type": "code",
      "source": [
        "y_train = y_train.to_numpy()"
      ],
      "metadata": {
        "id": "wAKM1A7_vgnW"
      },
      "execution_count": null,
      "outputs": []
    },
    {
      "cell_type": "markdown",
      "source": [
        "#SELECT ML ALGORITHMS"
      ],
      "metadata": {
        "id": "hIvLlSlnjCAC"
      }
    },
    {
      "cell_type": "code",
      "source": [
        "from sklearn.model_selection import cross_val_score"
      ],
      "metadata": {
        "id": "S4vnCIRNjEm1"
      },
      "execution_count": null,
      "outputs": []
    },
    {
      "cell_type": "code",
      "source": [
        "def display_scores(scores):\n",
        "    print(\"Scores: {}\".format(scores))\n",
        "    print(\"Mean: {}\".format(scores.mean()))\n",
        "    print(\"Standard deviation: {}\".format(scores.std()))"
      ],
      "metadata": {
        "id": "AUwKLKmu0X4z"
      },
      "execution_count": null,
      "outputs": []
    },
    {
      "cell_type": "markdown",
      "source": [
        "*SGD Classifier*"
      ],
      "metadata": {
        "id": "jaKZLVtPu0R0"
      }
    },
    {
      "cell_type": "code",
      "source": [
        "from sklearn.linear_model import SGDClassifier"
      ],
      "metadata": {
        "id": "gTprt98n2h6_"
      },
      "execution_count": null,
      "outputs": []
    },
    {
      "cell_type": "code",
      "source": [
        "sgd_clf = SGDClassifier(random_state=42)"
      ],
      "metadata": {
        "id": "8K-OtiBTu-HL"
      },
      "execution_count": null,
      "outputs": []
    },
    {
      "cell_type": "code",
      "source": [
        "scores_sgd_clf = cross_val_score(sgd_clf, X_train, y_train, cv=10, scoring=\"accuracy\")"
      ],
      "metadata": {
        "id": "PPQG7WYnu-Jq"
      },
      "execution_count": null,
      "outputs": []
    },
    {
      "cell_type": "code",
      "source": [
        "display_scores(scores_sgd_clf)"
      ],
      "metadata": {
        "colab": {
          "base_uri": "https://localhost:8080/"
        },
        "id": "eUtZADE_wbHB",
        "outputId": "44e7a59f-3833-4598-e54f-3f0ae7975074"
      },
      "execution_count": null,
      "outputs": [
        {
          "output_type": "stream",
          "name": "stdout",
          "text": [
            "Scores: [0.8045977  0.76436782 0.76091954 0.78826237 0.78020713 0.80667434\n",
            " 0.80782509 0.80782509 0.81012658 0.78481013]\n",
            "Mean: 0.7915615782442496\n",
            "Standard deviation: 0.017708258625714658\n"
          ]
        }
      ]
    },
    {
      "cell_type": "markdown",
      "source": [
        "*RandomForest Classifier*"
      ],
      "metadata": {
        "id": "1Le_KGS43lrn"
      }
    },
    {
      "cell_type": "code",
      "source": [
        "from sklearn.ensemble import RandomForestClassifier"
      ],
      "metadata": {
        "id": "EBnqf0733o3-"
      },
      "execution_count": null,
      "outputs": []
    },
    {
      "cell_type": "code",
      "source": [
        "forest_clf = RandomForestClassifier(random_state=42)"
      ],
      "metadata": {
        "id": "1k-PzAgV37er"
      },
      "execution_count": null,
      "outputs": []
    },
    {
      "cell_type": "code",
      "source": [
        "scores_forest_clf = cross_val_score(forest_clf, X_train, y_train, cv=10, scoring=\"accuracy\")"
      ],
      "metadata": {
        "id": "t_W2Konp4Ezc"
      },
      "execution_count": null,
      "outputs": []
    },
    {
      "cell_type": "code",
      "source": [
        "display_scores(scores_forest_clf)"
      ],
      "metadata": {
        "colab": {
          "base_uri": "https://localhost:8080/"
        },
        "id": "h-64mkkW4M4f",
        "outputId": "a8304772-4e1f-47ff-f8f1-610f1be0f0c7"
      },
      "execution_count": null,
      "outputs": [
        {
          "output_type": "stream",
          "name": "stdout",
          "text": [
            "Scores: [0.80229885 0.75977011 0.78275862 0.8009206  0.81357883 0.79516686\n",
            " 0.80322209 0.78135788 0.80782509 0.77675489]\n",
            "Mean: 0.7923653823260982\n",
            "Standard deviation: 0.015830945808398455\n"
          ]
        }
      ]
    },
    {
      "cell_type": "markdown",
      "source": [
        "*Logistic Regression*"
      ],
      "metadata": {
        "id": "hFm2sMrM5F_d"
      }
    },
    {
      "cell_type": "code",
      "source": [
        "from sklearn.linear_model import LogisticRegression"
      ],
      "metadata": {
        "id": "cbgEB4J14S3v"
      },
      "execution_count": null,
      "outputs": []
    },
    {
      "cell_type": "code",
      "source": [
        "lr_clf = LogisticRegression(random_state=42, max_iter=200)"
      ],
      "metadata": {
        "id": "TnqN0wfv5Mch"
      },
      "execution_count": null,
      "outputs": []
    },
    {
      "cell_type": "code",
      "source": [
        "scores_lr_clf = cross_val_score(lr_clf, X_train, y_train, cv=10, scoring=\"accuracy\")"
      ],
      "metadata": {
        "id": "e9f1OKeq5T4D"
      },
      "execution_count": null,
      "outputs": []
    },
    {
      "cell_type": "code",
      "source": [
        "display_scores(scores_lr_clf)"
      ],
      "metadata": {
        "colab": {
          "base_uri": "https://localhost:8080/"
        },
        "id": "7WHaH-YS5aS2",
        "outputId": "16faa280-3ef7-44ec-99a3-e0716bd765bf"
      },
      "execution_count": null,
      "outputs": [
        {
          "output_type": "stream",
          "name": "stdout",
          "text": [
            "Scores: [0.7862069  0.7816092  0.77586207 0.80322209 0.78365938 0.80322209\n",
            " 0.81703107 0.79746835 0.81818182 0.78135788]\n",
            "Mean: 0.7947820853669828\n",
            "Standard deviation: 0.0144955100148841\n"
          ]
        }
      ]
    },
    {
      "cell_type": "markdown",
      "source": [
        "*Support Vector Machine*"
      ],
      "metadata": {
        "id": "M0gw9iE96oGT"
      }
    },
    {
      "cell_type": "code",
      "source": [
        "from sklearn.svm import SVC"
      ],
      "metadata": {
        "id": "FLCpBpRM6qhA"
      },
      "execution_count": null,
      "outputs": []
    },
    {
      "cell_type": "code",
      "source": [
        "svm_clf = SVC(random_state=42)"
      ],
      "metadata": {
        "id": "8GI7JSOE6tJj"
      },
      "execution_count": null,
      "outputs": []
    },
    {
      "cell_type": "code",
      "source": [
        "scores_svm_clf = cross_val_score(svm_clf, X_train, y_train, cv=10, scoring=\"accuracy\")"
      ],
      "metadata": {
        "id": "DzXb1qhA6vjF"
      },
      "execution_count": null,
      "outputs": []
    },
    {
      "cell_type": "code",
      "source": [
        "display_scores(scores_svm_clf)"
      ],
      "metadata": {
        "colab": {
          "base_uri": "https://localhost:8080/"
        },
        "id": "OE7U8hs_67N8",
        "outputId": "843af1ba-554c-482e-e223-482a85e1879d"
      },
      "execution_count": null,
      "outputs": [
        {
          "output_type": "stream",
          "name": "stdout",
          "text": [
            "Scores: [0.80574713 0.77816092 0.78965517 0.81242808 0.79976985 0.80437284\n",
            " 0.82508631 0.81357883 0.82163406 0.81012658]\n",
            "Mean: 0.8060559766146845\n",
            "Standard deviation: 0.01344678870536806\n"
          ]
        }
      ]
    },
    {
      "cell_type": "markdown",
      "source": [
        "*Neural Network*"
      ],
      "metadata": {
        "id": "N1SXD0YFAem6"
      }
    },
    {
      "cell_type": "code",
      "source": [
        "import tensorflow as tf\n",
        "from tensorflow import keras"
      ],
      "metadata": {
        "id": "OockJw4R7Zdx"
      },
      "execution_count": null,
      "outputs": []
    },
    {
      "cell_type": "code",
      "source": [
        "model = keras.models.Sequential([\n",
        "    keras.layers.InputLayer(input_shape=(39,)),\n",
        "    keras.layers.Dense(39, activation=keras.activations.relu),\n",
        "    keras.layers.Dense(60, activation=keras.activations.relu),\n",
        "    keras.layers.Dense(60, activation=keras.activations.relu),\n",
        "    keras.layers.Dense(1, activation=keras.activations.sigmoid)\n",
        "])"
      ],
      "metadata": {
        "id": "rK_00nDi7QXU"
      },
      "execution_count": null,
      "outputs": []
    },
    {
      "cell_type": "code",
      "source": [
        "model.compile(loss=keras.losses.binary_crossentropy, optimizer=keras.optimizers.SGD(),\n",
        "              metrics=['accuracy'])"
      ],
      "metadata": {
        "id": "kg3ELsbn8xs1"
      },
      "execution_count": null,
      "outputs": []
    },
    {
      "cell_type": "code",
      "source": [
        "history = model.fit(X_train, y_train, epochs=50, validation_split=0.15)"
      ],
      "metadata": {
        "colab": {
          "base_uri": "https://localhost:8080/"
        },
        "id": "-zI7MacR9NSL",
        "outputId": "638a4f4c-fa9d-479a-b65a-6b2b19806295"
      },
      "execution_count": null,
      "outputs": [
        {
          "output_type": "stream",
          "name": "stdout",
          "text": [
            "Epoch 1/50\n",
            "231/231 [==============================] - 2s 3ms/step - loss: 0.6626 - accuracy: 0.6418 - val_loss: 0.6300 - val_accuracy: 0.7393\n",
            "Epoch 2/50\n",
            "231/231 [==============================] - 1s 2ms/step - loss: 0.5765 - accuracy: 0.7634 - val_loss: 0.5285 - val_accuracy: 0.7768\n",
            "Epoch 3/50\n",
            "231/231 [==============================] - 1s 2ms/step - loss: 0.4871 - accuracy: 0.7825 - val_loss: 0.4512 - val_accuracy: 0.7952\n",
            "Epoch 4/50\n",
            "231/231 [==============================] - 0s 2ms/step - loss: 0.4453 - accuracy: 0.7959 - val_loss: 0.4226 - val_accuracy: 0.8067\n",
            "Epoch 5/50\n",
            "231/231 [==============================] - 1s 2ms/step - loss: 0.4314 - accuracy: 0.8005 - val_loss: 0.4137 - val_accuracy: 0.7960\n",
            "Epoch 6/50\n",
            "231/231 [==============================] - 0s 2ms/step - loss: 0.4255 - accuracy: 0.8002 - val_loss: 0.4084 - val_accuracy: 0.7960\n",
            "Epoch 7/50\n",
            "231/231 [==============================] - 1s 2ms/step - loss: 0.4215 - accuracy: 0.8001 - val_loss: 0.4132 - val_accuracy: 0.7998\n",
            "Epoch 8/50\n",
            "231/231 [==============================] - 1s 2ms/step - loss: 0.4191 - accuracy: 0.8024 - val_loss: 0.4036 - val_accuracy: 0.8014\n",
            "Epoch 9/50\n",
            "231/231 [==============================] - 1s 2ms/step - loss: 0.4165 - accuracy: 0.8009 - val_loss: 0.4072 - val_accuracy: 0.7998\n",
            "Epoch 10/50\n",
            "231/231 [==============================] - 0s 2ms/step - loss: 0.4149 - accuracy: 0.8020 - val_loss: 0.4041 - val_accuracy: 0.8021\n",
            "Epoch 11/50\n",
            "231/231 [==============================] - 1s 2ms/step - loss: 0.4129 - accuracy: 0.8032 - val_loss: 0.4042 - val_accuracy: 0.8014\n",
            "Epoch 12/50\n",
            "231/231 [==============================] - 0s 2ms/step - loss: 0.4111 - accuracy: 0.8043 - val_loss: 0.4024 - val_accuracy: 0.8052\n",
            "Epoch 13/50\n",
            "231/231 [==============================] - 1s 2ms/step - loss: 0.4099 - accuracy: 0.8053 - val_loss: 0.3987 - val_accuracy: 0.8075\n",
            "Epoch 14/50\n",
            "231/231 [==============================] - 0s 2ms/step - loss: 0.4083 - accuracy: 0.8054 - val_loss: 0.3975 - val_accuracy: 0.8067\n",
            "Epoch 15/50\n",
            "231/231 [==============================] - 1s 2ms/step - loss: 0.4073 - accuracy: 0.8059 - val_loss: 0.3976 - val_accuracy: 0.8090\n",
            "Epoch 16/50\n",
            "231/231 [==============================] - 0s 2ms/step - loss: 0.4060 - accuracy: 0.8063 - val_loss: 0.3962 - val_accuracy: 0.8106\n",
            "Epoch 17/50\n",
            "231/231 [==============================] - 0s 2ms/step - loss: 0.4047 - accuracy: 0.8073 - val_loss: 0.4006 - val_accuracy: 0.8067\n",
            "Epoch 18/50\n",
            "231/231 [==============================] - 1s 3ms/step - loss: 0.4038 - accuracy: 0.8076 - val_loss: 0.3961 - val_accuracy: 0.8167\n",
            "Epoch 19/50\n",
            "231/231 [==============================] - 1s 4ms/step - loss: 0.4028 - accuracy: 0.8076 - val_loss: 0.3952 - val_accuracy: 0.8144\n",
            "Epoch 20/50\n",
            "231/231 [==============================] - 1s 3ms/step - loss: 0.4020 - accuracy: 0.8099 - val_loss: 0.3958 - val_accuracy: 0.8113\n",
            "Epoch 21/50\n",
            "231/231 [==============================] - 1s 4ms/step - loss: 0.4004 - accuracy: 0.8088 - val_loss: 0.3994 - val_accuracy: 0.8083\n",
            "Epoch 22/50\n",
            "231/231 [==============================] - 1s 5ms/step - loss: 0.4000 - accuracy: 0.8080 - val_loss: 0.3925 - val_accuracy: 0.8160\n",
            "Epoch 23/50\n",
            "231/231 [==============================] - 1s 3ms/step - loss: 0.3990 - accuracy: 0.8097 - val_loss: 0.3951 - val_accuracy: 0.8137\n",
            "Epoch 24/50\n",
            "231/231 [==============================] - 1s 3ms/step - loss: 0.3983 - accuracy: 0.8088 - val_loss: 0.3944 - val_accuracy: 0.8129\n",
            "Epoch 25/50\n",
            "231/231 [==============================] - 1s 3ms/step - loss: 0.3973 - accuracy: 0.8117 - val_loss: 0.3912 - val_accuracy: 0.8137\n",
            "Epoch 26/50\n",
            "231/231 [==============================] - 1s 3ms/step - loss: 0.3969 - accuracy: 0.8104 - val_loss: 0.3976 - val_accuracy: 0.8113\n",
            "Epoch 27/50\n",
            "231/231 [==============================] - 0s 2ms/step - loss: 0.3964 - accuracy: 0.8086 - val_loss: 0.3914 - val_accuracy: 0.8144\n",
            "Epoch 28/50\n",
            "231/231 [==============================] - 1s 2ms/step - loss: 0.3957 - accuracy: 0.8146 - val_loss: 0.3935 - val_accuracy: 0.8129\n",
            "Epoch 29/50\n",
            "231/231 [==============================] - 0s 2ms/step - loss: 0.3950 - accuracy: 0.8134 - val_loss: 0.3963 - val_accuracy: 0.8121\n",
            "Epoch 30/50\n",
            "231/231 [==============================] - 0s 2ms/step - loss: 0.3944 - accuracy: 0.8113 - val_loss: 0.3938 - val_accuracy: 0.8106\n",
            "Epoch 31/50\n",
            "231/231 [==============================] - 0s 2ms/step - loss: 0.3933 - accuracy: 0.8128 - val_loss: 0.3911 - val_accuracy: 0.8152\n",
            "Epoch 32/50\n",
            "231/231 [==============================] - 0s 2ms/step - loss: 0.3933 - accuracy: 0.8119 - val_loss: 0.3938 - val_accuracy: 0.8083\n",
            "Epoch 33/50\n",
            "231/231 [==============================] - 0s 2ms/step - loss: 0.3928 - accuracy: 0.8134 - val_loss: 0.3915 - val_accuracy: 0.8106\n",
            "Epoch 34/50\n",
            "231/231 [==============================] - 0s 2ms/step - loss: 0.3922 - accuracy: 0.8122 - val_loss: 0.3978 - val_accuracy: 0.8083\n",
            "Epoch 35/50\n",
            "231/231 [==============================] - 0s 2ms/step - loss: 0.3916 - accuracy: 0.8126 - val_loss: 0.3910 - val_accuracy: 0.8129\n",
            "Epoch 36/50\n",
            "231/231 [==============================] - 0s 2ms/step - loss: 0.3911 - accuracy: 0.8122 - val_loss: 0.3902 - val_accuracy: 0.8167\n",
            "Epoch 37/50\n",
            "231/231 [==============================] - 1s 2ms/step - loss: 0.3910 - accuracy: 0.8123 - val_loss: 0.3977 - val_accuracy: 0.8083\n",
            "Epoch 38/50\n",
            "231/231 [==============================] - 0s 2ms/step - loss: 0.3901 - accuracy: 0.8112 - val_loss: 0.3939 - val_accuracy: 0.8144\n",
            "Epoch 39/50\n",
            "231/231 [==============================] - 0s 2ms/step - loss: 0.3898 - accuracy: 0.8132 - val_loss: 0.3978 - val_accuracy: 0.8121\n",
            "Epoch 40/50\n",
            "231/231 [==============================] - 0s 2ms/step - loss: 0.3899 - accuracy: 0.8145 - val_loss: 0.3908 - val_accuracy: 0.8152\n",
            "Epoch 41/50\n",
            "231/231 [==============================] - 1s 4ms/step - loss: 0.3892 - accuracy: 0.8134 - val_loss: 0.3958 - val_accuracy: 0.8052\n",
            "Epoch 42/50\n",
            "231/231 [==============================] - 1s 3ms/step - loss: 0.3890 - accuracy: 0.8115 - val_loss: 0.3975 - val_accuracy: 0.8083\n",
            "Epoch 43/50\n",
            "231/231 [==============================] - 1s 3ms/step - loss: 0.3877 - accuracy: 0.8161 - val_loss: 0.3908 - val_accuracy: 0.8167\n",
            "Epoch 44/50\n",
            "231/231 [==============================] - 1s 3ms/step - loss: 0.3880 - accuracy: 0.8136 - val_loss: 0.3918 - val_accuracy: 0.8167\n",
            "Epoch 45/50\n",
            "231/231 [==============================] - 1s 3ms/step - loss: 0.3874 - accuracy: 0.8153 - val_loss: 0.3916 - val_accuracy: 0.8175\n",
            "Epoch 46/50\n",
            "231/231 [==============================] - 0s 2ms/step - loss: 0.3868 - accuracy: 0.8163 - val_loss: 0.4077 - val_accuracy: 0.8021\n",
            "Epoch 47/50\n",
            "231/231 [==============================] - 0s 2ms/step - loss: 0.3871 - accuracy: 0.8134 - val_loss: 0.3979 - val_accuracy: 0.8090\n",
            "Epoch 48/50\n",
            "231/231 [==============================] - 0s 2ms/step - loss: 0.3866 - accuracy: 0.8143 - val_loss: 0.3941 - val_accuracy: 0.8098\n",
            "Epoch 49/50\n",
            "231/231 [==============================] - 1s 2ms/step - loss: 0.3863 - accuracy: 0.8153 - val_loss: 0.3973 - val_accuracy: 0.8052\n",
            "Epoch 50/50\n",
            "231/231 [==============================] - 0s 2ms/step - loss: 0.3861 - accuracy: 0.8159 - val_loss: 0.3944 - val_accuracy: 0.8083\n"
          ]
        }
      ]
    },
    {
      "cell_type": "code",
      "source": [
        "pd.DataFrame(history.history).plot(figsize=(8, 5))\n",
        "plt.grid(True)\n",
        "plt.gca().set_ylim(0, 1)\n",
        "plt.show()"
      ],
      "metadata": {
        "colab": {
          "base_uri": "https://localhost:8080/",
          "height": 451
        },
        "id": "uqJM1GAs_e8x",
        "outputId": "2df46bb6-a633-44ee-85cc-ba1291a01f30"
      },
      "execution_count": null,
      "outputs": [
        {
          "output_type": "display_data",
          "data": {
            "text/plain": [
              "<Figure size 800x500 with 1 Axes>"
            ],
            "image/png": "[encoded data removed]"
          },
          "metadata": {}
        }
      ]
    },
    {
      "cell_type": "markdown",
      "source": [
        "The most promising models would be the *support vector machine* and the *neural network*, both models exceed the $80\\%$ of accuracy in the validation set, in this case *Support vector machine* will be used, because the *SVM* work well with the task of data classification on medium or small datasets, and in normalized data."
      ],
      "metadata": {
        "id": "OVZ_BHzUCebK"
      }
    },
    {
      "cell_type": "markdown",
      "source": [
        "#REFINE THE MODEL"
      ],
      "metadata": {
        "id": "1AgsQqRyXbxa"
      }
    },
    {
      "cell_type": "markdown",
      "source": [
        "We will look for the best hyperparameters with *GridSearchCV*."
      ],
      "metadata": {
        "id": "emY8bOWNOJ7D"
      }
    },
    {
      "cell_type": "markdown",
      "source": [
        "We first transform the test set, using the same transformations that were used for the training set, but this time only using the *transform* method instead *fit_transform*."
      ],
      "metadata": {
        "id": "UkGFCY8zPYg0"
      }
    },
    {
      "cell_type": "code",
      "source": [
        "X_test_n = X_test.copy()"
      ],
      "metadata": {
        "id": "jGRqVJUdhMCE"
      },
      "execution_count": null,
      "outputs": []
    },
    {
      "cell_type": "code",
      "source": [
        "X_test_n = expandCol.transform(X_test_n)"
      ],
      "metadata": {
        "id": "f6Cdw0Np2_7i"
      },
      "execution_count": null,
      "outputs": []
    },
    {
      "cell_type": "code",
      "source": [
        "X_test_n = deleteCols.transform(X_test_n)"
      ],
      "metadata": {
        "id": "r5b5x_K448A3"
      },
      "execution_count": null,
      "outputs": []
    },
    {
      "cell_type": "code",
      "source": [
        "X_test_n[getColNames(X_test_n, 'num')] = num_imputer.transform(X_test_n[getColNames(X_test_n, 'num')])\n",
        "X_test_n[getColNames(X_test_n, 'cat')] = cat_imputer.transform(X_test_n[getColNames(X_test_n, 'cat')])"
      ],
      "metadata": {
        "id": "5C_Yy0w55bdV"
      },
      "execution_count": null,
      "outputs": []
    },
    {
      "cell_type": "code",
      "source": [
        "X_test_n['ds'] = combineCols.transform(X_test_n)"
      ],
      "metadata": {
        "id": "S21E1Bdk56WN"
      },
      "execution_count": null,
      "outputs": []
    },
    {
      "cell_type": "code",
      "source": [
        "X_test_n[getColNames(X_test_n, 'num')] = squareRootCols.transform(X_test_n[getColNames(X_test_n, 'num')])"
      ],
      "metadata": {
        "id": "VmMhfa8N6Ph5"
      },
      "execution_count": null,
      "outputs": []
    },
    {
      "cell_type": "code",
      "source": [
        "X_test_n[getColNames(X_test_n, 'num')] = std.transform(X_test_n[getColNames(X_test_n, 'num')])"
      ],
      "metadata": {
        "id": "b5lxtahZ6gJB"
      },
      "execution_count": null,
      "outputs": []
    },
    {
      "cell_type": "code",
      "source": [
        "X_test_n[ord_vars] = ord_encod.transform(X_test_n[ord_vars])"
      ],
      "metadata": {
        "id": "7Y4d7Mcr62fd"
      },
      "execution_count": null,
      "outputs": []
    },
    {
      "cell_type": "code",
      "source": [
        "X_ohe_t = ohe_encod.transform(X_test_n[ohe_vars])"
      ],
      "metadata": {
        "id": "5RvUOR0Z7JrD"
      },
      "execution_count": null,
      "outputs": []
    },
    {
      "cell_type": "code",
      "source": [
        "X_test_n = pd.concat([X_test_n, X_ohe_t], axis=1).drop(columns = ohe_vars)"
      ],
      "metadata": {
        "id": "u4b49Q2X7YEL"
      },
      "execution_count": null,
      "outputs": []
    },
    {
      "cell_type": "code",
      "source": [
        "X_test_n.head(3)"
      ],
      "metadata": {
        "id": "bjZE6lVE7g7t",
        "colab": {
          "base_uri": "https://localhost:8080/",
          "height": 210
        },
        "outputId": "94ed2361-4edb-4b45-c9e4-fa7d89c30461"
      },
      "execution_count": null,
      "outputs": [
        {
          "output_type": "execute_result",
          "data": {
            "text/plain": [
              "   CryoSleep       Age  VIP  RoomService  FoodCourt  ShoppingMall       Spa  \\\n",
              "0        1.0  0.035717  0.0    -0.508537  -0.471952     -0.487678 -0.478100   \n",
              "1        0.0 -0.509618  0.0    -0.508537  -0.315299     -0.487678  2.896327   \n",
              "2        1.0  0.277761  0.0    -0.508537  -0.471952     -0.487678 -0.478100   \n",
              "\n",
              "     VRDeck  side  deck_A  ...  ds_GP  ds_GS  ds_TP  ds_TS  \\\n",
              "0 -0.464515   1.0     0.0  ...    0.0    1.0    0.0    0.0   \n",
              "1 -0.464515   1.0     0.0  ...    0.0    0.0    0.0    0.0   \n",
              "2 -0.464515   1.0     0.0  ...    0.0    0.0    0.0    0.0   \n",
              "\n",
              "   Destination_55 Cancri e  Destination_PSO J318.5-22  \\\n",
              "0                      0.0                        0.0   \n",
              "1                      0.0                        0.0   \n",
              "2                      1.0                        0.0   \n",
              "\n",
              "   Destination_TRAPPIST-1e  HomePlanet_Earth  HomePlanet_Europa  \\\n",
              "0                      1.0               1.0                0.0   \n",
              "1                      1.0               1.0                0.0   \n",
              "2                      0.0               0.0                1.0   \n",
              "\n",
              "   HomePlanet_Mars  \n",
              "0              0.0  \n",
              "1              0.0  \n",
              "2              0.0  \n",
              "\n",
              "[3 rows x 39 columns]"
            ],
            "text/html": [
              "\n",
              "  <div id=\"df-bbe03ebf-70e0-4149-82d5-a87f77738b11\" class=\"colab-df-container\">\n",
              "    <div>\n",
              "<style scoped>\n",
              "    .dataframe tbody tr th:only-of-type {\n",
              "        vertical-align: middle;\n",
              "    }\n",
              "\n",
              "    .dataframe tbody tr th {\n",
              "        vertical-align: top;\n",
              "    }\n",
              "\n",
              "    .dataframe thead th {\n",
              "        text-align: right;\n",
              "    }\n",
              "</style>\n",
              "<table border=\"1\" class=\"dataframe\">\n",
              "  <thead>\n",
              "    <tr style=\"text-align: right;\">\n",
              "      <th></th>\n",
              "      <th>CryoSleep</th>\n",
              "      <th>Age</th>\n",
              "      <th>VIP</th>\n",
              "      <th>RoomService</th>\n",
              "      <th>FoodCourt</th>\n",
              "      <th>ShoppingMall</th>\n",
              "      <th>Spa</th>\n",
              "      <th>VRDeck</th>\n",
              "      <th>side</th>\n",
              "      <th>deck_A</th>\n",
              "      <th>...</th>\n",
              "      <th>ds_GP</th>\n",
              "      <th>ds_GS</th>\n",
              "      <th>ds_TP</th>\n",
              "      <th>ds_TS</th>\n",
              "      <th>Destination_55 Cancri e</th>\n",
              "      <th>Destination_PSO J318.5-22</th>\n",
              "      <th>Destination_TRAPPIST-1e</th>\n",
              "      <th>HomePlanet_Earth</th>\n",
              "      <th>HomePlanet_Europa</th>\n",
              "      <th>HomePlanet_Mars</th>\n",
              "    </tr>\n",
              "  </thead>\n",
              "  <tbody>\n",
              "    <tr>\n",
              "      <th>0</th>\n",
              "      <td>1.0</td>\n",
              "      <td>0.035717</td>\n",
              "      <td>0.0</td>\n",
              "      <td>-0.508537</td>\n",
              "      <td>-0.471952</td>\n",
              "      <td>-0.487678</td>\n",
              "      <td>-0.478100</td>\n",
              "      <td>-0.464515</td>\n",
              "      <td>1.0</td>\n",
              "      <td>0.0</td>\n",
              "      <td>...</td>\n",
              "      <td>0.0</td>\n",
              "      <td>1.0</td>\n",
              "      <td>0.0</td>\n",
              "      <td>0.0</td>\n",
              "      <td>0.0</td>\n",
              "      <td>0.0</td>\n",
              "      <td>1.0</td>\n",
              "      <td>1.0</td>\n",
              "      <td>0.0</td>\n",
              "      <td>0.0</td>\n",
              "    </tr>\n",
              "    <tr>\n",
              "      <th>1</th>\n",
              "      <td>0.0</td>\n",
              "      <td>-0.509618</td>\n",
              "      <td>0.0</td>\n",
              "      <td>-0.508537</td>\n",
              "      <td>-0.315299</td>\n",
              "      <td>-0.487678</td>\n",
              "      <td>2.896327</td>\n",
              "      <td>-0.464515</td>\n",
              "      <td>1.0</td>\n",
              "      <td>0.0</td>\n",
              "      <td>...</td>\n",
              "      <td>0.0</td>\n",
              "      <td>0.0</td>\n",
              "      <td>0.0</td>\n",
              "      <td>0.0</td>\n",
              "      <td>0.0</td>\n",
              "      <td>0.0</td>\n",
              "      <td>1.0</td>\n",
              "      <td>1.0</td>\n",
              "      <td>0.0</td>\n",
              "      <td>0.0</td>\n",
              "    </tr>\n",
              "    <tr>\n",
              "      <th>2</th>\n",
              "      <td>1.0</td>\n",
              "      <td>0.277761</td>\n",
              "      <td>0.0</td>\n",
              "      <td>-0.508537</td>\n",
              "      <td>-0.471952</td>\n",
              "      <td>-0.487678</td>\n",
              "      <td>-0.478100</td>\n",
              "      <td>-0.464515</td>\n",
              "      <td>1.0</td>\n",
              "      <td>0.0</td>\n",
              "      <td>...</td>\n",
              "      <td>0.0</td>\n",
              "      <td>0.0</td>\n",
              "      <td>0.0</td>\n",
              "      <td>0.0</td>\n",
              "      <td>1.0</td>\n",
              "      <td>0.0</td>\n",
              "      <td>0.0</td>\n",
              "      <td>0.0</td>\n",
              "      <td>1.0</td>\n",
              "      <td>0.0</td>\n",
              "    </tr>\n",
              "  </tbody>\n",
              "</table>\n",
              "<p>3 rows × 39 columns</p>\n",
              "</div>\n",
              "    <div class=\"colab-df-buttons\">\n",
              "\n",
              "  <div class=\"colab-df-container\">\n",
              "    <button class=\"colab-df-convert\" onclick=\"convertToInteractive('df-bbe03ebf-70e0-4149-82d5-a87f77738b11')\"\n",
              "            title=\"Convert this dataframe to an interactive table.\"\n",
              "            style=\"display:none;\">\n",
              "\n",
              "  <svg xmlns=\"http://www.w3.org/2000/svg\" height=\"24px\" viewBox=\"0 -960 960 960\">\n",
              "    <path d=\"M120-120v-720h720v720H120Zm60-500h600v-160H180v160Zm220 220h160v-160H400v160Zm0 220h160v-160H400v160ZM180-400h160v-160H180v160Zm440 0h160v-160H620v160ZM180-180h160v-160H180v160Zm440 0h160v-160H620v160Z\"/>\n",
              "  </svg>\n",
              "    </button>\n",
              "\n",
              "  <style>\n",
              "    .colab-df-container {\n",
              "      display:flex;\n",
              "      gap: 12px;\n",
              "    }\n",
              "\n",
              "    .colab-df-convert {\n",
              "      background-color: #E8F0FE;\n",
              "      border: none;\n",
              "      border-radius: 50%;\n",
              "      cursor: pointer;\n",
              "      display: none;\n",
              "      fill: #1967D2;\n",
              "      height: 32px;\n",
              "      padding: 0 0 0 0;\n",
              "      width: 32px;\n",
              "    }\n",
              "\n",
              "    .colab-df-convert:hover {\n",
              "      background-color: #E2EBFA;\n",
              "      box-shadow: 0px 1px 2px rgba(60, 64, 67, 0.3), 0px 1px 3px 1px rgba(60, 64, 67, 0.15);\n",
              "      fill: #174EA6;\n",
              "    }\n",
              "\n",
              "    .colab-df-buttons div {\n",
              "      margin-bottom: 4px;\n",
              "    }\n",
              "\n",
              "    [theme=dark] .colab-df-convert {\n",
              "      background-color: #3B4455;\n",
              "      fill: #D2E3FC;\n",
              "    }\n",
              "\n",
              "    [theme=dark] .colab-df-convert:hover {\n",
              "      background-color: #434B5C;\n",
              "      box-shadow: 0px 1px 3px 1px rgba(0, 0, 0, 0.15);\n",
              "      filter: drop-shadow(0px 1px 2px rgba(0, 0, 0, 0.3));\n",
              "      fill: #FFFFFF;\n",
              "    }\n",
              "  </style>\n",
              "\n",
              "    <script>\n",
              "      const buttonEl =\n",
              "        document.querySelector('#df-bbe03ebf-70e0-4149-82d5-a87f77738b11 button.colab-df-convert');\n",
              "      buttonEl.style.display =\n",
              "        google.colab.kernel.accessAllowed ? 'block' : 'none';\n",
              "\n",
              "      async function convertToInteractive(key) {\n",
              "        const element = document.querySelector('#df-bbe03ebf-70e0-4149-82d5-a87f77738b11');\n",
              "        const dataTable =\n",
              "          await google.colab.kernel.invokeFunction('convertToInteractive',\n",
              "                                                    [key], {});\n",
              "        if (!dataTable) return;\n",
              "\n",
              "        const docLinkHtml = 'Like what you see? Visit the ' +\n",
              "          '<a target=\"_blank\" href=https://colab.research.google.com/notebooks/data_table.ipynb>data table notebook</a>'\n",
              "          + ' to learn more about interactive tables.';\n",
              "        element.innerHTML = '';\n",
              "        dataTable['output_type'] = 'display_data';\n",
              "        await google.colab.output.renderOutput(dataTable, element);\n",
              "        const docLink = document.createElement('div');\n",
              "        docLink.innerHTML = docLinkHtml;\n",
              "        element.appendChild(docLink);\n",
              "      }\n",
              "    </script>\n",
              "  </div>\n",
              "\n",
              "\n",
              "<div id=\"df-d24a2700-ccac-4097-9123-ac6cd45d5314\">\n",
              "  <button class=\"colab-df-quickchart\" onclick=\"quickchart('df-d24a2700-ccac-4097-9123-ac6cd45d5314')\"\n",
              "            title=\"Suggest charts\"\n",
              "            style=\"display:none;\">\n",
              "\n",
              "<svg xmlns=\"http://www.w3.org/2000/svg\" height=\"24px\"viewBox=\"0 0 24 24\"\n",
              "     width=\"24px\">\n",
              "    <g>\n",
              "        <path d=\"M19 3H5c-1.1 0-2 .9-2 2v14c0 1.1.9 2 2 2h14c1.1 0 2-.9 2-2V5c0-1.1-.9-2-2-2zM9 17H7v-7h2v7zm4 0h-2V7h2v10zm4 0h-2v-4h2v4z\"/>\n",
              "    </g>\n",
              "</svg>\n",
              "  </button>\n",
              "\n",
              "<style>\n",
              "  .colab-df-quickchart {\n",
              "      --bg-color: #E8F0FE;\n",
              "      --fill-color: #1967D2;\n",
              "      --hover-bg-color: #E2EBFA;\n",
              "      --hover-fill-color: #174EA6;\n",
              "      --disabled-fill-color: #AAA;\n",
              "      --disabled-bg-color: #DDD;\n",
              "  }\n",
              "\n",
              "  [theme=dark] .colab-df-quickchart {\n",
              "      --bg-color: #3B4455;\n",
              "      --fill-color: #D2E3FC;\n",
              "      --hover-bg-color: #434B5C;\n",
              "      --hover-fill-color: #FFFFFF;\n",
              "      --disabled-bg-color: #3B4455;\n",
              "      --disabled-fill-color: #666;\n",
              "  }\n",
              "\n",
              "  .colab-df-quickchart {\n",
              "    background-color: var(--bg-color);\n",
              "    border: none;\n",
              "    border-radius: 50%;\n",
              "    cursor: pointer;\n",
              "    display: none;\n",
              "    fill: var(--fill-color);\n",
              "    height: 32px;\n",
              "    padding: 0;\n",
              "    width: 32px;\n",
              "  }\n",
              "\n",
              "  .colab-df-quickchart:hover {\n",
              "    background-color: var(--hover-bg-color);\n",
              "    box-shadow: 0 1px 2px rgba(60, 64, 67, 0.3), 0 1px 3px 1px rgba(60, 64, 67, 0.15);\n",
              "    fill: var(--button-hover-fill-color);\n",
              "  }\n",
              "\n",
              "  .colab-df-quickchart-complete:disabled,\n",
              "  .colab-df-quickchart-complete:disabled:hover {\n",
              "    background-color: var(--disabled-bg-color);\n",
              "    fill: var(--disabled-fill-color);\n",
              "    box-shadow: none;\n",
              "  }\n",
              "\n",
              "  .colab-df-spinner {\n",
              "    border: 2px solid var(--fill-color);\n",
              "    border-color: transparent;\n",
              "    border-bottom-color: var(--fill-color);\n",
              "    animation:\n",
              "      spin 1s steps(1) infinite;\n",
              "  }\n",
              "\n",
              "  @keyframes spin {\n",
              "    0% {\n",
              "      border-color: transparent;\n",
              "      border-bottom-color: var(--fill-color);\n",
              "      border-left-color: var(--fill-color);\n",
              "    }\n",
              "    20% {\n",
              "      border-color: transparent;\n",
              "      border-left-color: var(--fill-color);\n",
              "      border-top-color: var(--fill-color);\n",
              "    }\n",
              "    30% {\n",
              "      border-color: transparent;\n",
              "      border-left-color: var(--fill-color);\n",
              "      border-top-color: var(--fill-color);\n",
              "      border-right-color: var(--fill-color);\n",
              "    }\n",
              "    40% {\n",
              "      border-color: transparent;\n",
              "      border-right-color: var(--fill-color);\n",
              "      border-top-color: var(--fill-color);\n",
              "    }\n",
              "    60% {\n",
              "      border-color: transparent;\n",
              "      border-right-color: var(--fill-color);\n",
              "    }\n",
              "    80% {\n",
              "      border-color: transparent;\n",
              "      border-right-color: var(--fill-color);\n",
              "      border-bottom-color: var(--fill-color);\n",
              "    }\n",
              "    90% {\n",
              "      border-color: transparent;\n",
              "      border-bottom-color: var(--fill-color);\n",
              "    }\n",
              "  }\n",
              "</style>\n",
              "\n",
              "  <script>\n",
              "    async function quickchart(key) {\n",
              "      const quickchartButtonEl =\n",
              "        document.querySelector('#' + key + ' button');\n",
              "      quickchartButtonEl.disabled = true;  // To prevent multiple clicks.\n",
              "      quickchartButtonEl.classList.add('colab-df-spinner');\n",
              "      try {\n",
              "        const charts = await google.colab.kernel.invokeFunction(\n",
              "            'suggestCharts', [key], {});\n",
              "      } catch (error) {\n",
              "        console.error('Error during call to suggestCharts:', error);\n",
              "      }\n",
              "      quickchartButtonEl.classList.remove('colab-df-spinner');\n",
              "      quickchartButtonEl.classList.add('colab-df-quickchart-complete');\n",
              "    }\n",
              "    (() => {\n",
              "      let quickchartButtonEl =\n",
              "        document.querySelector('#df-d24a2700-ccac-4097-9123-ac6cd45d5314 button');\n",
              "      quickchartButtonEl.style.display =\n",
              "        google.colab.kernel.accessAllowed ? 'block' : 'none';\n",
              "    })();\n",
              "  </script>\n",
              "</div>\n",
              "\n",
              "    </div>\n",
              "  </div>\n"
            ]
          },
          "metadata": {},
          "execution_count": 111
        }
      ]
    },
    {
      "cell_type": "markdown",
      "source": [
        "Finally, we transform the *DataFrame* into a *numpy array*."
      ],
      "metadata": {
        "id": "pXCyC79jP4dn"
      }
    },
    {
      "cell_type": "code",
      "source": [
        "X_test_n = X_test_n.to_numpy()"
      ],
      "metadata": {
        "id": "Iq3gNlPF7e_k"
      },
      "execution_count": null,
      "outputs": []
    },
    {
      "cell_type": "code",
      "source": [
        "from sklearn.model_selection import GridSearchCV"
      ],
      "metadata": {
        "id": "wRL9hHf-6JP_"
      },
      "execution_count": null,
      "outputs": []
    },
    {
      "cell_type": "markdown",
      "source": [
        "We establish the hyperparameters of the *Vector Support Machine* for classification:\n",
        "*   C: Is the hyperparameter of regularization.\n",
        "*   coef0: Controls how much the model is influenced by high-degree terms versus low-degree terms."
      ],
      "metadata": {
        "id": "xZfQ86BcQFXL"
      }
    },
    {
      "cell_type": "code",
      "source": [
        "param_grid = [\n",
        "    {'C': [0.1, 1, 10, 100], 'coef0': [0.1, 1, 10]}\n",
        "]"
      ],
      "metadata": {
        "id": "ZVoBd7STiurq"
      },
      "execution_count": null,
      "outputs": []
    },
    {
      "cell_type": "code",
      "source": [
        "svm_clf = SVC(kernel='poly', degree=2)"
      ],
      "metadata": {
        "id": "ln50vte_j1Gb"
      },
      "execution_count": null,
      "outputs": []
    },
    {
      "cell_type": "code",
      "source": [
        "grid_search = GridSearchCV(svm_clf, param_grid, cv=3, scoring='accuracy',\n",
        "                           return_train_score=True)"
      ],
      "metadata": {
        "id": "9D9uQN59kA2C"
      },
      "execution_count": null,
      "outputs": []
    },
    {
      "cell_type": "code",
      "source": [
        "grid_search.fit(X_train, y_train)"
      ],
      "metadata": {
        "id": "feRnJJoykeRQ",
        "colab": {
          "base_uri": "https://localhost:8080/",
          "height": 118
        },
        "outputId": "ccfefe5e-93ac-4c42-8b22-0d72e291f69b"
      },
      "execution_count": null,
      "outputs": [
        {
          "output_type": "execute_result",
          "data": {
            "text/plain": [
              "GridSearchCV(cv=3, estimator=SVC(degree=2, kernel='poly'),\n",
              "             param_grid=[{'C': [0.1, 1, 10, 100], 'coef0': [0.1, 1, 10]}],\n",
              "             return_train_score=True, scoring='accuracy')"
            ],
            "text/html": [
              "<style>#sk-container-id-1 {color: black;background-color: white;}#sk-container-id-1 pre{padding: 0;}#sk-container-id-1 div.sk-toggleable {background-color: white;}#sk-container-id-1 label.sk-toggleable__label {cursor: pointer;display: block;width: 100%;margin-bottom: 0;padding: 0.3em;box-sizing: border-box;text-align: center;}#sk-container-id-1 label.sk-toggleable__label-arrow:before {content: \"▸\";float: left;margin-right: 0.25em;color: #696969;}#sk-container-id-1 label.sk-toggleable__label-arrow:hover:before {color: black;}#sk-container-id-1 div.sk-estimator:hover label.sk-toggleable__label-arrow:before {color: black;}#sk-container-id-1 div.sk-toggleable__content {max-height: 0;max-width: 0;overflow: hidden;text-align: left;background-color: #f0f8ff;}#sk-container-id-1 div.sk-toggleable__content pre {margin: 0.2em;color: black;border-radius: 0.25em;background-color: #f0f8ff;}#sk-container-id-1 input.sk-toggleable__control:checked~div.sk-toggleable__content {max-height: 200px;max-width: 100%;overflow: auto;}#sk-container-id-1 input.sk-toggleable__control:checked~label.sk-toggleable__label-arrow:before {content: \"▾\";}#sk-container-id-1 div.sk-estimator input.sk-toggleable__control:checked~label.sk-toggleable__label {background-color: #d4ebff;}#sk-container-id-1 div.sk-label input.sk-toggleable__control:checked~label.sk-toggleable__label {background-color: #d4ebff;}#sk-container-id-1 input.sk-hidden--visually {border: 0;clip: rect(1px 1px 1px 1px);clip: rect(1px, 1px, 1px, 1px);height: 1px;margin: -1px;overflow: hidden;padding: 0;position: absolute;width: 1px;}#sk-container-id-1 div.sk-estimator {font-family: monospace;background-color: #f0f8ff;border: 1px dotted black;border-radius: 0.25em;box-sizing: border-box;margin-bottom: 0.5em;}#sk-container-id-1 div.sk-estimator:hover {background-color: #d4ebff;}#sk-container-id-1 div.sk-parallel-item::after {content: \"\";width: 100%;border-bottom: 1px solid gray;flex-grow: 1;}#sk-container-id-1 div.sk-label:hover label.sk-toggleable__label {background-color: #d4ebff;}#sk-container-id-1 div.sk-serial::before {content: \"\";position: absolute;border-left: 1px solid gray;box-sizing: border-box;top: 0;bottom: 0;left: 50%;z-index: 0;}#sk-container-id-1 div.sk-serial {display: flex;flex-direction: column;align-items: center;background-color: white;padding-right: 0.2em;padding-left: 0.2em;position: relative;}#sk-container-id-1 div.sk-item {position: relative;z-index: 1;}#sk-container-id-1 div.sk-parallel {display: flex;align-items: stretch;justify-content: center;background-color: white;position: relative;}#sk-container-id-1 div.sk-item::before, #sk-container-id-1 div.sk-parallel-item::before {content: \"\";position: absolute;border-left: 1px solid gray;box-sizing: border-box;top: 0;bottom: 0;left: 50%;z-index: -1;}#sk-container-id-1 div.sk-parallel-item {display: flex;flex-direction: column;z-index: 1;position: relative;background-color: white;}#sk-container-id-1 div.sk-parallel-item:first-child::after {align-self: flex-end;width: 50%;}#sk-container-id-1 div.sk-parallel-item:last-child::after {align-self: flex-start;width: 50%;}#sk-container-id-1 div.sk-parallel-item:only-child::after {width: 0;}#sk-container-id-1 div.sk-dashed-wrapped {border: 1px dashed gray;margin: 0 0.4em 0.5em 0.4em;box-sizing: border-box;padding-bottom: 0.4em;background-color: white;}#sk-container-id-1 div.sk-label label {font-family: monospace;font-weight: bold;display: inline-block;line-height: 1.2em;}#sk-container-id-1 div.sk-label-container {text-align: center;}#sk-container-id-1 div.sk-container {/* jupyter's `normalize.less` sets `[hidden] { display: none; }` but bootstrap.min.css set `[hidden] { display: none !important; }` so we also need the `!important` here to be able to override the default hidden behavior on the sphinx rendered scikit-learn.org. See: https://github.com/scikit-learn/scikit-learn/issues/21755 */display: inline-block !important;position: relative;}#sk-container-id-1 div.sk-text-repr-fallback {display: none;}</style><div id=\"sk-container-id-1\" class=\"sk-top-container\"><div class=\"sk-text-repr-fallback\"><pre>GridSearchCV(cv=3, estimator=SVC(degree=2, kernel=&#x27;poly&#x27;),\n",
              "             param_grid=[{&#x27;C&#x27;: [0.1, 1, 10, 100], &#x27;coef0&#x27;: [0.1, 1, 10]}],\n",
              "             return_train_score=True, scoring=&#x27;accuracy&#x27;)</pre><b>In a Jupyter environment, please rerun this cell to show the HTML representation or trust the notebook. <br />On GitHub, the HTML representation is unable to render, please try loading this page with nbviewer.org.</b></div><div class=\"sk-container\" hidden><div class=\"sk-item sk-dashed-wrapped\"><div class=\"sk-label-container\"><div class=\"sk-label sk-toggleable\"><input class=\"sk-toggleable__control sk-hidden--visually\" id=\"sk-estimator-id-1\" type=\"checkbox\" ><label for=\"sk-estimator-id-1\" class=\"sk-toggleable__label sk-toggleable__label-arrow\">GridSearchCV</label><div class=\"sk-toggleable__content\"><pre>GridSearchCV(cv=3, estimator=SVC(degree=2, kernel=&#x27;poly&#x27;),\n",
              "             param_grid=[{&#x27;C&#x27;: [0.1, 1, 10, 100], &#x27;coef0&#x27;: [0.1, 1, 10]}],\n",
              "             return_train_score=True, scoring=&#x27;accuracy&#x27;)</pre></div></div></div><div class=\"sk-parallel\"><div class=\"sk-parallel-item\"><div class=\"sk-item\"><div class=\"sk-label-container\"><div class=\"sk-label sk-toggleable\"><input class=\"sk-toggleable__control sk-hidden--visually\" id=\"sk-estimator-id-2\" type=\"checkbox\" ><label for=\"sk-estimator-id-2\" class=\"sk-toggleable__label sk-toggleable__label-arrow\">estimator: SVC</label><div class=\"sk-toggleable__content\"><pre>SVC(degree=2, kernel=&#x27;poly&#x27;)</pre></div></div></div><div class=\"sk-serial\"><div class=\"sk-item\"><div class=\"sk-estimator sk-toggleable\"><input class=\"sk-toggleable__control sk-hidden--visually\" id=\"sk-estimator-id-3\" type=\"checkbox\" ><label for=\"sk-estimator-id-3\" class=\"sk-toggleable__label sk-toggleable__label-arrow\">SVC</label><div class=\"sk-toggleable__content\"><pre>SVC(degree=2, kernel=&#x27;poly&#x27;)</pre></div></div></div></div></div></div></div></div></div></div>"
            ]
          },
          "metadata": {},
          "execution_count": 117
        }
      ]
    },
    {
      "cell_type": "markdown",
      "source": [
        "We obtain the best values of the hyperparameters, we print the accuracy values of the different combinations and get the best score."
      ],
      "metadata": {
        "id": "BsS-cfldQv9v"
      }
    },
    {
      "cell_type": "code",
      "source": [
        "grid_search.best_params_"
      ],
      "metadata": {
        "id": "Bitz_GKNko8r",
        "colab": {
          "base_uri": "https://localhost:8080/"
        },
        "outputId": "dc2f37de-cc3e-44e8-be6f-d955ed77f320"
      },
      "execution_count": null,
      "outputs": [
        {
          "output_type": "execute_result",
          "data": {
            "text/plain": [
              "{'C': 1, 'coef0': 1}"
            ]
          },
          "metadata": {},
          "execution_count": 118
        }
      ]
    },
    {
      "cell_type": "code",
      "source": [
        "cvres = grid_search.cv_results_\n",
        "\n",
        "for mean_score, params in zip(cvres['mean_test_score'], cvres['params']):\n",
        "    print('{}, {}'.format(mean_score, params))"
      ],
      "metadata": {
        "id": "K4KNsg22krpD",
        "colab": {
          "base_uri": "https://localhost:8080/"
        },
        "outputId": "1c4f5404-f0e8-4e70-ad11-e0f44d39fc52"
      },
      "execution_count": null,
      "outputs": [
        {
          "output_type": "stream",
          "name": "stdout",
          "text": [
            "0.7997249560260772, {'C': 0.1, 'coef0': 0.1}\n",
            "0.8001852022578112, {'C': 0.1, 'coef0': 1}\n",
            "0.8014504426534863, {'C': 0.1, 'coef0': 10}\n",
            "0.801565543915201, {'C': 1, 'coef0': 0.1}\n",
            "0.8027160006794111, {'C': 1, 'coef0': 1}\n",
            "0.8020255916280289, {'C': 1, 'coef0': 10}\n",
            "0.7958142526886806, {'C': 10, 'coef0': 0.1}\n",
            "0.7970794533805745, {'C': 10, 'coef0': 1}\n",
            "0.7970794136767934, {'C': 10, 'coef0': 10}\n",
            "0.795009020302052, {'C': 100, 'coef0': 0.1}\n",
            "0.795009020302052, {'C': 100, 'coef0': 1}\n",
            "0.7948939190403373, {'C': 100, 'coef0': 10}\n"
          ]
        }
      ]
    },
    {
      "cell_type": "code",
      "source": [
        "grid_search.best_score_"
      ],
      "metadata": {
        "id": "LrFqygjn5eex",
        "colab": {
          "base_uri": "https://localhost:8080/"
        },
        "outputId": "9efe203f-6d11-41d5-f284-9ce52b00d1bd"
      },
      "execution_count": null,
      "outputs": [
        {
          "output_type": "execute_result",
          "data": {
            "text/plain": [
              "0.8027160006794111"
            ]
          },
          "metadata": {},
          "execution_count": 120
        }
      ]
    },
    {
      "cell_type": "markdown",
      "source": [
        "We use the best estimator to predict the categories of the test set and form it into a *DataFrame* to send to *Kaggle*."
      ],
      "metadata": {
        "id": "wZmQPV4HQ-oM"
      }
    },
    {
      "cell_type": "code",
      "source": [
        "best_svm_clf = grid_search.best_estimator_"
      ],
      "metadata": {
        "id": "_WXt7QWnlDm7"
      },
      "execution_count": null,
      "outputs": []
    },
    {
      "cell_type": "code",
      "source": [
        "y_hat_test = best_svm_clf.predict(X_test_n)"
      ],
      "metadata": {
        "id": "-h_ywxuslKSy"
      },
      "execution_count": null,
      "outputs": []
    },
    {
      "cell_type": "code",
      "source": [
        "y_hat_test = y_hat_test.astype(bool)"
      ],
      "metadata": {
        "id": "h6euxDUSlSg8"
      },
      "execution_count": null,
      "outputs": []
    },
    {
      "cell_type": "code",
      "source": [
        "submission = pd.DataFrame([X_test['PassengerId'], y_hat_test]).T"
      ],
      "metadata": {
        "id": "FhkCv4CGlUd3"
      },
      "execution_count": null,
      "outputs": []
    },
    {
      "cell_type": "code",
      "source": [
        "submission.columns = ['PassengerId', 'Transported']"
      ],
      "metadata": {
        "id": "vTD_wmeolYat"
      },
      "execution_count": null,
      "outputs": []
    },
    {
      "cell_type": "code",
      "source": [
        "submission.head()"
      ],
      "metadata": {
        "id": "Xl0TxJgSla_D",
        "colab": {
          "base_uri": "https://localhost:8080/",
          "height": 206
        },
        "outputId": "a0e130cb-d839-46f7-bc86-1f4cb2f47579"
      },
      "execution_count": null,
      "outputs": [
        {
          "output_type": "execute_result",
          "data": {
            "text/plain": [
              "  PassengerId Transported\n",
              "0     0013_01        True\n",
              "1     0018_01       False\n",
              "2     0019_01        True\n",
              "3     0021_01        True\n",
              "4     0023_01        True"
            ],
            "text/html": [
              "\n",
              "  <div id=\"df-8ecf58d1-425b-4f70-a012-bf7dcc5191f4\" class=\"colab-df-container\">\n",
              "    <div>\n",
              "<style scoped>\n",
              "    .dataframe tbody tr th:only-of-type {\n",
              "        vertical-align: middle;\n",
              "    }\n",
              "\n",
              "    .dataframe tbody tr th {\n",
              "        vertical-align: top;\n",
              "    }\n",
              "\n",
              "    .dataframe thead th {\n",
              "        text-align: right;\n",
              "    }\n",
              "</style>\n",
              "<table border=\"1\" class=\"dataframe\">\n",
              "  <thead>\n",
              "    <tr style=\"text-align: right;\">\n",
              "      <th></th>\n",
              "      <th>PassengerId</th>\n",
              "      <th>Transported</th>\n",
              "    </tr>\n",
              "  </thead>\n",
              "  <tbody>\n",
              "    <tr>\n",
              "      <th>0</th>\n",
              "      <td>0013_01</td>\n",
              "      <td>True</td>\n",
              "    </tr>\n",
              "    <tr>\n",
              "      <th>1</th>\n",
              "      <td>0018_01</td>\n",
              "      <td>False</td>\n",
              "    </tr>\n",
              "    <tr>\n",
              "      <th>2</th>\n",
              "      <td>0019_01</td>\n",
              "      <td>True</td>\n",
              "    </tr>\n",
              "    <tr>\n",
              "      <th>3</th>\n",
              "      <td>0021_01</td>\n",
              "      <td>True</td>\n",
              "    </tr>\n",
              "    <tr>\n",
              "      <th>4</th>\n",
              "      <td>0023_01</td>\n",
              "      <td>True</td>\n",
              "    </tr>\n",
              "  </tbody>\n",
              "</table>\n",
              "</div>\n",
              "    <div class=\"colab-df-buttons\">\n",
              "\n",
              "  <div class=\"colab-df-container\">\n",
              "    <button class=\"colab-df-convert\" onclick=\"convertToInteractive('df-8ecf58d1-425b-4f70-a012-bf7dcc5191f4')\"\n",
              "            title=\"Convert this dataframe to an interactive table.\"\n",
              "            style=\"display:none;\">\n",
              "\n",
              "  <svg xmlns=\"http://www.w3.org/2000/svg\" height=\"24px\" viewBox=\"0 -960 960 960\">\n",
              "    <path d=\"M120-120v-720h720v720H120Zm60-500h600v-160H180v160Zm220 220h160v-160H400v160Zm0 220h160v-160H400v160ZM180-400h160v-160H180v160Zm440 0h160v-160H620v160ZM180-180h160v-160H180v160Zm440 0h160v-160H620v160Z\"/>\n",
              "  </svg>\n",
              "    </button>\n",
              "\n",
              "  <style>\n",
              "    .colab-df-container {\n",
              "      display:flex;\n",
              "      gap: 12px;\n",
              "    }\n",
              "\n",
              "    .colab-df-convert {\n",
              "      background-color: #E8F0FE;\n",
              "      border: none;\n",
              "      border-radius: 50%;\n",
              "      cursor: pointer;\n",
              "      display: none;\n",
              "      fill: #1967D2;\n",
              "      height: 32px;\n",
              "      padding: 0 0 0 0;\n",
              "      width: 32px;\n",
              "    }\n",
              "\n",
              "    .colab-df-convert:hover {\n",
              "      background-color: #E2EBFA;\n",
              "      box-shadow: 0px 1px 2px rgba(60, 64, 67, 0.3), 0px 1px 3px 1px rgba(60, 64, 67, 0.15);\n",
              "      fill: #174EA6;\n",
              "    }\n",
              "\n",
              "    .colab-df-buttons div {\n",
              "      margin-bottom: 4px;\n",
              "    }\n",
              "\n",
              "    [theme=dark] .colab-df-convert {\n",
              "      background-color: #3B4455;\n",
              "      fill: #D2E3FC;\n",
              "    }\n",
              "\n",
              "    [theme=dark] .colab-df-convert:hover {\n",
              "      background-color: #434B5C;\n",
              "      box-shadow: 0px 1px 3px 1px rgba(0, 0, 0, 0.15);\n",
              "      filter: drop-shadow(0px 1px 2px rgba(0, 0, 0, 0.3));\n",
              "      fill: #FFFFFF;\n",
              "    }\n",
              "  </style>\n",
              "\n",
              "    <script>\n",
              "      const buttonEl =\n",
              "        document.querySelector('#df-8ecf58d1-425b-4f70-a012-bf7dcc5191f4 button.colab-df-convert');\n",
              "      buttonEl.style.display =\n",
              "        google.colab.kernel.accessAllowed ? 'block' : 'none';\n",
              "\n",
              "      async function convertToInteractive(key) {\n",
              "        const element = document.querySelector('#df-8ecf58d1-425b-4f70-a012-bf7dcc5191f4');\n",
              "        const dataTable =\n",
              "          await google.colab.kernel.invokeFunction('convertToInteractive',\n",
              "                                                    [key], {});\n",
              "        if (!dataTable) return;\n",
              "\n",
              "        const docLinkHtml = 'Like what you see? Visit the ' +\n",
              "          '<a target=\"_blank\" href=https://colab.research.google.com/notebooks/data_table.ipynb>data table notebook</a>'\n",
              "          + ' to learn more about interactive tables.';\n",
              "        element.innerHTML = '';\n",
              "        dataTable['output_type'] = 'display_data';\n",
              "        await google.colab.output.renderOutput(dataTable, element);\n",
              "        const docLink = document.createElement('div');\n",
              "        docLink.innerHTML = docLinkHtml;\n",
              "        element.appendChild(docLink);\n",
              "      }\n",
              "    </script>\n",
              "  </div>\n",
              "\n",
              "\n",
              "<div id=\"df-c8383298-3ea9-475c-afd7-b3380b22040d\">\n",
              "  <button class=\"colab-df-quickchart\" onclick=\"quickchart('df-c8383298-3ea9-475c-afd7-b3380b22040d')\"\n",
              "            title=\"Suggest charts\"\n",
              "            style=\"display:none;\">\n",
              "\n",
              "<svg xmlns=\"http://www.w3.org/2000/svg\" height=\"24px\"viewBox=\"0 0 24 24\"\n",
              "     width=\"24px\">\n",
              "    <g>\n",
              "        <path d=\"M19 3H5c-1.1 0-2 .9-2 2v14c0 1.1.9 2 2 2h14c1.1 0 2-.9 2-2V5c0-1.1-.9-2-2-2zM9 17H7v-7h2v7zm4 0h-2V7h2v10zm4 0h-2v-4h2v4z\"/>\n",
              "    </g>\n",
              "</svg>\n",
              "  </button>\n",
              "\n",
              "<style>\n",
              "  .colab-df-quickchart {\n",
              "      --bg-color: #E8F0FE;\n",
              "      --fill-color: #1967D2;\n",
              "      --hover-bg-color: #E2EBFA;\n",
              "      --hover-fill-color: #174EA6;\n",
              "      --disabled-fill-color: #AAA;\n",
              "      --disabled-bg-color: #DDD;\n",
              "  }\n",
              "\n",
              "  [theme=dark] .colab-df-quickchart {\n",
              "      --bg-color: #3B4455;\n",
              "      --fill-color: #D2E3FC;\n",
              "      --hover-bg-color: #434B5C;\n",
              "      --hover-fill-color: #FFFFFF;\n",
              "      --disabled-bg-color: #3B4455;\n",
              "      --disabled-fill-color: #666;\n",
              "  }\n",
              "\n",
              "  .colab-df-quickchart {\n",
              "    background-color: var(--bg-color);\n",
              "    border: none;\n",
              "    border-radius: 50%;\n",
              "    cursor: pointer;\n",
              "    display: none;\n",
              "    fill: var(--fill-color);\n",
              "    height: 32px;\n",
              "    padding: 0;\n",
              "    width: 32px;\n",
              "  }\n",
              "\n",
              "  .colab-df-quickchart:hover {\n",
              "    background-color: var(--hover-bg-color);\n",
              "    box-shadow: 0 1px 2px rgba(60, 64, 67, 0.3), 0 1px 3px 1px rgba(60, 64, 67, 0.15);\n",
              "    fill: var(--button-hover-fill-color);\n",
              "  }\n",
              "\n",
              "  .colab-df-quickchart-complete:disabled,\n",
              "  .colab-df-quickchart-complete:disabled:hover {\n",
              "    background-color: var(--disabled-bg-color);\n",
              "    fill: var(--disabled-fill-color);\n",
              "    box-shadow: none;\n",
              "  }\n",
              "\n",
              "  .colab-df-spinner {\n",
              "    border: 2px solid var(--fill-color);\n",
              "    border-color: transparent;\n",
              "    border-bottom-color: var(--fill-color);\n",
              "    animation:\n",
              "      spin 1s steps(1) infinite;\n",
              "  }\n",
              "\n",
              "  @keyframes spin {\n",
              "    0% {\n",
              "      border-color: transparent;\n",
              "      border-bottom-color: var(--fill-color);\n",
              "      border-left-color: var(--fill-color);\n",
              "    }\n",
              "    20% {\n",
              "      border-color: transparent;\n",
              "      border-left-color: var(--fill-color);\n",
              "      border-top-color: var(--fill-color);\n",
              "    }\n",
              "    30% {\n",
              "      border-color: transparent;\n",
              "      border-left-color: var(--fill-color);\n",
              "      border-top-color: var(--fill-color);\n",
              "      border-right-color: var(--fill-color);\n",
              "    }\n",
              "    40% {\n",
              "      border-color: transparent;\n",
              "      border-right-color: var(--fill-color);\n",
              "      border-top-color: var(--fill-color);\n",
              "    }\n",
              "    60% {\n",
              "      border-color: transparent;\n",
              "      border-right-color: var(--fill-color);\n",
              "    }\n",
              "    80% {\n",
              "      border-color: transparent;\n",
              "      border-right-color: var(--fill-color);\n",
              "      border-bottom-color: var(--fill-color);\n",
              "    }\n",
              "    90% {\n",
              "      border-color: transparent;\n",
              "      border-bottom-color: var(--fill-color);\n",
              "    }\n",
              "  }\n",
              "</style>\n",
              "\n",
              "  <script>\n",
              "    async function quickchart(key) {\n",
              "      const quickchartButtonEl =\n",
              "        document.querySelector('#' + key + ' button');\n",
              "      quickchartButtonEl.disabled = true;  // To prevent multiple clicks.\n",
              "      quickchartButtonEl.classList.add('colab-df-spinner');\n",
              "      try {\n",
              "        const charts = await google.colab.kernel.invokeFunction(\n",
              "            'suggestCharts', [key], {});\n",
              "      } catch (error) {\n",
              "        console.error('Error during call to suggestCharts:', error);\n",
              "      }\n",
              "      quickchartButtonEl.classList.remove('colab-df-spinner');\n",
              "      quickchartButtonEl.classList.add('colab-df-quickchart-complete');\n",
              "    }\n",
              "    (() => {\n",
              "      let quickchartButtonEl =\n",
              "        document.querySelector('#df-c8383298-3ea9-475c-afd7-b3380b22040d button');\n",
              "      quickchartButtonEl.style.display =\n",
              "        google.colab.kernel.accessAllowed ? 'block' : 'none';\n",
              "    })();\n",
              "  </script>\n",
              "</div>\n",
              "\n",
              "    </div>\n",
              "  </div>\n"
            ]
          },
          "metadata": {},
          "execution_count": 126
        }
      ]
    },
    {
      "cell_type": "markdown",
      "source": [
        "#SUBMIT TO KAGGLE"
      ],
      "metadata": {
        "id": "5AVWpWhuknJj"
      }
    },
    {
      "cell_type": "code",
      "source": [
        "submission.to_csv('kaggle_submission.csv', index=False)"
      ],
      "metadata": {
        "id": "meagZH67lcOe"
      },
      "execution_count": null,
      "outputs": []
    },
    {
      "cell_type": "code",
      "source": [
        "!kaggle competitions submit -c spaceship-titanic -f \"kaggle_submission.csv\" -m \"SVM\""
      ],
      "metadata": {
        "id": "9AxiCdoEleYw"
      },
      "execution_count": null,
      "outputs": []
    },
    {
      "cell_type": "markdown",
      "source": [
        "An accuracy of $0.80406$ in the test set is obtained, which places us in $437$st place out of $2751$ participants."
      ],
      "metadata": {
        "id": "8ruo4E_jR2vi"
      }
    },
    {
      "cell_type": "markdown",
      "source": [
        "![image.png](data:image/png;base64,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)"
      ],
      "metadata": {
        "id": "N2HusMV8Rv_z"
      }
    }
  ],
  "metadata": {
    "colab": {
      "provenance": [],
      "authorship_tag": "ABX9TyNZbO18BmPeILajhg+5PCd9",
      "include_colab_link": true
    },
    "kernelspec": {
      "display_name": "Python 3",
      "name": "python3"
    },
    "language_info": {
      "name": "python"
    }
  },
  "nbformat": 4,
  "nbformat_minor": 0
}